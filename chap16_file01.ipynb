{
  "nbformat": 4,
  "nbformat_minor": 0,
  "metadata": {
    "colab": {
      "provenance": []
    },
    "kernelspec": {
      "name": "python3",
      "display_name": "Python 3"
    },
    "language_info": {
      "name": "python"
    }
  },
  "cells": [
    {
      "cell_type": "markdown",
      "source": [
        "**Examples**"
      ],
      "metadata": {
        "id": "GLsn6h4Es_Uo"
      }
    },
    {
      "cell_type": "markdown",
      "source": [
        "Adding Milk"
      ],
      "metadata": {
        "id": "4JGKr83GtBEf"
      }
    },
    {
      "cell_type": "code",
      "execution_count": 1,
      "metadata": {
        "colab": {
          "base_uri": "https://localhost:8080/"
        },
        "id": "mFY-mp-6stxD",
        "outputId": "4991b56f-d6dd-4748-81ed-94b16b8e13bf"
      },
      "outputs": [
        {
          "output_type": "stream",
          "name": "stdout",
          "text": [
            "Downloaded modsim.py\n"
          ]
        }
      ],
      "source": [
        "from os.path import basename, exists\n",
        "\n",
        "def download(url):\n",
        "    filename = basename(url)\n",
        "    if not exists(filename):\n",
        "        from urllib.request import urlretrieve\n",
        "        local, _ = urlretrieve(url, filename)\n",
        "        print('Downloaded ' + local)\n",
        "\n",
        "download('https://github.com/AllenDowney/ModSimPy/raw/master/' +\n",
        "         'modsim.py')"
      ]
    },
    {
      "cell_type": "code",
      "source": [
        "from modsim import *"
      ],
      "metadata": {
        "id": "6-MGfcuds4bg"
      },
      "execution_count": 2,
      "outputs": []
    },
    {
      "cell_type": "code",
      "source": [
        "download('https://github.com/AllenDowney/ModSimPy/raw/master/' +\n",
        "         'chap15.py')"
      ],
      "metadata": {
        "colab": {
          "base_uri": "https://localhost:8080/"
        },
        "id": "lS3YL1F8s57v",
        "outputId": "cbc65f2b-120c-4599-b62e-c69d5e643437"
      },
      "execution_count": 3,
      "outputs": [
        {
          "output_type": "stream",
          "name": "stdout",
          "text": [
            "Downloaded chap15.py\n"
          ]
        }
      ]
    },
    {
      "cell_type": "code",
      "source": [
        "from chap15 import change_func\n",
        "from chap15 import run_simulation\n",
        "from chap15 import make_system"
      ],
      "metadata": {
        "id": "y5A7dgfps8Bn"
      },
      "execution_count": 4,
      "outputs": []
    },
    {
      "cell_type": "markdown",
      "source": [
        "Mixing Liquids"
      ],
      "metadata": {
        "id": "3T5jU7VItKX2"
      }
    },
    {
      "cell_type": "code",
      "source": [
        "def mix(system1, system2):\n",
        "\n",
        "    vol1, vol2 = system1.volume, system2.volume\n",
        "    temp1, temp2 = system1.T_final, system2.T_final\n",
        "\n",
        "    V_mix = vol1 + vol2\n",
        "    T_mix = (vol1 * temp1 + vol2 * temp2) / V_mix\n",
        "\n",
        "    return make_system(T_init=T_mix,\n",
        "                       volume=V_mix,\n",
        "                       r=system1.r,\n",
        "                       t_end=25)"
      ],
      "metadata": {
        "id": "qGnGrKJ2s9uP"
      },
      "execution_count": 5,
      "outputs": []
    },
    {
      "cell_type": "markdown",
      "source": [
        "Mix First or Last?"
      ],
      "metadata": {
        "id": "biuasyBmtS01"
      }
    },
    {
      "cell_type": "code",
      "source": [
        "r_coffee = 0.0120\n",
        "coffee = make_system(T_init=95, volume=350, r=r_coffee, t_end=25)\n",
        "r_milk = 0.135\n",
        "milk = make_system(T_init=3, volume=60, r=r_milk, t_end=17)\n",
        "mix_first = mix(coffee, milk)\n",
        "run_simulation(mix_first, change_func)\n",
        "mix_first.T_final"
      ],
      "metadata": {
        "colab": {
          "base_uri": "https://localhost:8080/"
        },
        "id": "gbykj6lUtTPd",
        "outputId": "2923b701-776e-4be0-ed10-b44ce20b04e6"
      },
      "execution_count": 6,
      "outputs": [
        {
          "output_type": "execute_result",
          "data": {
            "text/plain": [
              "66.02582849004139"
            ]
          },
          "metadata": {},
          "execution_count": 6
        }
      ]
    },
    {
      "cell_type": "code",
      "source": [
        "run_simulation(coffee, change_func)\n",
        "run_simulation(milk, change_func)\n",
        "mix_last = mix(coffee, milk)\n",
        "mix_last.T_final"
      ],
      "metadata": {
        "colab": {
          "base_uri": "https://localhost:8080/"
        },
        "id": "hnRYyQlttYod",
        "outputId": "335fe16e-ace3-4540-c935-ef3b00e72a88"
      },
      "execution_count": 7,
      "outputs": [
        {
          "output_type": "execute_result",
          "data": {
            "text/plain": [
              "67.84566775686048"
            ]
          },
          "metadata": {},
          "execution_count": 7
        }
      ]
    },
    {
      "cell_type": "markdown",
      "source": [
        "Optimal Timing"
      ],
      "metadata": {
        "id": "R0-gANKXtbcd"
      }
    },
    {
      "cell_type": "code",
      "source": [
        "def run_and_mix(t_add, t_total):\n",
        "    coffee.t_end = t_add\n",
        "    coffee_results = run_simulation(coffee, change_func)\n",
        "\n",
        "    milk.t_end = t_add\n",
        "    milk_results = run_simulation(milk, change_func)\n",
        "\n",
        "    mixture = mix(coffee, milk)\n",
        "    mixture.t_end = t_total - t_add\n",
        "    results = run_simulation(mixture, change_func)\n",
        "\n",
        "    return mixture.T_final"
      ],
      "metadata": {
        "id": "hFZX5LYutc79"
      },
      "execution_count": 8,
      "outputs": []
    },
    {
      "cell_type": "code",
      "source": [
        "sweep = SweepSeries()\n",
        "for t_add in linspace(0, 30, 11):\n",
        "    sweep[t_add] = run_and_mix(t_add, 30)\n",
        "sweep.plot(label='mixture', color='C2')\n",
        "decorate(xlabel='Time until mixing (min)',\n",
        "         ylabel='Final temperature (C)')"
      ],
      "metadata": {
        "colab": {
          "base_uri": "https://localhost:8080/",
          "height": 309
        },
        "id": "nPsVTPsMtfUk",
        "outputId": "c8e4e2bd-0116-4266-c0b6-da1cd3e78ce0"
      },
      "execution_count": 9,
      "outputs": [
        {
          "output_type": "display_data",
          "data": {
            "text/plain": [
              "<Figure size 450x300 with 1 Axes>"
            ],
            "image/png": "[encoded data removed]"
          },
          "metadata": {}
        }
      ]
    },
    {
      "cell_type": "markdown",
      "source": [
        "Analytic Solution"
      ],
      "metadata": {
        "id": "sF4nJh5Itn5E"
      }
    },
    {
      "cell_type": "code",
      "source": [
        "from numpy import log\n",
        "\n",
        "def compute_r(system):\n",
        "    t_end = system.t_end\n",
        "    T_init = system.T_init\n",
        "    T_final = system.T_final\n",
        "    T_env = system.T_env\n",
        "\n",
        "    r = log((T_init - T_env) / (T_final - T_env)) / t_end\n",
        "    return r"
      ],
      "metadata": {
        "id": "D75B3-dxtoik"
      },
      "execution_count": 10,
      "outputs": []
    },
    {
      "cell_type": "code",
      "source": [
        "coffee2 = make_system(T_init=90, volume=300, r=0, t_end=30)\n",
        "coffee2.T_final = 70\n",
        "r_coffee2 = compute_r(coffee2)\n",
        "r_coffee2"
      ],
      "metadata": {
        "colab": {
          "base_uri": "https://localhost:8080/"
        },
        "id": "z0JPy9rstrHD",
        "outputId": "ad8bd7d3-e747-4dbd-f833-5159e046fea2"
      },
      "execution_count": 11,
      "outputs": [
        {
          "output_type": "execute_result",
          "data": {
            "text/plain": [
              "0.01161022314227386"
            ]
          },
          "metadata": {},
          "execution_count": 11
        }
      ]
    },
    {
      "cell_type": "code",
      "source": [
        "from numpy import exp\n",
        "\n",
        "def run_analysis(system):\n",
        "    T_env, T_init, r = system.T_env, system.T_init, system.r\n",
        "\n",
        "    t_array = linrange(system.t_0, system.t_end, system.dt)\n",
        "    T_array = T_env + (T_init - T_env) * exp(-r * t_array)\n",
        "\n",
        "    system.T_final = T_array[-1]\n",
        "    return make_series(t_array, T_array)"
      ],
      "metadata": {
        "id": "GzgAPLxBttXz"
      },
      "execution_count": 12,
      "outputs": []
    },
    {
      "cell_type": "code",
      "source": [
        "coffee2.r = r_coffee2\n",
        "results2 = run_analysis(coffee2)\n",
        "coffee2.T_final"
      ],
      "metadata": {
        "colab": {
          "base_uri": "https://localhost:8080/"
        },
        "id": "0BMbjIxEtvLr",
        "outputId": "a4bdaf55-07a3-4d8d-c958-9496c03159f6"
      },
      "execution_count": 13,
      "outputs": [
        {
          "output_type": "execute_result",
          "data": {
            "text/plain": [
              "70.0"
            ]
          },
          "metadata": {},
          "execution_count": 13
        }
      ]
    },
    {
      "cell_type": "code",
      "source": [
        "coffee.r = 0.011543\n",
        "results = run_simulation(coffee, change_func)\n",
        "\n",
        "from numpy import allclose\n",
        "\n",
        "allclose(results, results2)"
      ],
      "metadata": {
        "colab": {
          "base_uri": "https://localhost:8080/"
        },
        "id": "LyeHAYR1txOa",
        "outputId": "ce69a245-0060-4b31-aee9-2edaac3957eb"
      },
      "execution_count": 14,
      "outputs": [
        {
          "output_type": "execute_result",
          "data": {
            "text/plain": [
              "False"
            ]
          },
          "metadata": {},
          "execution_count": 14
        }
      ]
    },
    {
      "cell_type": "markdown",
      "source": [
        "**Exercises**"
      ],
      "metadata": {
        "id": "QopkgprKt2SY"
      }
    },
    {
      "cell_type": "markdown",
      "source": [
        "Exercise 1"
      ],
      "metadata": {
        "id": "i6NXVMLFt70C"
      }
    },
    {
      "cell_type": "code",
      "source": [
        "second_milk_sys = make_system(T_init=4, volume=70, r=0, t_end=20)\n",
        "second_milk_sys.T_final = 20\n",
        "r_second_milk_sys = compute_r(second_milk_sys)\n",
        "r_second_milk_sys\n",
        "second_milk_sys = make_system(T_init=4, volume=70, r=r_second_milk_sys, t_end=20)\n",
        "results2 = run_analysis(second_milk_sys)\n",
        "second_milk_sys.T_final\n",
        "milk = make_system(T_init=4, volume=70, r=0.13296, t_end=20)\n",
        "results = run_simulation(milk, change_func)\n",
        "from numpy import allclose\n",
        "allclose(results, results2)"
      ],
      "metadata": {
        "colab": {
          "base_uri": "https://localhost:8080/"
        },
        "id": "kXV7ROSyt5fZ",
        "outputId": "20ae0c2d-adb2-42a8-92e9-2f09205e003d"
      },
      "execution_count": 17,
      "outputs": [
        {
          "output_type": "execute_result",
          "data": {
            "text/plain": [
              "False"
            ]
          },
          "metadata": {},
          "execution_count": 17
        }
      ]
    },
    {
      "cell_type": "markdown",
      "source": [
        "Exercise 2"
      ],
      "metadata": {
        "id": "cu5QMItut_jh"
      }
    },
    {
      "cell_type": "code",
      "source": [
        "#Refrigerator keeps the milk at a constant temperature, a container with r = 0.\n",
        "#T_init=4 and r_milk = 0, best to add milk at the coffee shop."
      ],
      "metadata": {
        "id": "AxrSBl1OuAuQ"
      },
      "execution_count": 18,
      "outputs": []
    }
  ]
}