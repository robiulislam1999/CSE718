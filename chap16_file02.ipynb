{
  "nbformat": 4,
  "nbformat_minor": 0,
  "metadata": {
    "colab": {
      "provenance": []
    },
    "kernelspec": {
      "name": "python3",
      "display_name": "Python 3"
    },
    "language_info": {
      "name": "python"
    }
  },
  "cells": [
    {
      "cell_type": "markdown",
      "source": [
        "**Examples**"
      ],
      "metadata": {
        "id": "GLsn6h4Es_Uo"
      }
    },
    {
      "cell_type": "markdown",
      "source": [
        "Adding Sugar"
      ],
      "metadata": {
        "id": "4JGKr83GtBEf"
      }
    },
    {
      "cell_type": "code",
      "execution_count": 1,
      "metadata": {
        "colab": {
          "base_uri": "https://localhost:8080/"
        },
        "id": "mFY-mp-6stxD",
        "outputId": "e6c2ef36-30aa-4f21-a84d-cbc085987508"
      },
      "outputs": [
        {
          "output_type": "stream",
          "name": "stdout",
          "text": [
            "Downloaded modsim.py\n"
          ]
        }
      ],
      "source": [
        "from os.path import basename, exists\n",
        "\n",
        "def download(url):\n",
        "    filename = basename(url)\n",
        "    if not exists(filename):\n",
        "        from urllib.request import urlretrieve\n",
        "        local, _ = urlretrieve(url, filename)\n",
        "        print('Downloaded ' + local)\n",
        "download('https://github.com/AllenDowney/ModSimPy/raw/master/' +\n",
        "         'modsim.py')"
      ]
    },
    {
      "cell_type": "code",
      "source": [
        "from modsim import *"
      ],
      "metadata": {
        "id": "6-MGfcuds4bg"
      },
      "execution_count": 2,
      "outputs": []
    },
    {
      "cell_type": "code",
      "source": [
        "download('https://github.com/AllenDowney/ModSimPy/raw/master/' +\n",
        "         'chap15.py')"
      ],
      "metadata": {
        "colab": {
          "base_uri": "https://localhost:8080/"
        },
        "id": "lS3YL1F8s57v",
        "outputId": "05b0f48b-f25b-4f7a-c8ef-7f1b2d845ff3"
      },
      "execution_count": 3,
      "outputs": [
        {
          "output_type": "stream",
          "name": "stdout",
          "text": [
            "Downloaded chap15.py\n"
          ]
        }
      ]
    },
    {
      "cell_type": "code",
      "source": [
        "from chap15 import change_func\n",
        "from chap15 import run_simulation\n",
        "from chap15 import make_system"
      ],
      "metadata": {
        "id": "y5A7dgfps8Bn"
      },
      "execution_count": 4,
      "outputs": []
    },
    {
      "cell_type": "markdown",
      "source": [
        "Mixing Liquids"
      ],
      "metadata": {
        "id": "3T5jU7VItKX2"
      }
    },
    {
      "cell_type": "code",
      "source": [
        "def mix(system1, system2):\n",
        "\n",
        "    vola, volb = system1.volume, system2.volume\n",
        "    tempA, tempB = system1.T_final, system2.T_final\n",
        "\n",
        "    V_mix = vola + volb\n",
        "    T_mix = (vola * tempA + volb * tempB) / V_mix\n",
        "\n",
        "    return make_system(T_init=T_mix,\n",
        "                       volume=V_mix,\n",
        "                       r=system1.r,\n",
        "                       t_end=30)"
      ],
      "metadata": {
        "id": "qGnGrKJ2s9uP"
      },
      "execution_count": 5,
      "outputs": []
    },
    {
      "cell_type": "markdown",
      "source": [
        "Mix First or Last?"
      ],
      "metadata": {
        "id": "biuasyBmtS01"
      }
    },
    {
      "cell_type": "code",
      "source": [
        "r_tea = 0.25\n",
        "tea = make_system(T_init=10, volume=50, r=r_tea, t_end=25)\n",
        "r_sugar = 0.50\n",
        "sugar = make_system(T_init=10, volume=50, r=r_sugar, t_end=25)\n",
        "mix_first = mix(tea, sugar)\n",
        "run_simulation(mix_first, change_func)\n",
        "mix_first.T_final"
      ],
      "metadata": {
        "colab": {
          "base_uri": "https://localhost:8080/"
        },
        "id": "gbykj6lUtTPd",
        "outputId": "9686ce54-f41e-49e7-a6de-9aa3624ec0d2"
      },
      "execution_count": 24,
      "outputs": [
        {
          "output_type": "execute_result",
          "data": {
            "text/plain": [
              "21.99785701491796"
            ]
          },
          "metadata": {},
          "execution_count": 24
        }
      ]
    },
    {
      "cell_type": "code",
      "source": [
        "run_simulation(tea, change_func)\n",
        "run_simulation(sugar, change_func)\n",
        "mix_last = mix(tea, sugar)\n",
        "mix_last.T_final"
      ],
      "metadata": {
        "colab": {
          "base_uri": "https://localhost:8080/"
        },
        "id": "hnRYyQlttYod",
        "outputId": "5b4a1522-3168-4e19-a0dd-31e0dab2bf3e"
      },
      "execution_count": 25,
      "outputs": [
        {
          "output_type": "execute_result",
          "data": {
            "text/plain": [
              "21.995484560437077"
            ]
          },
          "metadata": {},
          "execution_count": 25
        }
      ]
    },
    {
      "cell_type": "markdown",
      "source": [
        "Optimal Timing"
      ],
      "metadata": {
        "id": "R0-gANKXtbcd"
      }
    },
    {
      "cell_type": "code",
      "source": [
        "def run_and_mix(t_add, t_total):\n",
        "    tea.t_end = t_add\n",
        "    tea_results = run_simulation(tea, change_func)\n",
        "\n",
        "    sugar.t_end = t_add\n",
        "    sugar_results = run_simulation(sugar, change_func)\n",
        "\n",
        "    mixture = mix(tea, sugar)\n",
        "    mixture.t_end = t_total - t_add\n",
        "    results = run_simulation(mixture, change_func)\n",
        "\n",
        "    return mixture.T_final"
      ],
      "metadata": {
        "id": "hFZX5LYutc79"
      },
      "execution_count": 26,
      "outputs": []
    },
    {
      "cell_type": "code",
      "source": [
        "sweep = SweepSeries()\n",
        "for t_add in linspace(0, 30, 20):\n",
        "    sweep[t_add] = run_and_mix(t_add, 30)\n",
        "sweep.plot(label='mixture', color='C2')\n",
        "decorate(xlabel='Time until mixing (min)',\n",
        "         ylabel='Final temperature (C)')"
      ],
      "metadata": {
        "colab": {
          "base_uri": "https://localhost:8080/",
          "height": 309
        },
        "id": "nPsVTPsMtfUk",
        "outputId": "f75410f3-d4fa-4f19-b101-f4488f1ca2a5"
      },
      "execution_count": 27,
      "outputs": [
        {
          "output_type": "display_data",
          "data": {
            "text/plain": [
              "<Figure size 450x300 with 1 Axes>"
            ],
            "image/png": "[encoded data removed]"
          },
          "metadata": {}
        }
      ]
    },
    {
      "cell_type": "markdown",
      "source": [
        "Analytic Solution"
      ],
      "metadata": {
        "id": "sF4nJh5Itn5E"
      }
    },
    {
      "cell_type": "code",
      "source": [
        "from numpy import log\n",
        "\n",
        "def compute_r(system):\n",
        "    t_end = system.t_end\n",
        "    T_init = system.T_init\n",
        "    T_final = system.T_final\n",
        "    T_env = system.T_env\n",
        "\n",
        "    r = log((T_init - T_env) / (T_final - T_env)) / t_end\n",
        "    return r"
      ],
      "metadata": {
        "id": "D75B3-dxtoik"
      },
      "execution_count": 28,
      "outputs": []
    },
    {
      "cell_type": "code",
      "source": [
        "tea2 = make_system(T_init=95, volume=100, r=0, t_end=35)\n",
        "tea2.T_final = 50\n",
        "r_tea2 = compute_r(tea2)\n",
        "r_tea2"
      ],
      "metadata": {
        "colab": {
          "base_uri": "https://localhost:8080/"
        },
        "id": "z0JPy9rstrHD",
        "outputId": "7af193da-da6a-4d40-d6d2-55517d143ad2"
      },
      "execution_count": 29,
      "outputs": [
        {
          "output_type": "execute_result",
          "data": {
            "text/plain": [
              "0.027378712313519637"
            ]
          },
          "metadata": {},
          "execution_count": 29
        }
      ]
    },
    {
      "cell_type": "code",
      "source": [
        "from numpy import exp\n",
        "\n",
        "def run_analysis(system):\n",
        "    T_env, T_init, r = system.T_env, system.T_init, system.r\n",
        "\n",
        "    t_array = linrange(system.t_0, system.t_end, system.dt)\n",
        "    T_array = T_env + (T_init - T_env) * exp(-r * t_array)\n",
        "\n",
        "    system.T_final = T_array[-1]\n",
        "    return make_series(t_array, T_array)"
      ],
      "metadata": {
        "id": "GzgAPLxBttXz"
      },
      "execution_count": 30,
      "outputs": []
    },
    {
      "cell_type": "code",
      "source": [
        "tea2.r = r_tea2\n",
        "results2 = run_analysis(tea2)\n",
        "tea2.T_final"
      ],
      "metadata": {
        "colab": {
          "base_uri": "https://localhost:8080/"
        },
        "id": "0BMbjIxEtvLr",
        "outputId": "69f668cb-d441-4dd7-eea7-3888e116180a"
      },
      "execution_count": 31,
      "outputs": [
        {
          "output_type": "execute_result",
          "data": {
            "text/plain": [
              "50.0"
            ]
          },
          "metadata": {},
          "execution_count": 31
        }
      ]
    },
    {
      "cell_type": "code",
      "source": [
        "tea.r = 0.011543\n",
        "results = run_simulation(tea, change_func)\n",
        "results"
      ],
      "metadata": {
        "colab": {
          "base_uri": "https://localhost:8080/"
        },
        "id": "LyeHAYR1txOa",
        "outputId": "9510a15f-96c3-4abe-d7bd-69ad34cd938d"
      },
      "execution_count": 34,
      "outputs": [
        {
          "output_type": "execute_result",
          "data": {
            "text/plain": [
              "Time\n",
              "0.0     10.000000\n",
              "1.0     10.138516\n",
              "2.0     10.275433\n",
              "3.0     10.410770\n",
              "4.0     10.544544\n",
              "5.0     10.676775\n",
              "6.0     10.807479\n",
              "7.0     10.936674\n",
              "8.0     11.064378\n",
              "9.0     11.190608\n",
              "10.0    11.315381\n",
              "11.0    11.438713\n",
              "12.0    11.560622\n",
              "13.0    11.681124\n",
              "14.0    11.800235\n",
              "15.0    11.917970\n",
              "16.0    12.034347\n",
              "17.0    12.149381\n",
              "18.0    12.263087\n",
              "19.0    12.375480\n",
              "20.0    12.486576\n",
              "21.0    12.596389\n",
              "22.0    12.704935\n",
              "23.0    12.812228\n",
              "24.0    12.918282\n",
              "25.0    13.023113\n",
              "26.0    13.126733\n",
              "27.0    13.229157\n",
              "28.0    13.330399\n",
              "29.0    13.430472\n",
              "30.0    13.529390\n",
              "Name: Quantity, dtype: float64"
            ]
          },
          "metadata": {},
          "execution_count": 34
        }
      ]
    },
    {
      "cell_type": "markdown",
      "source": [
        "**Exercises**"
      ],
      "metadata": {
        "id": "QopkgprKt2SY"
      }
    },
    {
      "cell_type": "markdown",
      "source": [
        "Exercise 1"
      ],
      "metadata": {
        "id": "i6NXVMLFt70C"
      }
    },
    {
      "cell_type": "code",
      "source": [
        "second_sugar_sys = make_system(T_init=70, volume=60, r=0, t_end=10)\n",
        "second_sugar_sys.T_final = 25\n",
        "r_second_sugar_sys = compute_r(second_sugar_sys)\n",
        "r_second_sugar_sys\n",
        "second_sugar_sys = make_system(T_init=70, volume=60, r=r_second_sugar_sys, t_end=10)\n",
        "results2 = run_analysis(second_sugar_sys)\n",
        "second_sugar_sys.T_final\n",
        "sugar = make_system(T_init=70, volume=60, r=0.13296, t_end=10)\n",
        "results = run_simulation(sugar, change_func)\n",
        "from numpy import allclose\n",
        "allclose(results, results2)"
      ],
      "metadata": {
        "colab": {
          "base_uri": "https://localhost:8080/"
        },
        "id": "kXV7ROSyt5fZ",
        "outputId": "f8bc8e96-70f4-4d0f-d65c-47dad8d40898"
      },
      "execution_count": 35,
      "outputs": [
        {
          "output_type": "execute_result",
          "data": {
            "text/plain": [
              "False"
            ]
          },
          "metadata": {},
          "execution_count": 35
        }
      ]
    },
    {
      "cell_type": "markdown",
      "source": [
        "Exercise 2"
      ],
      "metadata": {
        "id": "cu5QMItut_jh"
      }
    },
    {
      "cell_type": "code",
      "source": [
        "#Refrigerator keeps the sugar at a constant temperature, a container where r = 0.\n",
        "#T_init=4 and r_sugar = 0, best to add sugar at the tea shop."
      ],
      "metadata": {
        "id": "AxrSBl1OuAuQ"
      },
      "execution_count": 36,
      "outputs": []
    }
  ]
}