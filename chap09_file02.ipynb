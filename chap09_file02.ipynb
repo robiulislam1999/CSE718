{
  "nbformat": 4,
  "nbformat_minor": 0,
  "metadata": {
    "colab": {
      "provenance": [],
      "include_colab_link": true
    },
    "kernelspec": {
      "name": "python3",
      "display_name": "Python 3"
    },
    "language_info": {
      "name": "python"
    }
  },
  "cells": [
    {
      "cell_type": "markdown",
      "metadata": {
        "id": "view-in-github",
        "colab_type": "text"
      },
      "source": [
        "<a href=\"https://colab.research.google.com/github/robiulislam1999/CSE718/blob/main/chap09_file02.ipynb\" target=\"_parent\"><img src=\"https://colab.research.google.com/assets/colab-badge.svg\" alt=\"Open In Colab\"/></a>"
      ]
    },
    {
      "cell_type": "markdown",
      "source": [
        "**Examples**"
      ],
      "metadata": {
        "id": "m8DcDuSHLIAD"
      }
    },
    {
      "cell_type": "markdown",
      "source": [
        "Analysis of Population Growth"
      ],
      "metadata": {
        "id": "1wL8V4CoLHuE"
      }
    },
    {
      "cell_type": "code",
      "execution_count": 1,
      "metadata": {
        "colab": {
          "base_uri": "https://localhost:8080/"
        },
        "id": "4RhKBlYrFl59",
        "outputId": "b427ebb8-a90b-4036-8f74-7a47c30eee41"
      },
      "outputs": [
        {
          "output_type": "stream",
          "name": "stdout",
          "text": [
            "Collecting pint\n",
            "  Downloading Pint-0.23-py3-none-any.whl (305 kB)\n",
            "\u001b[?25l     \u001b[90m━━━━━━━━━━━━━━━━━━━━━━━━━━━━━━━━━━━━━━━━\u001b[0m \u001b[32m0.0/305.0 kB\u001b[0m \u001b[31m?\u001b[0m eta \u001b[36m-:--:--\u001b[0m\r\u001b[2K     \u001b[91m━━━━━\u001b[0m\u001b[90m╺\u001b[0m\u001b[90m━━━━━━━━━━━━━━━━━━━━━━━━━━━━━━━━━━\u001b[0m \u001b[32m41.0/305.0 kB\u001b[0m \u001b[31m921.4 kB/s\u001b[0m eta \u001b[36m0:00:01\u001b[0m\r\u001b[2K     \u001b[91m━━━━━━━━━━━━━━━━━━━━━━━━━━━━━━━━━━━━━━\u001b[0m\u001b[91m╸\u001b[0m\u001b[90m━\u001b[0m \u001b[32m297.0/305.0 kB\u001b[0m \u001b[31m4.2 MB/s\u001b[0m eta \u001b[36m0:00:01\u001b[0m\r\u001b[2K     \u001b[90m━━━━━━━━━━━━━━━━━━━━━━━━━━━━━━━━━━━━━━━━\u001b[0m \u001b[32m305.0/305.0 kB\u001b[0m \u001b[31m3.8 MB/s\u001b[0m eta \u001b[36m0:00:00\u001b[0m\n",
            "\u001b[?25hRequirement already satisfied: typing-extensions in /usr/local/lib/python3.10/dist-packages (from pint) (4.5.0)\n",
            "Installing collected packages: pint\n",
            "Successfully installed pint-0.23\n"
          ]
        }
      ],
      "source": [
        "# install Pint if necessary\n",
        "\n",
        "try:\n",
        "    import pint\n",
        "except ImportError:\n",
        "    !pip install pint"
      ]
    },
    {
      "cell_type": "code",
      "source": [
        "# download modsim.py if necessary\n",
        "\n",
        "from os.path import basename, exists\n",
        "\n",
        "def download(url):\n",
        "    filename = basename(url)\n",
        "    if not exists(filename):\n",
        "        from urllib.request import urlretrieve\n",
        "        local, _ = urlretrieve(url, filename)\n",
        "        print('Downloaded ' + local)\n",
        "\n",
        "download('https://raw.githubusercontent.com/AllenDowney/' +\n",
        "         'ModSimPy/master/modsim.py')"
      ],
      "metadata": {
        "colab": {
          "base_uri": "https://localhost:8080/"
        },
        "id": "mFRM1_eBLNnC",
        "outputId": "b097f29a-0a3f-4fb5-c818-f7d0baf7562c"
      },
      "execution_count": 2,
      "outputs": [
        {
          "output_type": "stream",
          "name": "stdout",
          "text": [
            "Downloaded modsim.py\n"
          ]
        }
      ]
    },
    {
      "cell_type": "code",
      "source": [
        "# import functions from modsim\n",
        "\n",
        "from modsim import *"
      ],
      "metadata": {
        "id": "YPbt1Sl_L9QP"
      },
      "execution_count": 3,
      "outputs": []
    },
    {
      "cell_type": "markdown",
      "source": [
        "Analysis with SymPy"
      ],
      "metadata": {
        "id": "slBy9oOtL_ql"
      }
    },
    {
      "cell_type": "code",
      "source": [
        "from sympy import symbols\n",
        "q = symbols('q')\n",
        "exp = q-3\n",
        "exp"
      ],
      "metadata": {
        "colab": {
          "base_uri": "https://localhost:8080/",
          "height": 38
        },
        "id": "_5qvbDMRMALl",
        "outputId": "c76af8d9-089d-4657-f252-a577b2d33c73"
      },
      "execution_count": 4,
      "outputs": [
        {
          "output_type": "execute_result",
          "data": {
            "text/plain": [
              "q - 3"
            ],
            "text/latex": "$\\displaystyle q - 3$"
          },
          "metadata": {},
          "execution_count": 4
        }
      ]
    },
    {
      "cell_type": "code",
      "source": [
        "exp.subs(q, 3)\n",
        "from sympy import Function\n",
        "d = Function('d')\n",
        "d"
      ],
      "metadata": {
        "colab": {
          "base_uri": "https://localhost:8080/"
        },
        "id": "BZGcGNHVMIYU",
        "outputId": "6f94af1f-57ce-4e08-8a02-bb34aa9ae7b8"
      },
      "execution_count": 5,
      "outputs": [
        {
          "output_type": "execute_result",
          "data": {
            "text/plain": [
              "d"
            ]
          },
          "metadata": {},
          "execution_count": 5
        }
      ]
    },
    {
      "cell_type": "code",
      "source": [
        "d(q)"
      ],
      "metadata": {
        "colab": {
          "base_uri": "https://localhost:8080/",
          "height": 38
        },
        "id": "ONWv5uH0NZZc",
        "outputId": "2135f9f2-b290-4423-a629-991c722fd6ec"
      },
      "execution_count": 6,
      "outputs": [
        {
          "output_type": "execute_result",
          "data": {
            "text/plain": [
              "d(q)"
            ],
            "text/latex": "$\\displaystyle d{\\left(q \\right)}$"
          },
          "metadata": {},
          "execution_count": 6
        }
      ]
    },
    {
      "cell_type": "markdown",
      "source": [
        "Differential Equations In SymPy"
      ],
      "metadata": {
        "id": "-awiDos0Nays"
      }
    },
    {
      "cell_type": "code",
      "source": [
        "from sympy import diff\n",
        "dqd = diff(d(q), q)\n",
        "dqd"
      ],
      "metadata": {
        "colab": {
          "base_uri": "https://localhost:8080/",
          "height": 55
        },
        "id": "CBQPUMFZNc6U",
        "outputId": "91dea0d6-c494-4b01-de9c-3181d35c2d50"
      },
      "execution_count": 7,
      "outputs": [
        {
          "output_type": "execute_result",
          "data": {
            "text/plain": [
              "Derivative(d(q), q)"
            ],
            "text/latex": "$\\displaystyle \\frac{d}{d q} d{\\left(q \\right)}$"
          },
          "metadata": {},
          "execution_count": 7
        }
      ]
    },
    {
      "cell_type": "code",
      "source": [
        "from sympy import Eq\n",
        "beta = symbols('beta')\n",
        "eq1 = Eq(dqd, beta*d(q))\n",
        "eq1"
      ],
      "metadata": {
        "colab": {
          "base_uri": "https://localhost:8080/",
          "height": 55
        },
        "id": "JKnCMDnkNfmr",
        "outputId": "9772ed3d-f9bf-4f68-8126-c07748115411"
      },
      "execution_count": 8,
      "outputs": [
        {
          "output_type": "execute_result",
          "data": {
            "text/plain": [
              "Eq(Derivative(d(q), q), beta*d(q))"
            ],
            "text/latex": "$\\displaystyle \\frac{d}{d q} d{\\left(q \\right)} = \\beta d{\\left(q \\right)}$"
          },
          "metadata": {},
          "execution_count": 8
        }
      ]
    },
    {
      "cell_type": "code",
      "source": [
        "from sympy import dsolve\n",
        "sol_eq = dsolve(eq1)\n",
        "sol_eq"
      ],
      "metadata": {
        "colab": {
          "base_uri": "https://localhost:8080/",
          "height": 38
        },
        "id": "BPmiGfdgNhKD",
        "outputId": "b0d097b0-9572-4373-bd95-c08cca363465"
      },
      "execution_count": 9,
      "outputs": [
        {
          "output_type": "execute_result",
          "data": {
            "text/plain": [
              "Eq(d(q), C1*exp(beta*q))"
            ],
            "text/latex": "$\\displaystyle d{\\left(q \\right)} = C_{1} e^{\\beta q}$"
          },
          "metadata": {},
          "execution_count": 9
        }
      ]
    },
    {
      "cell_type": "code",
      "source": [
        "d2 = symbols('d2')\n",
        "particular = sol_eq.subs(d2, 500)\n",
        "particular"
      ],
      "metadata": {
        "colab": {
          "base_uri": "https://localhost:8080/",
          "height": 38
        },
        "id": "SURTM69qNhCK",
        "outputId": "aacf04b0-1653-4673-80e6-844088e403cf"
      },
      "execution_count": 10,
      "outputs": [
        {
          "output_type": "execute_result",
          "data": {
            "text/plain": [
              "Eq(d(q), C1*exp(beta*q))"
            ],
            "text/latex": "$\\displaystyle d{\\left(q \\right)} = C_{1} e^{\\beta q}$"
          },
          "metadata": {},
          "execution_count": 10
        }
      ]
    },
    {
      "cell_type": "code",
      "source": [
        "particular.subs(q, 2)"
      ],
      "metadata": {
        "colab": {
          "base_uri": "https://localhost:8080/",
          "height": 38
        },
        "id": "P32hPQPSNq2y",
        "outputId": "5f811d88-bbb8-4588-99e9-d9c68e08af80"
      },
      "execution_count": 11,
      "outputs": [
        {
          "output_type": "execute_result",
          "data": {
            "text/plain": [
              "Eq(d(2), C1*exp(2*beta))"
            ],
            "text/latex": "$\\displaystyle d{\\left(2 \\right)} = C_{1} e^{2 \\beta}$"
          },
          "metadata": {},
          "execution_count": 11
        }
      ]
    },
    {
      "cell_type": "markdown",
      "source": [
        "Solving the Quadratic Growth Model"
      ],
      "metadata": {
        "id": "XoZKZ9z5Nsa4"
      }
    },
    {
      "cell_type": "code",
      "source": [
        "f, x = symbols('f x')\n",
        "eq2 = Eq(diff(d(q), q), f * d(q) * (1 - d(q)/x))\n",
        "eq2"
      ],
      "metadata": {
        "colab": {
          "base_uri": "https://localhost:8080/",
          "height": 58
        },
        "id": "Oo7hmgRzNu6R",
        "outputId": "04e96b9c-6cf2-42d3-8dcd-9a3446646aad"
      },
      "execution_count": 12,
      "outputs": [
        {
          "output_type": "execute_result",
          "data": {
            "text/plain": [
              "Eq(Derivative(d(q), q), f*(1 - d(q)/x)*d(q))"
            ],
            "text/latex": "$\\displaystyle \\frac{d}{d q} d{\\left(q \\right)} = f \\left(1 - \\frac{d{\\left(q \\right)}}{x}\\right) d{\\left(q \\right)}$"
          },
          "metadata": {},
          "execution_count": 12
        }
      ]
    },
    {
      "cell_type": "code",
      "source": [
        "sol_eq2 = dsolve(eq2)\n",
        "sol_eq2"
      ],
      "metadata": {
        "colab": {
          "base_uri": "https://localhost:8080/",
          "height": 56
        },
        "id": "SXD1P4pONycJ",
        "outputId": "47cbdc67-2bdc-4989-f76f-fcb9bc7fc3e3"
      },
      "execution_count": 13,
      "outputs": [
        {
          "output_type": "execute_result",
          "data": {
            "text/plain": [
              "Eq(d(q), x*exp(C1*x + f*q)/(exp(C1*x + f*q) - 1))"
            ],
            "text/latex": "$\\displaystyle d{\\left(q \\right)} = \\frac{x e^{C_{1} x + f q}}{e^{C_{1} x + f q} - 1}$"
          },
          "metadata": {},
          "execution_count": 13
        }
      ]
    },
    {
      "cell_type": "code",
      "source": [
        "general = sol_eq2.rhs\n",
        "general"
      ],
      "metadata": {
        "colab": {
          "base_uri": "https://localhost:8080/",
          "height": 56
        },
        "id": "cfan8sjVN0RR",
        "outputId": "ae5d82ca-d7c4-45ec-92e2-26860fe20ad8"
      },
      "execution_count": 14,
      "outputs": [
        {
          "output_type": "execute_result",
          "data": {
            "text/plain": [
              "x*exp(C1*x + f*q)/(exp(C1*x + f*q) - 1)"
            ],
            "text/latex": "$\\displaystyle \\frac{x e^{C_{1} x + f q}}{e^{C_{1} x + f q} - 1}$"
          },
          "metadata": {},
          "execution_count": 14
        }
      ]
    },
    {
      "cell_type": "code",
      "source": [
        "at_0 = general.subs(q, 2)\n",
        "at_0"
      ],
      "metadata": {
        "colab": {
          "base_uri": "https://localhost:8080/",
          "height": 56
        },
        "id": "03QPFDDEN0nK",
        "outputId": "7264c792-c9b1-4d1c-cf36-6ef74f6b5075"
      },
      "execution_count": 15,
      "outputs": [
        {
          "output_type": "execute_result",
          "data": {
            "text/plain": [
              "x*exp(C1*x + 2*f)/(exp(C1*x + 2*f) - 1)"
            ],
            "text/latex": "$\\displaystyle \\frac{x e^{C_{1} x + 2 f}}{e^{C_{1} x + 2 f} - 1}$"
          },
          "metadata": {},
          "execution_count": 15
        }
      ]
    },
    {
      "cell_type": "code",
      "source": [
        "from sympy import solve\n",
        "p_0 = symbols('p_0')\n",
        "solutions = solve(Eq(at_0, p_0), d2)"
      ],
      "metadata": {
        "id": "ja4Ffj2iN8Sg"
      },
      "execution_count": 16,
      "outputs": []
    },
    {
      "cell_type": "code",
      "source": [
        "type(solutions), len(solutions)"
      ],
      "metadata": {
        "colab": {
          "base_uri": "https://localhost:8080/"
        },
        "id": "6nk9yS-kN9aY",
        "outputId": "432784a6-8c07-4b3f-af12-68b001497b4b"
      },
      "execution_count": 17,
      "outputs": [
        {
          "output_type": "execute_result",
          "data": {
            "text/plain": [
              "(list, 0)"
            ]
          },
          "metadata": {},
          "execution_count": 17
        }
      ]
    },
    {
      "cell_type": "code",
      "source": [
        "particular = general.subs(d2, 3)\n",
        "particular"
      ],
      "metadata": {
        "colab": {
          "base_uri": "https://localhost:8080/",
          "height": 56
        },
        "id": "-mrJ1kCXOAKf",
        "outputId": "690d1ed0-e8b9-4b4c-f130-7194f23119a4"
      },
      "execution_count": 18,
      "outputs": [
        {
          "output_type": "execute_result",
          "data": {
            "text/plain": [
              "x*exp(C1*x + f*q)/(exp(C1*x + f*q) - 1)"
            ],
            "text/latex": "$\\displaystyle \\frac{x e^{C_{1} x + f q}}{e^{C_{1} x + f q} - 1}$"
          },
          "metadata": {},
          "execution_count": 18
        }
      ]
    },
    {
      "cell_type": "code",
      "source": [
        "simpler = particular.simplify()\n",
        "simpler"
      ],
      "metadata": {
        "colab": {
          "base_uri": "https://localhost:8080/",
          "height": 56
        },
        "id": "HsgR-6xmOACQ",
        "outputId": "6533e979-8b14-4397-ebda-f6af77b31916"
      },
      "execution_count": 19,
      "outputs": [
        {
          "output_type": "execute_result",
          "data": {
            "text/plain": [
              "x*exp(C1*x + f*q)/(exp(C1*x + f*q) - 1)"
            ],
            "text/latex": "$\\displaystyle \\frac{x e^{C_{1} x + f q}}{e^{C_{1} x + f q} - 1}$"
          },
          "metadata": {},
          "execution_count": 19
        }
      ]
    },
    {
      "cell_type": "code",
      "source": [
        "A = (q - p_0) / p_0\n",
        "A"
      ],
      "metadata": {
        "colab": {
          "base_uri": "https://localhost:8080/",
          "height": 53
        },
        "id": "mELXYadIOEj_",
        "outputId": "2cceb7c4-8a82-45fe-962b-9934459bda83"
      },
      "execution_count": 20,
      "outputs": [
        {
          "output_type": "execute_result",
          "data": {
            "text/plain": [
              "(-p_0 + q)/p_0"
            ],
            "text/latex": "$\\displaystyle \\frac{- p_{0} + q}{p_{0}}$"
          },
          "metadata": {},
          "execution_count": 20
        }
      ]
    },
    {
      "cell_type": "code",
      "source": [
        "from sympy import exp\n",
        "logistic = q / (1 + A * exp(-q*q))\n",
        "logistic"
      ],
      "metadata": {
        "colab": {
          "base_uri": "https://localhost:8080/",
          "height": 62
        },
        "id": "5kLDSd4wOE_H",
        "outputId": "931f62aa-b9dd-436d-e58f-814efc5a43cd"
      },
      "execution_count": 21,
      "outputs": [
        {
          "output_type": "execute_result",
          "data": {
            "text/plain": [
              "q/(1 + (-p_0 + q)*exp(-q**2)/p_0)"
            ],
            "text/latex": "$\\displaystyle \\frac{q}{1 + \\frac{\\left(- p_{0} + q\\right) e^{- q^{2}}}{p_{0}}}$"
          },
          "metadata": {},
          "execution_count": 21
        }
      ]
    },
    {
      "cell_type": "code",
      "source": [
        "(particular - logistic).simplify()"
      ],
      "metadata": {
        "colab": {
          "base_uri": "https://localhost:8080/",
          "height": 69
        },
        "id": "iZJBBVJIOHDG",
        "outputId": "3057accb-eeb0-4e0a-b250-839d4b4e2c69"
      },
      "execution_count": 22,
      "outputs": [
        {
          "output_type": "execute_result",
          "data": {
            "text/plain": [
              "-q/(1 - (p_0 - q)*exp(-q**2)/p_0) + x*exp(C1*x + f*q)/(exp(C1*x + f*q) - 1)"
            ],
            "text/latex": "$\\displaystyle - \\frac{q}{1 - \\frac{\\left(p_{0} - q\\right) e^{- q^{2}}}{p_{0}}} + \\frac{x e^{C_{1} x + f q}}{e^{C_{1} x + f q} - 1}$"
          },
          "metadata": {},
          "execution_count": 22
        }
      ]
    },
    {
      "cell_type": "code",
      "source": [
        "from sympy.printing.pycode import pycode\n",
        "pycode(simpler)"
      ],
      "metadata": {
        "colab": {
          "base_uri": "https://localhost:8080/",
          "height": 35
        },
        "id": "0l50JJAOOG9v",
        "outputId": "0914317f-a3a4-43c3-b176-2f49f3a3f3fa"
      },
      "execution_count": 23,
      "outputs": [
        {
          "output_type": "execute_result",
          "data": {
            "text/plain": [
              "'x*math.exp(C1*x + f*q)/(math.exp(C1*x + f*q) - 1)'"
            ],
            "application/vnd.google.colaboratory.intrinsic+json": {
              "type": "string"
            }
          },
          "metadata": {},
          "execution_count": 23
        }
      ]
    },
    {
      "cell_type": "markdown",
      "source": [
        "**Exercises**"
      ],
      "metadata": {
        "id": "0J9l_khhOLud"
      }
    },
    {
      "cell_type": "markdown",
      "source": [
        "Exercise 1"
      ],
      "metadata": {
        "id": "M6_NKAhgONhv"
      }
    },
    {
      "cell_type": "code",
      "source": [
        "a, b = symbols('alpha beta')\n",
        "eq = Eq(diff(d(q), q), a*d(q) + b*d(q)**2)\n",
        "print(eq)\n",
        "sol_eq = dsolve(eq)\n",
        "print(sol_eq)\n",
        "gen = sol_eq.rhs\n",
        "print(gen)\n",
        "at_0 = gen.subs(q, 0)\n",
        "sols = solve(Eq(at_0, p_0), d2)"
      ],
      "metadata": {
        "colab": {
          "base_uri": "https://localhost:8080/"
        },
        "id": "Fcib-2P-OPTW",
        "outputId": "74506b1c-e33d-47e9-e39d-b00269d64e5b"
      },
      "execution_count": 24,
      "outputs": [
        {
          "output_type": "stream",
          "name": "stdout",
          "text": [
            "Eq(Derivative(d(q), q), alpha*d(q) + beta*d(q)**2)\n",
            "Eq(d(q), alpha*exp(alpha*(C1 + q))/(beta*(1 - exp(alpha*(C1 + q)))))\n",
            "alpha*exp(alpha*(C1 + q))/(beta*(1 - exp(alpha*(C1 + q))))\n"
          ]
        }
      ]
    },
    {
      "cell_type": "code",
      "source": [],
      "metadata": {
        "id": "6yU4XfgCkY54"
      },
      "execution_count": 24,
      "outputs": []
    }
  ]
}