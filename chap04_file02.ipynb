{
  "nbformat": 4,
  "nbformat_minor": 0,
  "metadata": {
    "colab": {
      "provenance": [],
      "include_colab_link": true
    },
    "kernelspec": {
      "name": "python3",
      "display_name": "Python 3"
    },
    "language_info": {
      "name": "python"
    }
  },
  "cells": [
    {
      "cell_type": "markdown",
      "metadata": {
        "id": "view-in-github",
        "colab_type": "text"
      },
      "source": [
        "<a href=\"https://colab.research.google.com/github/robiulislam1999/CSE718/blob/main/chap04_file02.ipynb\" target=\"_parent\"><img src=\"https://colab.research.google.com/assets/colab-badge.svg\" alt=\"Open In Colab\"/></a>"
      ]
    },
    {
      "cell_type": "markdown",
      "source": [
        "**Examples**"
      ],
      "metadata": {
        "id": "-pRJrUU8ZCHZ"
      }
    },
    {
      "cell_type": "markdown",
      "source": [
        "Sweeping Parameters"
      ],
      "metadata": {
        "id": "FKNtbZjBZHqI"
      }
    },
    {
      "cell_type": "code",
      "execution_count": 1,
      "metadata": {
        "id": "CxAY-bifVoPX",
        "colab": {
          "base_uri": "https://localhost:8080/"
        },
        "outputId": "8d678dcf-2fae-46ed-e007-51ba6d0a1718"
      },
      "outputs": [
        {
          "output_type": "stream",
          "name": "stdout",
          "text": [
            "Collecting pint\n",
            "  Downloading Pint-0.23-py3-none-any.whl (305 kB)\n",
            "\u001b[2K     \u001b[90m━━━━━━━━━━━━━━━━━━━━━━━━━━━━━━━━━━━━━━━━\u001b[0m \u001b[32m305.0/305.0 kB\u001b[0m \u001b[31m5.7 MB/s\u001b[0m eta \u001b[36m0:00:00\u001b[0m\n",
            "\u001b[?25hRequirement already satisfied: typing-extensions in /usr/local/lib/python3.10/dist-packages (from pint) (4.5.0)\n",
            "Installing collected packages: pint\n",
            "Successfully installed pint-0.23\n"
          ]
        }
      ],
      "source": [
        "# install Pint if necessary\n",
        "\n",
        "try:\n",
        "    import pint\n",
        "except ImportError:\n",
        "    !pip install pint"
      ]
    },
    {
      "cell_type": "code",
      "source": [
        "# download modsim.py if necessary\n",
        "\n",
        "from os.path import basename, exists\n",
        "\n",
        "def download(url):\n",
        "    filename = basename(url)\n",
        "    if not exists(filename):\n",
        "        from urllib.request import urlretrieve\n",
        "        local, _ = urlretrieve(url, filename)\n",
        "        print('Downloaded ' + local)\n",
        "\n",
        "download('https://raw.githubusercontent.com/AllenDowney/' +\n",
        "         'ModSimPy/master/modsim.py')"
      ],
      "metadata": {
        "id": "iGtcuPSuZQpk",
        "colab": {
          "base_uri": "https://localhost:8080/"
        },
        "outputId": "4457d808-4543-4f2a-fd26-30f6d7729492"
      },
      "execution_count": 2,
      "outputs": [
        {
          "output_type": "stream",
          "name": "stdout",
          "text": [
            "Downloaded modsim.py\n"
          ]
        }
      ]
    },
    {
      "cell_type": "code",
      "source": [
        "# import functions from modsim\n",
        "\n",
        "from modsim import *"
      ],
      "metadata": {
        "id": "Q4fNl9PWZZEk"
      },
      "execution_count": 3,
      "outputs": []
    },
    {
      "cell_type": "code",
      "source": [
        "download('https://raw.githubusercontent.com/AllenDowney/' +\n",
        "         'ModSimPy/master/chap03.py')"
      ],
      "metadata": {
        "id": "MfwLMDr_ZZVj",
        "colab": {
          "base_uri": "https://localhost:8080/"
        },
        "outputId": "27f636af-7b6a-4e4a-a1e3-cfd4e16f6c50"
      },
      "execution_count": 4,
      "outputs": [
        {
          "output_type": "stream",
          "name": "stdout",
          "text": [
            "Downloaded chap03.py\n"
          ]
        }
      ]
    },
    {
      "cell_type": "code",
      "source": [
        "from chap03 import step"
      ],
      "metadata": {
        "id": "DTb4Cb4ZZcsz"
      },
      "execution_count": 5,
      "outputs": []
    },
    {
      "cell_type": "markdown",
      "source": [
        "Functions That Return Values"
      ],
      "metadata": {
        "id": "hpaNhMb7ZgT7"
      }
    },
    {
      "cell_type": "code",
      "source": [
        "from numpy import sqrt\n",
        "\n",
        "root = sqrt(4)\n",
        "cardelivery = State(bmw=10, mercedes=2)\n",
        "cardelivery\n",
        "def add_five(x):\n",
        "    return x + 2\n",
        "add_five(1)"
      ],
      "metadata": {
        "id": "2SM1CFMYZhAj",
        "colab": {
          "base_uri": "https://localhost:8080/"
        },
        "outputId": "fc0a7ea3-5216-4aa3-d373-c2938a16f2ca"
      },
      "execution_count": 6,
      "outputs": [
        {
          "output_type": "execute_result",
          "data": {
            "text/plain": [
              "3"
            ]
          },
          "metadata": {},
          "execution_count": 6
        }
      ]
    },
    {
      "cell_type": "code",
      "source": [
        "def step(state, p1, p2):\n",
        "     if flip(p1):\n",
        "        car_mercedes(state)\n",
        "\n",
        "     if flip(p2):\n",
        "        car_bmw(state)\n",
        "def car_bmw(state):\n",
        "    \"\"\"Move one car from mercedes to bmw.\n",
        "\n",
        "    state: cardelivery State object\n",
        "    \"\"\"\n",
        "    if state.mercedes == 0:\n",
        "        state.mercedes_empty += 1\n",
        "        return\n",
        "    state.mercedes -= 1\n",
        "    state.bmw += 1\n",
        "def car_mercedes(state):\n",
        "    \"\"\"Move one car from bmw to mercedes.\n",
        "\n",
        "    state: cardelivery State object\n",
        "    \"\"\"\n",
        "    state.bmw -= 1\n",
        "    state.mercedes += 1\n",
        "def run_simulation(p1, p2, num_steps):\n",
        "    state = State(bmw=5, mercedes=4,\n",
        "                  bmw_empty=3, mercedes_empty=2)\n",
        "\n",
        "    for i in range(num_steps):\n",
        "        step(state, p1, p2)\n",
        "\n",
        "    return state"
      ],
      "metadata": {
        "id": "frWRIB-IaM61"
      },
      "execution_count": 7,
      "outputs": []
    },
    {
      "cell_type": "code",
      "source": [
        "final_state = run_simulation(0.2, 0.3, 20)\n",
        "print(final_state.bmw_empty,\n",
        "      final_state.mercedes_empty)"
      ],
      "metadata": {
        "id": "TMPJDFsQaNh9",
        "colab": {
          "base_uri": "https://localhost:8080/"
        },
        "outputId": "ea5a16a3-e8fc-41f0-e0a4-df0d904ebfef"
      },
      "execution_count": 8,
      "outputs": [
        {
          "output_type": "stream",
          "name": "stdout",
          "text": [
            "3 2\n"
          ]
        }
      ]
    },
    {
      "cell_type": "markdown",
      "source": [
        "Loops and Arrays"
      ],
      "metadata": {
        "id": "REAr1pxdZmLy"
      }
    },
    {
      "cell_type": "code",
      "source": [
        "from numpy import linspace\n",
        "\n",
        "p1_array = linspace(0, 1, 5)\n",
        "p1_array\n",
        "for p1 in p1_array:\n",
        "    print(p1)"
      ],
      "metadata": {
        "id": "8LS8xVJpZmzK",
        "colab": {
          "base_uri": "https://localhost:8080/"
        },
        "outputId": "720cfeb8-f305-472e-fbbf-06b8c1f5e0a6"
      },
      "execution_count": 9,
      "outputs": [
        {
          "output_type": "stream",
          "name": "stdout",
          "text": [
            "0.0\n",
            "0.25\n",
            "0.5\n",
            "0.75\n",
            "1.0\n"
          ]
        }
      ]
    },
    {
      "cell_type": "markdown",
      "source": [
        "Sweeping Parameters"
      ],
      "metadata": {
        "id": "TJ3IHevwZnWy"
      }
    },
    {
      "cell_type": "code",
      "source": [
        "p1_array = linspace(0, 0.6, 6)\n",
        "p2 = 0.2\n",
        "num_steps = 10\n",
        "\n",
        "for p1 in p1_array:\n",
        "    final_state = run_simulation(p1, p2, num_steps)\n",
        "    print(p1, final_state.bmw_empty)"
      ],
      "metadata": {
        "id": "bEN_S2BEZp9K",
        "colab": {
          "base_uri": "https://localhost:8080/"
        },
        "outputId": "bc50e241-47df-4e2e-b904-e47670769b5a"
      },
      "execution_count": 10,
      "outputs": [
        {
          "output_type": "stream",
          "name": "stdout",
          "text": [
            "0.0 3\n",
            "0.12 3\n",
            "0.24 3\n",
            "0.36 3\n",
            "0.48 3\n",
            "0.6 3\n"
          ]
        }
      ]
    },
    {
      "cell_type": "code",
      "source": [
        "sweep = SweepSeries()\n",
        "p1_array = linspace(0, 0.6, 10)\n",
        "\n",
        "for p1 in p1_array:\n",
        "    final_state = run_simulation(p1, p2, num_steps)\n",
        "    sweep[p1] = final_state.bmw_empty\n",
        "show(sweep)"
      ],
      "metadata": {
        "id": "-KX9eQy5bhbt",
        "colab": {
          "base_uri": "https://localhost:8080/",
          "height": 394
        },
        "outputId": "e2137208-3ddd-415b-aecf-389ba6f61a48"
      },
      "execution_count": 11,
      "outputs": [
        {
          "output_type": "execute_result",
          "data": {
            "text/plain": [
              "           Metric\n",
              "Parameter        \n",
              "0.000000        3\n",
              "0.066667        3\n",
              "0.133333        3\n",
              "0.200000        3\n",
              "0.266667        3\n",
              "0.333333        3\n",
              "0.400000        3\n",
              "0.466667        3\n",
              "0.533333        3\n",
              "0.600000        3"
            ],
            "text/html": [
              "\n",
              "  <div id=\"df-b52edee0-fafc-4cea-ac94-e478549606ec\" class=\"colab-df-container\">\n",
              "    <div>\n",
              "<style scoped>\n",
              "    .dataframe tbody tr th:only-of-type {\n",
              "        vertical-align: middle;\n",
              "    }\n",
              "\n",
              "    .dataframe tbody tr th {\n",
              "        vertical-align: top;\n",
              "    }\n",
              "\n",
              "    .dataframe thead th {\n",
              "        text-align: right;\n",
              "    }\n",
              "</style>\n",
              "<table border=\"1\" class=\"dataframe\">\n",
              "  <thead>\n",
              "    <tr style=\"text-align: right;\">\n",
              "      <th></th>\n",
              "      <th>Metric</th>\n",
              "    </tr>\n",
              "    <tr>\n",
              "      <th>Parameter</th>\n",
              "      <th></th>\n",
              "    </tr>\n",
              "  </thead>\n",
              "  <tbody>\n",
              "    <tr>\n",
              "      <th>0.000000</th>\n",
              "      <td>3</td>\n",
              "    </tr>\n",
              "    <tr>\n",
              "      <th>0.066667</th>\n",
              "      <td>3</td>\n",
              "    </tr>\n",
              "    <tr>\n",
              "      <th>0.133333</th>\n",
              "      <td>3</td>\n",
              "    </tr>\n",
              "    <tr>\n",
              "      <th>0.200000</th>\n",
              "      <td>3</td>\n",
              "    </tr>\n",
              "    <tr>\n",
              "      <th>0.266667</th>\n",
              "      <td>3</td>\n",
              "    </tr>\n",
              "    <tr>\n",
              "      <th>0.333333</th>\n",
              "      <td>3</td>\n",
              "    </tr>\n",
              "    <tr>\n",
              "      <th>0.400000</th>\n",
              "      <td>3</td>\n",
              "    </tr>\n",
              "    <tr>\n",
              "      <th>0.466667</th>\n",
              "      <td>3</td>\n",
              "    </tr>\n",
              "    <tr>\n",
              "      <th>0.533333</th>\n",
              "      <td>3</td>\n",
              "    </tr>\n",
              "    <tr>\n",
              "      <th>0.600000</th>\n",
              "      <td>3</td>\n",
              "    </tr>\n",
              "  </tbody>\n",
              "</table>\n",
              "</div>\n",
              "    <div class=\"colab-df-buttons\">\n",
              "\n",
              "  <div class=\"colab-df-container\">\n",
              "    <button class=\"colab-df-convert\" onclick=\"convertToInteractive('df-b52edee0-fafc-4cea-ac94-e478549606ec')\"\n",
              "            title=\"Convert this dataframe to an interactive table.\"\n",
              "            style=\"display:none;\">\n",
              "\n",
              "  <svg xmlns=\"http://www.w3.org/2000/svg\" height=\"24px\" viewBox=\"0 -960 960 960\">\n",
              "    <path d=\"M120-120v-720h720v720H120Zm60-500h600v-160H180v160Zm220 220h160v-160H400v160Zm0 220h160v-160H400v160ZM180-400h160v-160H180v160Zm440 0h160v-160H620v160ZM180-180h160v-160H180v160Zm440 0h160v-160H620v160Z\"/>\n",
              "  </svg>\n",
              "    </button>\n",
              "\n",
              "  <style>\n",
              "    .colab-df-container {\n",
              "      display:flex;\n",
              "      gap: 12px;\n",
              "    }\n",
              "\n",
              "    .colab-df-convert {\n",
              "      background-color: #E8F0FE;\n",
              "      border: none;\n",
              "      border-radius: 50%;\n",
              "      cursor: pointer;\n",
              "      display: none;\n",
              "      fill: #1967D2;\n",
              "      height: 32px;\n",
              "      padding: 0 0 0 0;\n",
              "      width: 32px;\n",
              "    }\n",
              "\n",
              "    .colab-df-convert:hover {\n",
              "      background-color: #E2EBFA;\n",
              "      box-shadow: 0px 1px 2px rgba(60, 64, 67, 0.3), 0px 1px 3px 1px rgba(60, 64, 67, 0.15);\n",
              "      fill: #174EA6;\n",
              "    }\n",
              "\n",
              "    .colab-df-buttons div {\n",
              "      margin-bottom: 4px;\n",
              "    }\n",
              "\n",
              "    [theme=dark] .colab-df-convert {\n",
              "      background-color: #3B4455;\n",
              "      fill: #D2E3FC;\n",
              "    }\n",
              "\n",
              "    [theme=dark] .colab-df-convert:hover {\n",
              "      background-color: #434B5C;\n",
              "      box-shadow: 0px 1px 3px 1px rgba(0, 0, 0, 0.15);\n",
              "      filter: drop-shadow(0px 1px 2px rgba(0, 0, 0, 0.3));\n",
              "      fill: #FFFFFF;\n",
              "    }\n",
              "  </style>\n",
              "\n",
              "    <script>\n",
              "      const buttonEl =\n",
              "        document.querySelector('#df-b52edee0-fafc-4cea-ac94-e478549606ec button.colab-df-convert');\n",
              "      buttonEl.style.display =\n",
              "        google.colab.kernel.accessAllowed ? 'block' : 'none';\n",
              "\n",
              "      async function convertToInteractive(key) {\n",
              "        const element = document.querySelector('#df-b52edee0-fafc-4cea-ac94-e478549606ec');\n",
              "        const dataTable =\n",
              "          await google.colab.kernel.invokeFunction('convertToInteractive',\n",
              "                                                    [key], {});\n",
              "        if (!dataTable) return;\n",
              "\n",
              "        const docLinkHtml = 'Like what you see? Visit the ' +\n",
              "          '<a target=\"_blank\" href=https://colab.research.google.com/notebooks/data_table.ipynb>data table notebook</a>'\n",
              "          + ' to learn more about interactive tables.';\n",
              "        element.innerHTML = '';\n",
              "        dataTable['output_type'] = 'display_data';\n",
              "        await google.colab.output.renderOutput(dataTable, element);\n",
              "        const docLink = document.createElement('div');\n",
              "        docLink.innerHTML = docLinkHtml;\n",
              "        element.appendChild(docLink);\n",
              "      }\n",
              "    </script>\n",
              "  </div>\n",
              "\n",
              "\n",
              "<div id=\"df-7d9471ad-88f5-454b-b139-11039ad47a98\">\n",
              "  <button class=\"colab-df-quickchart\" onclick=\"quickchart('df-7d9471ad-88f5-454b-b139-11039ad47a98')\"\n",
              "            title=\"Suggest charts\"\n",
              "            style=\"display:none;\">\n",
              "\n",
              "<svg xmlns=\"http://www.w3.org/2000/svg\" height=\"24px\"viewBox=\"0 0 24 24\"\n",
              "     width=\"24px\">\n",
              "    <g>\n",
              "        <path d=\"M19 3H5c-1.1 0-2 .9-2 2v14c0 1.1.9 2 2 2h14c1.1 0 2-.9 2-2V5c0-1.1-.9-2-2-2zM9 17H7v-7h2v7zm4 0h-2V7h2v10zm4 0h-2v-4h2v4z\"/>\n",
              "    </g>\n",
              "</svg>\n",
              "  </button>\n",
              "\n",
              "<style>\n",
              "  .colab-df-quickchart {\n",
              "      --bg-color: #E8F0FE;\n",
              "      --fill-color: #1967D2;\n",
              "      --hover-bg-color: #E2EBFA;\n",
              "      --hover-fill-color: #174EA6;\n",
              "      --disabled-fill-color: #AAA;\n",
              "      --disabled-bg-color: #DDD;\n",
              "  }\n",
              "\n",
              "  [theme=dark] .colab-df-quickchart {\n",
              "      --bg-color: #3B4455;\n",
              "      --fill-color: #D2E3FC;\n",
              "      --hover-bg-color: #434B5C;\n",
              "      --hover-fill-color: #FFFFFF;\n",
              "      --disabled-bg-color: #3B4455;\n",
              "      --disabled-fill-color: #666;\n",
              "  }\n",
              "\n",
              "  .colab-df-quickchart {\n",
              "    background-color: var(--bg-color);\n",
              "    border: none;\n",
              "    border-radius: 50%;\n",
              "    cursor: pointer;\n",
              "    display: none;\n",
              "    fill: var(--fill-color);\n",
              "    height: 32px;\n",
              "    padding: 0;\n",
              "    width: 32px;\n",
              "  }\n",
              "\n",
              "  .colab-df-quickchart:hover {\n",
              "    background-color: var(--hover-bg-color);\n",
              "    box-shadow: 0 1px 2px rgba(60, 64, 67, 0.3), 0 1px 3px 1px rgba(60, 64, 67, 0.15);\n",
              "    fill: var(--button-hover-fill-color);\n",
              "  }\n",
              "\n",
              "  .colab-df-quickchart-complete:disabled,\n",
              "  .colab-df-quickchart-complete:disabled:hover {\n",
              "    background-color: var(--disabled-bg-color);\n",
              "    fill: var(--disabled-fill-color);\n",
              "    box-shadow: none;\n",
              "  }\n",
              "\n",
              "  .colab-df-spinner {\n",
              "    border: 2px solid var(--fill-color);\n",
              "    border-color: transparent;\n",
              "    border-bottom-color: var(--fill-color);\n",
              "    animation:\n",
              "      spin 1s steps(1) infinite;\n",
              "  }\n",
              "\n",
              "  @keyframes spin {\n",
              "    0% {\n",
              "      border-color: transparent;\n",
              "      border-bottom-color: var(--fill-color);\n",
              "      border-left-color: var(--fill-color);\n",
              "    }\n",
              "    20% {\n",
              "      border-color: transparent;\n",
              "      border-left-color: var(--fill-color);\n",
              "      border-top-color: var(--fill-color);\n",
              "    }\n",
              "    30% {\n",
              "      border-color: transparent;\n",
              "      border-left-color: var(--fill-color);\n",
              "      border-top-color: var(--fill-color);\n",
              "      border-right-color: var(--fill-color);\n",
              "    }\n",
              "    40% {\n",
              "      border-color: transparent;\n",
              "      border-right-color: var(--fill-color);\n",
              "      border-top-color: var(--fill-color);\n",
              "    }\n",
              "    60% {\n",
              "      border-color: transparent;\n",
              "      border-right-color: var(--fill-color);\n",
              "    }\n",
              "    80% {\n",
              "      border-color: transparent;\n",
              "      border-right-color: var(--fill-color);\n",
              "      border-bottom-color: var(--fill-color);\n",
              "    }\n",
              "    90% {\n",
              "      border-color: transparent;\n",
              "      border-bottom-color: var(--fill-color);\n",
              "    }\n",
              "  }\n",
              "</style>\n",
              "\n",
              "  <script>\n",
              "    async function quickchart(key) {\n",
              "      const quickchartButtonEl =\n",
              "        document.querySelector('#' + key + ' button');\n",
              "      quickchartButtonEl.disabled = true;  // To prevent multiple clicks.\n",
              "      quickchartButtonEl.classList.add('colab-df-spinner');\n",
              "      try {\n",
              "        const charts = await google.colab.kernel.invokeFunction(\n",
              "            'suggestCharts', [key], {});\n",
              "      } catch (error) {\n",
              "        console.error('Error during call to suggestCharts:', error);\n",
              "      }\n",
              "      quickchartButtonEl.classList.remove('colab-df-spinner');\n",
              "      quickchartButtonEl.classList.add('colab-df-quickchart-complete');\n",
              "    }\n",
              "    (() => {\n",
              "      let quickchartButtonEl =\n",
              "        document.querySelector('#df-7d9471ad-88f5-454b-b139-11039ad47a98 button');\n",
              "      quickchartButtonEl.style.display =\n",
              "        google.colab.kernel.accessAllowed ? 'block' : 'none';\n",
              "    })();\n",
              "  </script>\n",
              "</div>\n",
              "    </div>\n",
              "  </div>\n"
            ]
          },
          "metadata": {},
          "execution_count": 11
        }
      ]
    },
    {
      "cell_type": "code",
      "source": [
        "sweep.plot(label='bmw', color='C1')\n",
        "\n",
        "decorate(title='bmw-mercedes bikeshare',\n",
        "         xlabel='Customer rate at bmw (p1 in customers/min)',\n",
        "         ylabel='Number of unhappy customers at bmw')"
      ],
      "metadata": {
        "id": "6fwl0ZDdbn-N",
        "colab": {
          "base_uri": "https://localhost:8080/",
          "height": 309
        },
        "outputId": "a14bd335-6f45-4fa0-8ac9-66467c885818"
      },
      "execution_count": 12,
      "outputs": [
        {
          "output_type": "display_data",
          "data": {
            "text/plain": [
              "<Figure size 450x300 with 1 Axes>"
            ],
            "image/png": "[encoded data removed]"
          },
          "metadata": {}
        }
      ]
    },
    {
      "cell_type": "markdown",
      "source": [
        "**Exercises**"
      ],
      "metadata": {
        "id": "bK1wQ6mPZEQ4"
      }
    },
    {
      "cell_type": "markdown",
      "source": [
        "Exercise 1"
      ],
      "metadata": {
        "id": "pGIFRxAfZuiP"
      }
    },
    {
      "cell_type": "code",
      "source": [
        "def make_state():\n",
        "  state = State(bmw=10, mercedes=2)\n",
        "inti = make_state()"
      ],
      "metadata": {
        "id": "GYit_f-1ZGhW"
      },
      "execution_count": 13,
      "outputs": []
    },
    {
      "cell_type": "markdown",
      "source": [
        "Exercise 2"
      ],
      "metadata": {
        "id": "MDyxPrk-ZxeR"
      }
    },
    {
      "cell_type": "code",
      "source": [
        "from numpy import linspace\n",
        "np.linspace(2,4, num=20)"
      ],
      "metadata": {
        "id": "eqcIxBTWZzgP",
        "colab": {
          "base_uri": "https://localhost:8080/"
        },
        "outputId": "61ad79eb-5526-4bf3-d035-d6e60c8c0b39"
      },
      "execution_count": 14,
      "outputs": [
        {
          "output_type": "execute_result",
          "data": {
            "text/plain": [
              "array([2.        , 2.10526316, 2.21052632, 2.31578947, 2.42105263,\n",
              "       2.52631579, 2.63157895, 2.73684211, 2.84210526, 2.94736842,\n",
              "       3.05263158, 3.15789474, 3.26315789, 3.36842105, 3.47368421,\n",
              "       3.57894737, 3.68421053, 3.78947368, 3.89473684, 4.        ])"
            ]
          },
          "metadata": {},
          "execution_count": 14
        }
      ]
    },
    {
      "cell_type": "markdown",
      "source": [
        "Exercise 3"
      ],
      "metadata": {
        "id": "kCIB-1KRZz6A"
      }
    },
    {
      "cell_type": "code",
      "source": [
        "sweep = SweepSeries()\n",
        "def sweep_p1():\n",
        "  p1_array = linspace(0, 0.6, 31)\n",
        "  p2 = 0.2\n",
        "  num_steps = 60\n",
        "  for p1 in p1_array:\n",
        "    final_state = run_simulation(p1, p2, num_steps)\n",
        "    sweep[p1] = final_state.bmw_empty\n",
        "    print(p1, final_state.bmw_empty)\n",
        "  sweep.plot(label='bmw', color='C1')\n",
        "  decorate(title='bmw-mercedes bikeshare',\n",
        "          xlabel='Customer rate at bmw (p1 in customers/min)',\n",
        "          ylabel='Number of unhappy customers at bmw')\n",
        "sweep_p1()"
      ],
      "metadata": {
        "id": "TtGlguizZ1PA",
        "colab": {
          "base_uri": "https://localhost:8080/",
          "height": 863
        },
        "outputId": "33319049-41b2-43b0-b3ef-27e0ead59e71"
      },
      "execution_count": 15,
      "outputs": [
        {
          "output_type": "stream",
          "name": "stdout",
          "text": [
            "0.0 3\n",
            "0.02 3\n",
            "0.04 3\n",
            "0.06 3\n",
            "0.08 3\n",
            "0.1 3\n",
            "0.12 3\n",
            "0.14 3\n",
            "0.16 3\n",
            "0.18 3\n",
            "0.2 3\n",
            "0.22 3\n",
            "0.24 3\n",
            "0.26 3\n",
            "0.28 3\n",
            "0.3 3\n",
            "0.32 3\n",
            "0.34 3\n",
            "0.36 3\n",
            "0.38 3\n",
            "0.4 3\n",
            "0.42 3\n",
            "0.44 3\n",
            "0.46 3\n",
            "0.48 3\n",
            "0.5 3\n",
            "0.52 3\n",
            "0.54 3\n",
            "0.56 3\n",
            "0.58 3\n",
            "0.6 3\n"
          ]
        },
        {
          "output_type": "display_data",
          "data": {
            "text/plain": [
              "<Figure size 450x300 with 1 Axes>"
            ],
            "image/png": "[encoded data removed]"
          },
          "metadata": {}
        }
      ]
    },
    {
      "cell_type": "markdown",
      "source": [
        "Exercise 4"
      ],
      "metadata": {
        "id": "0FPEikTnZ1-Q"
      }
    },
    {
      "cell_type": "code",
      "source": [
        "sweep = SweepSeries()\n",
        "def sweep_p2():\n",
        "  p1 = 0.5\n",
        "  p2_array = linspace(0, 0.6, 31)\n",
        "  num_steps = 60\n",
        "  for p2 in p2_array:\n",
        "    final_state = run_simulation(p1, p2, num_steps)\n",
        "    sweep[p2] = final_state.bmw_empty\n",
        "    print(p2, final_state.bmw_empty)\n",
        "  sweep.plot(label='bmw', color='C1')\n",
        "  decorate(title='bmw-mercedes bikeshare',\n",
        "          xlabel='Customer rate at bmw (p1 in customers/min)',\n",
        "          ylabel='Number of unhappy customers at bmw')\n",
        "sweep_p2()"
      ],
      "metadata": {
        "id": "dS1BK_jvZ2yp",
        "colab": {
          "base_uri": "https://localhost:8080/",
          "height": 863
        },
        "outputId": "f4f82522-156d-4e45-ae12-93780d95210d"
      },
      "execution_count": 20,
      "outputs": [
        {
          "output_type": "stream",
          "name": "stdout",
          "text": [
            "0.0 3\n",
            "0.02 3\n",
            "0.04 3\n",
            "0.06 3\n",
            "0.08 3\n",
            "0.1 3\n",
            "0.12 3\n",
            "0.14 3\n",
            "0.16 3\n",
            "0.18 3\n",
            "0.2 3\n",
            "0.22 3\n",
            "0.24 3\n",
            "0.26 3\n",
            "0.28 3\n",
            "0.3 3\n",
            "0.32 3\n",
            "0.34 3\n",
            "0.36 3\n",
            "0.38 3\n",
            "0.4 3\n",
            "0.42 3\n",
            "0.44 3\n",
            "0.46 3\n",
            "0.48 3\n",
            "0.5 3\n",
            "0.52 3\n",
            "0.54 3\n",
            "0.56 3\n",
            "0.58 3\n",
            "0.6 3\n"
          ]
        },
        {
          "output_type": "display_data",
          "data": {
            "text/plain": [
              "<Figure size 450x300 with 1 Axes>"
            ],
            "image/png": "[encoded data removed]"
          },
          "metadata": {}
        }
      ]
    },
    {
      "cell_type": "code",
      "source": [],
      "metadata": {
        "id": "sRbyiEiLZ13V"
      },
      "execution_count": 16,
      "outputs": []
    }
  ]
}