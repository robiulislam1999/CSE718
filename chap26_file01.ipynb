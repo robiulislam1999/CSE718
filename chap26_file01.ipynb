{
  "nbformat": 4,
  "nbformat_minor": 0,
  "metadata": {
    "colab": {
      "provenance": []
    },
    "kernelspec": {
      "name": "python3",
      "display_name": "Python 3"
    },
    "language_info": {
      "name": "python"
    }
  },
  "cells": [
    {
      "cell_type": "markdown",
      "source": [
        "**Examples**"
      ],
      "metadata": {
        "id": "xsHeBHPfNqDw"
      }
    },
    {
      "cell_type": "markdown",
      "source": [
        "Case Studies Part 3"
      ],
      "metadata": {
        "id": "qcVno-FZNZZy"
      }
    },
    {
      "cell_type": "code",
      "execution_count": 2,
      "metadata": {
        "colab": {
          "base_uri": "https://localhost:8080/"
        },
        "id": "NwXsrJzoMsVe",
        "outputId": "ce518d6a-79f8-4389-8384-a2ab7224a1bc"
      },
      "outputs": [
        {
          "output_type": "execute_result",
          "data": {
            "text/plain": [
              "{T: I*g*m/(I + m*r**2), a: -g*m*r**2/(I + m*r**2), alpha: g*m*r/(I + m*r**2)}"
            ]
          },
          "metadata": {},
          "execution_count": 2
        }
      ],
      "source": [
        "from sympy import symbols, Eq, solve\n",
        "T, a, alpha, I, m, g, r = symbols('T a alpha I m g r')\n",
        "eq1 = Eq(a, -r * alpha)\n",
        "eq2 = Eq(T - m*g, m * a)\n",
        "eq3 = Eq(T * r, I * alpha)\n",
        "soln = solve([eq1, eq2, eq3], [T, a, alpha])\n",
        "soln"
      ]
    }
  ]
}