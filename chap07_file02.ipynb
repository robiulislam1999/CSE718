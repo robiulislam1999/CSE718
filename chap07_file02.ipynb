{
  "nbformat": 4,
  "nbformat_minor": 0,
  "metadata": {
    "colab": {
      "provenance": [],
      "include_colab_link": true
    },
    "kernelspec": {
      "name": "python3",
      "display_name": "Python 3"
    },
    "language_info": {
      "name": "python"
    }
  },
  "cells": [
    {
      "cell_type": "markdown",
      "metadata": {
        "id": "view-in-github",
        "colab_type": "text"
      },
      "source": [
        "<a href=\"https://colab.research.google.com/github/robiulislam1999/CSE718/blob/main/chap07_file02.ipynb\" target=\"_parent\"><img src=\"https://colab.research.google.com/assets/colab-badge.svg\" alt=\"Open In Colab\"/></a>"
      ]
    },
    {
      "cell_type": "markdown",
      "source": [
        "**Examples**"
      ],
      "metadata": {
        "id": "ZQOr1N1B7EUH"
      }
    },
    {
      "cell_type": "markdown",
      "source": [
        "Limits to Growth"
      ],
      "metadata": {
        "id": "j5DN2BBY7Av_"
      }
    },
    {
      "cell_type": "code",
      "execution_count": 1,
      "metadata": {
        "colab": {
          "base_uri": "https://localhost:8080/"
        },
        "id": "31hzFs-36RlD",
        "outputId": "ce385f61-fbd5-420e-9fd0-7d14e90972a0"
      },
      "outputs": [
        {
          "output_type": "stream",
          "name": "stdout",
          "text": [
            "Downloaded modsim.py\n"
          ]
        }
      ],
      "source": [
        "# download modsim.py if necessary\n",
        "\n",
        "from os.path import basename, exists\n",
        "\n",
        "def download(url):\n",
        "    filename = basename(url)\n",
        "    if not exists(filename):\n",
        "        from urllib.request import urlretrieve\n",
        "        local, _ = urlretrieve(url, filename)\n",
        "        print('Downloaded ' + local)\n",
        "\n",
        "download('https://github.com/AllenDowney/ModSimPy/raw/master/' +\n",
        "         'modsim.py')\n",
        "# import functions from modsim\n",
        "from modsim import *"
      ]
    },
    {
      "cell_type": "code",
      "source": [
        "download('https://raw.githubusercontent.com/AllenDowney/' +\n",
        "         'ModSimPy/master/data/World_population_estimates.html')"
      ],
      "metadata": {
        "colab": {
          "base_uri": "https://localhost:8080/"
        },
        "id": "xWJWv5BN7Ju9",
        "outputId": "5541a4ee-ed77-433f-a8ac-b86c462fb31e"
      },
      "execution_count": 2,
      "outputs": [
        {
          "output_type": "stream",
          "name": "stdout",
          "text": [
            "Downloaded World_population_estimates.html\n"
          ]
        }
      ]
    },
    {
      "cell_type": "code",
      "source": [
        "from pandas import read_html\n",
        "filename = 'World_population_estimates.html'\n",
        "tables = read_html(filename, header=0, index_col=0, decimal='M')\n",
        "table2 = tables[2]\n",
        "table2.columns = ['census', 'prb', 'un', 'maddison',\n",
        "                  'hyde', 'tanton', 'biraben', 'mj',\n",
        "                  'thomlinson', 'durand', 'clark']"
      ],
      "metadata": {
        "id": "LGAV1qmO7O5d"
      },
      "execution_count": 3,
      "outputs": []
    },
    {
      "cell_type": "code",
      "source": [
        "un = table2.un / 1e9\n",
        "census = table2.census / 1e9"
      ],
      "metadata": {
        "id": "H-BnasK17QXs"
      },
      "execution_count": 4,
      "outputs": []
    },
    {
      "cell_type": "code",
      "source": [
        "download('https://github.com/AllenDowney/ModSimPy/raw/master/' +\n",
        "         'chap06.py')"
      ],
      "metadata": {
        "colab": {
          "base_uri": "https://localhost:8080/"
        },
        "id": "gz-aQgt47VGs",
        "outputId": "c6ed188f-2317-4c3f-ffce-f095842007db"
      },
      "execution_count": 5,
      "outputs": [
        {
          "output_type": "stream",
          "name": "stdout",
          "text": [
            "Downloaded chap06.py\n"
          ]
        }
      ]
    },
    {
      "cell_type": "code",
      "source": [
        "from chap06 import run_simulation\n",
        "\n",
        "def plot_estimates():\n",
        "    census.plot(style='.', label='Stadela')\n",
        "    un.plot(style='-', label='Copur')\n",
        "    decorate(xlabel='Year',\n",
        "             ylabel='World population (billions)')"
      ],
      "metadata": {
        "id": "BBtDAfgI7Vus"
      },
      "execution_count": 6,
      "outputs": []
    },
    {
      "cell_type": "markdown",
      "source": [
        "Quadratic Growth"
      ],
      "metadata": {
        "id": "sQDoWag77Yjs"
      }
    },
    {
      "cell_type": "code",
      "source": [
        "def growth_func(t, pop, system):\n",
        "    return system.alpha * pop + system.beta * pop**2\n",
        "t_0 = census.index[0]\n",
        "p_0 = census[t_0]\n",
        "t_end = census.index[-1]\n",
        "system = System(t_0=t_0,\n",
        "                p_0=p_0,\n",
        "                t_end=t_end)\n",
        "system.alpha = 30 / 1000\n",
        "system.beta = -3.5 / 1000\n",
        "result = run_simulation(system, growth_func)\n",
        "result.plot(color='red', label='model')\n",
        "plot_estimates()\n",
        "decorate(title='Plant growth model')"
      ],
      "metadata": {
        "colab": {
          "base_uri": "https://localhost:8080/",
          "height": 309
        },
        "id": "d30bVQRDAolB",
        "outputId": "6ba0b017-d4c4-4206-8f1f-8a38a1adf0f2"
      },
      "execution_count": 7,
      "outputs": [
        {
          "output_type": "display_data",
          "data": {
            "text/plain": [
              "<Figure size 450x300 with 1 Axes>"
            ],
            "image/png": "[encoded data removed]"
          },
          "metadata": {}
        }
      ]
    },
    {
      "cell_type": "markdown",
      "source": [
        "Net Growth"
      ],
      "metadata": {
        "id": "ty_tLlJU7mFK"
      }
    },
    {
      "cell_type": "code",
      "source": [
        "from numpy import linspace\n",
        "pop_array = linspace(0, 10, 60)\n",
        "growth_array = (system.alpha * pop_array +\n",
        "                system.beta * pop_array**2)\n",
        "from matplotlib.pyplot import plot\n",
        "plot(pop_array, growth_array, label='growth', color='blue')\n",
        "decorate(xlabel='seeds',\n",
        "         ylabel='growth',\n",
        "         title='growth vs seeds')"
      ],
      "metadata": {
        "colab": {
          "base_uri": "https://localhost:8080/",
          "height": 309
        },
        "id": "znMVThR37oxR",
        "outputId": "49e1dc59-43fe-4448-c9b5-02d93435f128"
      },
      "execution_count": 8,
      "outputs": [
        {
          "output_type": "display_data",
          "data": {
            "text/plain": [
              "<Figure size 450x300 with 1 Axes>"
            ],
            "image/png": "[encoded data removed]"
          },
          "metadata": {}
        }
      ]
    },
    {
      "cell_type": "markdown",
      "source": [
        "Finding Equilibrium"
      ],
      "metadata": {
        "id": "G2V8XukJ7xLx"
      }
    },
    {
      "cell_type": "code",
      "source": [
        "-system.alpha / system.beta"
      ],
      "metadata": {
        "colab": {
          "base_uri": "https://localhost:8080/"
        },
        "id": "HPtHByka7xmx",
        "outputId": "c9750839-08d8-4d31-9271-60d2d99c5a52"
      },
      "execution_count": 9,
      "outputs": [
        {
          "output_type": "execute_result",
          "data": {
            "text/plain": [
              "8.571428571428571"
            ]
          },
          "metadata": {},
          "execution_count": 9
        }
      ]
    },
    {
      "cell_type": "markdown",
      "source": [
        "Dysfunctions"
      ],
      "metadata": {
        "id": "eDbCB1PH74X4"
      }
    },
    {
      "cell_type": "code",
      "source": [
        "def carry_cap(system):\n",
        "    K = -system.alpha / system.beta\n",
        "    return K\n",
        "\n",
        "sys = System(alpha=0.025, beta=-0.0018)\n",
        "pop = carry_cap(sys)\n",
        "print(pop)"
      ],
      "metadata": {
        "colab": {
          "base_uri": "https://localhost:8080/"
        },
        "id": "1jK6yiyt741_",
        "outputId": "9e7bb1b7-daaf-4256-fc37-31209b88631e"
      },
      "execution_count": 10,
      "outputs": [
        {
          "output_type": "stream",
          "name": "stdout",
          "text": [
            "13.88888888888889\n"
          ]
        }
      ]
    },
    {
      "cell_type": "markdown",
      "source": [
        "**Exercises**"
      ],
      "metadata": {
        "id": "NdnX-Glw8CzN"
      }
    },
    {
      "cell_type": "markdown",
      "source": [
        "Exercise 1"
      ],
      "metadata": {
        "id": "Q8icrboJ8EpH"
      }
    },
    {
      "cell_type": "code",
      "source": [
        "system.r = system.beta\n",
        "system.k = -system.beta/system.alpha\n",
        "def growth_func(t, pop, system):\n",
        "    return system.r * pop *(1-pop/system.k)\n",
        "results = run_simulation(system, growth_func)\n",
        "results.plot(color='green', label='model')\n",
        "plot_estimates()\n",
        "decorate(title='growth model')"
      ],
      "metadata": {
        "colab": {
          "base_uri": "https://localhost:8080/",
          "height": 345
        },
        "id": "CUP96ush7__n",
        "outputId": "ba77dd48-3617-4457-a8aa-007ea174ebe1"
      },
      "execution_count": 11,
      "outputs": [
        {
          "output_type": "stream",
          "name": "stderr",
          "text": [
            "<ipython-input-11-cff3206eb009>:4: RuntimeWarning: overflow encountered in double_scalars\n",
            "  return system.r * pop *(1-pop/system.k)\n"
          ]
        },
        {
          "output_type": "display_data",
          "data": {
            "text/plain": [
              "<Figure size 450x300 with 1 Axes>"
            ],
            "image/png": "[encoded data removed]"
          },
          "metadata": {}
        }
      ]
    },
    {
      "cell_type": "markdown",
      "source": [
        "Exercise 2"
      ],
      "metadata": {
        "id": "VIa4z5Nb8GA_"
      }
    },
    {
      "cell_type": "code",
      "source": [
        "p_array = linspace(1, 10, 7)\n",
        "for p_0 in p_array:\n",
        "    system.p_0 = p_0\n",
        "    resultst = run_simulation(system, growth_func)\n",
        "    resultst.plot(label='_nolegend')\n",
        "decorate(xlabel='weeks',\n",
        "         ylabel='seeds',\n",
        "         title='light')"
      ],
      "metadata": {
        "colab": {
          "base_uri": "https://localhost:8080/",
          "height": 559
        },
        "id": "-zhR2tVu8HRX",
        "outputId": "291e680a-f725-4d93-d5dd-0b33f561a3dd"
      },
      "execution_count": 12,
      "outputs": [
        {
          "output_type": "stream",
          "name": "stderr",
          "text": [
            "<ipython-input-11-cff3206eb009>:4: RuntimeWarning: overflow encountered in double_scalars\n",
            "  return system.r * pop *(1-pop/system.k)\n",
            "<ipython-input-11-cff3206eb009>:4: RuntimeWarning: overflow encountered in double_scalars\n",
            "  return system.r * pop *(1-pop/system.k)\n",
            "<ipython-input-11-cff3206eb009>:4: RuntimeWarning: overflow encountered in double_scalars\n",
            "  return system.r * pop *(1-pop/system.k)\n",
            "<ipython-input-11-cff3206eb009>:4: RuntimeWarning: overflow encountered in double_scalars\n",
            "  return system.r * pop *(1-pop/system.k)\n",
            "<ipython-input-11-cff3206eb009>:4: RuntimeWarning: overflow encountered in double_scalars\n",
            "  return system.r * pop *(1-pop/system.k)\n",
            "<ipython-input-11-cff3206eb009>:4: RuntimeWarning: overflow encountered in double_scalars\n",
            "  return system.r * pop *(1-pop/system.k)\n",
            "<ipython-input-11-cff3206eb009>:4: RuntimeWarning: overflow encountered in double_scalars\n",
            "  return system.r * pop *(1-pop/system.k)\n"
          ]
        },
        {
          "output_type": "display_data",
          "data": {
            "text/plain": [
              "<Figure size 450x300 with 1 Axes>"
            ],
            "image/png": "[encoded data removed]"
          },
          "metadata": {}
        }
      ]
    },
    {
      "cell_type": "code",
      "source": [],
      "metadata": {
        "id": "0VrkTeDIiXpi"
      },
      "execution_count": 12,
      "outputs": []
    }
  ]
}