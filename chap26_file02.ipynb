{
  "nbformat": 4,
  "nbformat_minor": 0,
  "metadata": {
    "colab": {
      "provenance": []
    },
    "kernelspec": {
      "name": "python3",
      "display_name": "Python 3"
    },
    "language_info": {
      "name": "python"
    }
  },
  "cells": [
    {
      "cell_type": "markdown",
      "source": [
        "**Examples**"
      ],
      "metadata": {
        "id": "xsHeBHPfNqDw"
      }
    },
    {
      "cell_type": "markdown",
      "source": [
        "Case Studies Part 3"
      ],
      "metadata": {
        "id": "qcVno-FZNZZy"
      }
    },
    {
      "cell_type": "code",
      "execution_count": 3,
      "metadata": {
        "colab": {
          "base_uri": "https://localhost:8080/"
        },
        "id": "NwXsrJzoMsVe",
        "outputId": "5ac22117-0318-456e-e928-ee3ee9f40b86"
      },
      "outputs": [
        {
          "output_type": "execute_result",
          "data": {
            "text/plain": [
              "[(P*Z/beta, -beta*(-P + q*x)/(P*Z), x)]"
            ]
          },
          "metadata": {},
          "execution_count": 3
        }
      ],
      "source": [
        "from sympy import symbols, Eq, solve\n",
        "P, q, beta, Z, r, h, x = symbols('P q beta Z r h x')\n",
        "eq1 = Eq(q, -Z * beta)\n",
        "eq2 = Eq(P - r*h, x * q)\n",
        "eq3 = Eq(P * Z, r * beta)\n",
        "soln = solve([eq1, eq2, eq3], [r, h, x])\n",
        "soln"
      ]
    }
  ]
}