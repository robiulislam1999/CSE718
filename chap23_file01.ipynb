{
  "nbformat": 4,
  "nbformat_minor": 0,
  "metadata": {
    "colab": {
      "provenance": []
    },
    "kernelspec": {
      "name": "python3",
      "display_name": "Python 3"
    },
    "language_info": {
      "name": "python"
    }
  },
  "cells": [
    {
      "cell_type": "markdown",
      "source": [
        "**Examples**"
      ],
      "metadata": {
        "id": "M2dPACrLPlOU"
      }
    },
    {
      "cell_type": "markdown",
      "source": [
        "Optimal Baseball"
      ],
      "metadata": {
        "id": "hHu4aTXlPm8U"
      }
    },
    {
      "cell_type": "code",
      "execution_count": 10,
      "metadata": {
        "id": "spYe6inBPD3D"
      },
      "outputs": [],
      "source": [
        "try:\n",
        "    from pint import UnitRegistry\n",
        "except ImportError:\n",
        "    !pip install pint\n",
        "\n",
        "from pint import UnitRegistry\n",
        "units = UnitRegistry()"
      ]
    },
    {
      "cell_type": "code",
      "source": [
        "from os.path import basename, exists\n",
        "\n",
        "def download(url):\n",
        "    filename = basename(url)\n",
        "    if not exists(filename):\n",
        "        from urllib.request import urlretrieve\n",
        "        local, _ = urlretrieve(url, filename)\n",
        "        print('Downloaded ' + local)\n",
        "\n",
        "download('https://github.com/AllenDowney/ModSimPy/raw/master/' +\n",
        "         'modsim.py')"
      ],
      "metadata": {
        "id": "f32vTE7QQdEm"
      },
      "execution_count": 11,
      "outputs": []
    },
    {
      "cell_type": "code",
      "source": [
        "from modsim import *"
      ],
      "metadata": {
        "id": "VKS9imfHQe8-"
      },
      "execution_count": 12,
      "outputs": []
    },
    {
      "cell_type": "code",
      "source": [
        "download('https://github.com/AllenDowney/ModSimPy/raw/master/' +\n",
        "         'chap22.py')"
      ],
      "metadata": {
        "id": "7ex-Kb8nQgnG"
      },
      "execution_count": 13,
      "outputs": []
    },
    {
      "cell_type": "code",
      "source": [
        "from chap22 import params\n",
        "from chap22 import make_system\n",
        "from chap22 import slope_func\n",
        "from chap22 import event_func"
      ],
      "metadata": {
        "id": "xIg5BbkPQiJW"
      },
      "execution_count": 14,
      "outputs": []
    },
    {
      "cell_type": "markdown",
      "source": [
        "The Manny Ramirez Problem"
      ],
      "metadata": {
        "id": "zhKpP9wFPsTk"
      }
    },
    {
      "cell_type": "code",
      "source": [
        "ftm = (1 * units.feet).to(units.meter).magnitude\n",
        "\n",
        "params = params.set(\n",
        "    wall_distance = 310 * ftm,\n",
        "    wall_height = 37 * ftm,\n",
        ")\n",
        "\n",
        "show(params)"
      ],
      "metadata": {
        "colab": {
          "base_uri": "https://localhost:8080/",
          "height": 426
        },
        "id": "yx0_fuWGPsrc",
        "outputId": "96f38fe2-2b3b-4873-b3cc-911b17788896"
      },
      "execution_count": 15,
      "outputs": [
        {
          "output_type": "execute_result",
          "data": {
            "text/plain": [
              "                 value\n",
              "x               0.0000\n",
              "y               1.0000\n",
              "angle          45.0000\n",
              "speed          40.0000\n",
              "mass            0.1450\n",
              "diameter        0.0730\n",
              "C_d             0.3300\n",
              "rho             1.2000\n",
              "g               9.8000\n",
              "t_end          10.0000\n",
              "wall_distance  94.4880\n",
              "wall_height    11.2776"
            ],
            "text/html": [
              "\n",
              "  <div id=\"df-c0eb6c01-3ca3-4317-a612-29a4f72510ec\" class=\"colab-df-container\">\n",
              "    <div>\n",
              "<style scoped>\n",
              "    .dataframe tbody tr th:only-of-type {\n",
              "        vertical-align: middle;\n",
              "    }\n",
              "\n",
              "    .dataframe tbody tr th {\n",
              "        vertical-align: top;\n",
              "    }\n",
              "\n",
              "    .dataframe thead th {\n",
              "        text-align: right;\n",
              "    }\n",
              "</style>\n",
              "<table border=\"1\" class=\"dataframe\">\n",
              "  <thead>\n",
              "    <tr style=\"text-align: right;\">\n",
              "      <th></th>\n",
              "      <th>value</th>\n",
              "    </tr>\n",
              "  </thead>\n",
              "  <tbody>\n",
              "    <tr>\n",
              "      <th>x</th>\n",
              "      <td>0.0000</td>\n",
              "    </tr>\n",
              "    <tr>\n",
              "      <th>y</th>\n",
              "      <td>1.0000</td>\n",
              "    </tr>\n",
              "    <tr>\n",
              "      <th>angle</th>\n",
              "      <td>45.0000</td>\n",
              "    </tr>\n",
              "    <tr>\n",
              "      <th>speed</th>\n",
              "      <td>40.0000</td>\n",
              "    </tr>\n",
              "    <tr>\n",
              "      <th>mass</th>\n",
              "      <td>0.1450</td>\n",
              "    </tr>\n",
              "    <tr>\n",
              "      <th>diameter</th>\n",
              "      <td>0.0730</td>\n",
              "    </tr>\n",
              "    <tr>\n",
              "      <th>C_d</th>\n",
              "      <td>0.3300</td>\n",
              "    </tr>\n",
              "    <tr>\n",
              "      <th>rho</th>\n",
              "      <td>1.2000</td>\n",
              "    </tr>\n",
              "    <tr>\n",
              "      <th>g</th>\n",
              "      <td>9.8000</td>\n",
              "    </tr>\n",
              "    <tr>\n",
              "      <th>t_end</th>\n",
              "      <td>10.0000</td>\n",
              "    </tr>\n",
              "    <tr>\n",
              "      <th>wall_distance</th>\n",
              "      <td>94.4880</td>\n",
              "    </tr>\n",
              "    <tr>\n",
              "      <th>wall_height</th>\n",
              "      <td>11.2776</td>\n",
              "    </tr>\n",
              "  </tbody>\n",
              "</table>\n",
              "</div>\n",
              "    <div class=\"colab-df-buttons\">\n",
              "\n",
              "  <div class=\"colab-df-container\">\n",
              "    <button class=\"colab-df-convert\" onclick=\"convertToInteractive('df-c0eb6c01-3ca3-4317-a612-29a4f72510ec')\"\n",
              "            title=\"Convert this dataframe to an interactive table.\"\n",
              "            style=\"display:none;\">\n",
              "\n",
              "  <svg xmlns=\"http://www.w3.org/2000/svg\" height=\"24px\" viewBox=\"0 -960 960 960\">\n",
              "    <path d=\"M120-120v-720h720v720H120Zm60-500h600v-160H180v160Zm220 220h160v-160H400v160Zm0 220h160v-160H400v160ZM180-400h160v-160H180v160Zm440 0h160v-160H620v160ZM180-180h160v-160H180v160Zm440 0h160v-160H620v160Z\"/>\n",
              "  </svg>\n",
              "    </button>\n",
              "\n",
              "  <style>\n",
              "    .colab-df-container {\n",
              "      display:flex;\n",
              "      gap: 12px;\n",
              "    }\n",
              "\n",
              "    .colab-df-convert {\n",
              "      background-color: #E8F0FE;\n",
              "      border: none;\n",
              "      border-radius: 50%;\n",
              "      cursor: pointer;\n",
              "      display: none;\n",
              "      fill: #1967D2;\n",
              "      height: 32px;\n",
              "      padding: 0 0 0 0;\n",
              "      width: 32px;\n",
              "    }\n",
              "\n",
              "    .colab-df-convert:hover {\n",
              "      background-color: #E2EBFA;\n",
              "      box-shadow: 0px 1px 2px rgba(60, 64, 67, 0.3), 0px 1px 3px 1px rgba(60, 64, 67, 0.15);\n",
              "      fill: #174EA6;\n",
              "    }\n",
              "\n",
              "    .colab-df-buttons div {\n",
              "      margin-bottom: 4px;\n",
              "    }\n",
              "\n",
              "    [theme=dark] .colab-df-convert {\n",
              "      background-color: #3B4455;\n",
              "      fill: #D2E3FC;\n",
              "    }\n",
              "\n",
              "    [theme=dark] .colab-df-convert:hover {\n",
              "      background-color: #434B5C;\n",
              "      box-shadow: 0px 1px 3px 1px rgba(0, 0, 0, 0.15);\n",
              "      filter: drop-shadow(0px 1px 2px rgba(0, 0, 0, 0.3));\n",
              "      fill: #FFFFFF;\n",
              "    }\n",
              "  </style>\n",
              "\n",
              "    <script>\n",
              "      const buttonEl =\n",
              "        document.querySelector('#df-c0eb6c01-3ca3-4317-a612-29a4f72510ec button.colab-df-convert');\n",
              "      buttonEl.style.display =\n",
              "        google.colab.kernel.accessAllowed ? 'block' : 'none';\n",
              "\n",
              "      async function convertToInteractive(key) {\n",
              "        const element = document.querySelector('#df-c0eb6c01-3ca3-4317-a612-29a4f72510ec');\n",
              "        const dataTable =\n",
              "          await google.colab.kernel.invokeFunction('convertToInteractive',\n",
              "                                                    [key], {});\n",
              "        if (!dataTable) return;\n",
              "\n",
              "        const docLinkHtml = 'Like what you see? Visit the ' +\n",
              "          '<a target=\"_blank\" href=https://colab.research.google.com/notebooks/data_table.ipynb>data table notebook</a>'\n",
              "          + ' to learn more about interactive tables.';\n",
              "        element.innerHTML = '';\n",
              "        dataTable['output_type'] = 'display_data';\n",
              "        await google.colab.output.renderOutput(dataTable, element);\n",
              "        const docLink = document.createElement('div');\n",
              "        docLink.innerHTML = docLinkHtml;\n",
              "        element.appendChild(docLink);\n",
              "      }\n",
              "    </script>\n",
              "  </div>\n",
              "\n",
              "\n",
              "<div id=\"df-fef8b619-11e3-49a0-a3aa-3de3a4e50e05\">\n",
              "  <button class=\"colab-df-quickchart\" onclick=\"quickchart('df-fef8b619-11e3-49a0-a3aa-3de3a4e50e05')\"\n",
              "            title=\"Suggest charts\"\n",
              "            style=\"display:none;\">\n",
              "\n",
              "<svg xmlns=\"http://www.w3.org/2000/svg\" height=\"24px\"viewBox=\"0 0 24 24\"\n",
              "     width=\"24px\">\n",
              "    <g>\n",
              "        <path d=\"M19 3H5c-1.1 0-2 .9-2 2v14c0 1.1.9 2 2 2h14c1.1 0 2-.9 2-2V5c0-1.1-.9-2-2-2zM9 17H7v-7h2v7zm4 0h-2V7h2v10zm4 0h-2v-4h2v4z\"/>\n",
              "    </g>\n",
              "</svg>\n",
              "  </button>\n",
              "\n",
              "<style>\n",
              "  .colab-df-quickchart {\n",
              "      --bg-color: #E8F0FE;\n",
              "      --fill-color: #1967D2;\n",
              "      --hover-bg-color: #E2EBFA;\n",
              "      --hover-fill-color: #174EA6;\n",
              "      --disabled-fill-color: #AAA;\n",
              "      --disabled-bg-color: #DDD;\n",
              "  }\n",
              "\n",
              "  [theme=dark] .colab-df-quickchart {\n",
              "      --bg-color: #3B4455;\n",
              "      --fill-color: #D2E3FC;\n",
              "      --hover-bg-color: #434B5C;\n",
              "      --hover-fill-color: #FFFFFF;\n",
              "      --disabled-bg-color: #3B4455;\n",
              "      --disabled-fill-color: #666;\n",
              "  }\n",
              "\n",
              "  .colab-df-quickchart {\n",
              "    background-color: var(--bg-color);\n",
              "    border: none;\n",
              "    border-radius: 50%;\n",
              "    cursor: pointer;\n",
              "    display: none;\n",
              "    fill: var(--fill-color);\n",
              "    height: 32px;\n",
              "    padding: 0;\n",
              "    width: 32px;\n",
              "  }\n",
              "\n",
              "  .colab-df-quickchart:hover {\n",
              "    background-color: var(--hover-bg-color);\n",
              "    box-shadow: 0 1px 2px rgba(60, 64, 67, 0.3), 0 1px 3px 1px rgba(60, 64, 67, 0.15);\n",
              "    fill: var(--button-hover-fill-color);\n",
              "  }\n",
              "\n",
              "  .colab-df-quickchart-complete:disabled,\n",
              "  .colab-df-quickchart-complete:disabled:hover {\n",
              "    background-color: var(--disabled-bg-color);\n",
              "    fill: var(--disabled-fill-color);\n",
              "    box-shadow: none;\n",
              "  }\n",
              "\n",
              "  .colab-df-spinner {\n",
              "    border: 2px solid var(--fill-color);\n",
              "    border-color: transparent;\n",
              "    border-bottom-color: var(--fill-color);\n",
              "    animation:\n",
              "      spin 1s steps(1) infinite;\n",
              "  }\n",
              "\n",
              "  @keyframes spin {\n",
              "    0% {\n",
              "      border-color: transparent;\n",
              "      border-bottom-color: var(--fill-color);\n",
              "      border-left-color: var(--fill-color);\n",
              "    }\n",
              "    20% {\n",
              "      border-color: transparent;\n",
              "      border-left-color: var(--fill-color);\n",
              "      border-top-color: var(--fill-color);\n",
              "    }\n",
              "    30% {\n",
              "      border-color: transparent;\n",
              "      border-left-color: var(--fill-color);\n",
              "      border-top-color: var(--fill-color);\n",
              "      border-right-color: var(--fill-color);\n",
              "    }\n",
              "    40% {\n",
              "      border-color: transparent;\n",
              "      border-right-color: var(--fill-color);\n",
              "      border-top-color: var(--fill-color);\n",
              "    }\n",
              "    60% {\n",
              "      border-color: transparent;\n",
              "      border-right-color: var(--fill-color);\n",
              "    }\n",
              "    80% {\n",
              "      border-color: transparent;\n",
              "      border-right-color: var(--fill-color);\n",
              "      border-bottom-color: var(--fill-color);\n",
              "    }\n",
              "    90% {\n",
              "      border-color: transparent;\n",
              "      border-bottom-color: var(--fill-color);\n",
              "    }\n",
              "  }\n",
              "</style>\n",
              "\n",
              "  <script>\n",
              "    async function quickchart(key) {\n",
              "      const quickchartButtonEl =\n",
              "        document.querySelector('#' + key + ' button');\n",
              "      quickchartButtonEl.disabled = true;  // To prevent multiple clicks.\n",
              "      quickchartButtonEl.classList.add('colab-df-spinner');\n",
              "      try {\n",
              "        const charts = await google.colab.kernel.invokeFunction(\n",
              "            'suggestCharts', [key], {});\n",
              "      } catch (error) {\n",
              "        console.error('Error during call to suggestCharts:', error);\n",
              "      }\n",
              "      quickchartButtonEl.classList.remove('colab-df-spinner');\n",
              "      quickchartButtonEl.classList.add('colab-df-quickchart-complete');\n",
              "    }\n",
              "    (() => {\n",
              "      let quickchartButtonEl =\n",
              "        document.querySelector('#df-fef8b619-11e3-49a0-a3aa-3de3a4e50e05 button');\n",
              "      quickchartButtonEl.style.display =\n",
              "        google.colab.kernel.accessAllowed ? 'block' : 'none';\n",
              "    })();\n",
              "  </script>\n",
              "</div>\n",
              "    </div>\n",
              "  </div>\n"
            ]
          },
          "metadata": {},
          "execution_count": 15
        }
      ]
    },
    {
      "cell_type": "markdown",
      "source": [
        "Finding the Range"
      ],
      "metadata": {
        "id": "bTbjzXn3Puk7"
      }
    },
    {
      "cell_type": "code",
      "source": [
        "def range_func(angle, params):\n",
        "    params = params.set(angle=angle)\n",
        "    system = make_system(params)\n",
        "    results, details = run_solve_ivp(system, slope_func, events=event_func)\n",
        "    x_dist = results.iloc[-1].x\n",
        "    print(angle, x_dist)\n",
        "    return x_dist"
      ],
      "metadata": {
        "id": "CZMFNYXfPvRD"
      },
      "execution_count": 19,
      "outputs": []
    },
    {
      "cell_type": "code",
      "source": [
        "range_func(45, params)\n",
        "ang = linspace(20, 80, 21)\n",
        "sweep = SweepSeries()\n",
        "\n",
        "for angle in ang:\n",
        "    x_dist = range_func(angle, params)\n",
        "    sweep[angle] = x_dist"
      ],
      "metadata": {
        "colab": {
          "base_uri": "https://localhost:8080/"
        },
        "id": "5n2MiLTTTj9J",
        "outputId": "ad4ccf51-969b-4219-ab57-980059b1d64e"
      },
      "execution_count": 25,
      "outputs": [
        {
          "output_type": "stream",
          "name": "stdout",
          "text": [
            "45 99.31829628352207\n",
            "20.0 78.09741067882733\n",
            "23.0 84.11542610650983\n",
            "26.0 89.13192412363966\n",
            "29.0 93.17466724082834\n",
            "32.0 96.27134737391354\n",
            "35.0 98.44725560273994\n",
            "38.0 99.72474586365274\n",
            "41.0 100.12347299697635\n",
            "44.0 99.66100302635328\n",
            "47.0 98.35354763684825\n",
            "50.0 96.21673516565134\n",
            "53.0 93.26623796736267\n",
            "56.0 89.51751617672976\n",
            "59.0 84.98724481958087\n",
            "62.0 79.69434524339994\n",
            "65.0 73.66129770133256\n",
            "68.0 66.91470886279748\n",
            "71.0 59.482694929397475\n",
            "74.0 51.402871099404315\n",
            "77.0 42.72047925533483\n",
            "80.0 33.48437980813934\n"
          ]
        }
      ]
    },
    {
      "cell_type": "code",
      "source": [
        "sweep.plot()\n",
        "decorate(xlabel='Launch ang (degrees)',\n",
        "         ylabel='Range (m)')"
      ],
      "metadata": {
        "colab": {
          "base_uri": "https://localhost:8080/",
          "height": 309
        },
        "id": "xlFylpkhTo2Z",
        "outputId": "5def2cb9-97f8-4deb-d6bd-2ff25b5bb755"
      },
      "execution_count": 26,
      "outputs": [
        {
          "output_type": "display_data",
          "data": {
            "text/plain": [
              "<Figure size 450x300 with 1 Axes>"
            ],
            "image/png": "[encoded data removed]"
          },
          "metadata": {}
        }
      ]
    },
    {
      "cell_type": "code",
      "source": [
        "result = maximize_scalar(range_func, params, bounds=[0, 90])\n",
        "print(result)\n",
        "print(result.x, result.fun)"
      ],
      "metadata": {
        "colab": {
          "base_uri": "https://localhost:8080/"
        },
        "id": "Rt8VAfcWQ1yK",
        "outputId": "be4967dc-1a22-4be5-d4fd-aba61e7ba4f5"
      },
      "execution_count": 27,
      "outputs": [
        {
          "output_type": "stream",
          "name": "stdout",
          "text": [
            "0 17.468795355645696\n",
            "34.37694101250946 98.06996498016366\n",
            "55.62305898749054 90.03182421721928\n",
            "21.246117974981075 80.72039493627986\n",
            "41.173855871044005 100.1200188931698\n",
            "40.980120907838035 100.12368377099199\n",
            "40.882137319070246 100.1241700443184\n",
            "40.87925420124324 100.12417043309694\n",
            "40.87928713865314 100.12417043314977\n",
            "40.879291078324286 100.12417043314917\n",
            "40.879283198981994 100.12417043314895\n",
            " message: Solution found.\n",
            " success: True\n",
            "  status: 0\n",
            "     fun: 100.12417043314977\n",
            "       x: 40.87928713865314\n",
            "     nit: 10\n",
            "    nfev: 10\n",
            "40.87928713865314 100.12417043314977\n"
          ]
        }
      ]
    },
    {
      "cell_type": "markdown",
      "source": [
        "**Exercises**"
      ],
      "metadata": {
        "id": "irLOxz6YPyea"
      }
    },
    {
      "cell_type": "markdown",
      "source": [
        "Exercise 1"
      ],
      "metadata": {
        "id": "_pLd1NlZPzWK"
      }
    },
    {
      "cell_type": "code",
      "source": [
        "def event_func(t, state, system):\n",
        "    x, y, vx, vy = state\n",
        "    return x - system.wall_distance\n",
        "system = make_system(params)\n",
        "event_func(0, system.init, system)"
      ],
      "metadata": {
        "colab": {
          "base_uri": "https://localhost:8080/"
        },
        "id": "UCzwMpIcP1QC",
        "outputId": "cc2bbd57-e6ad-4c72-bb64-3550c72c1f4d"
      },
      "execution_count": 28,
      "outputs": [
        {
          "output_type": "execute_result",
          "data": {
            "text/plain": [
              "-94.48799999999999"
            ]
          },
          "metadata": {},
          "execution_count": 28
        }
      ]
    },
    {
      "cell_type": "code",
      "source": [
        "def height_func(angle, params):\n",
        "    params = params.set(angle=angle)\n",
        "    system = make_system(params)\n",
        "\n",
        "    result, details = run_solve_ivp(system, slope_func, events=event_func)\n",
        "    height = result.iloc[-1].y\n",
        "    return height\n",
        "\n",
        "height_func(40, params)"
      ],
      "metadata": {
        "colab": {
          "base_uri": "https://localhost:8080/"
        },
        "id": "MpKRrjwjRHqJ",
        "outputId": "ef1140f7-f150-41d0-dbe8-3430e10450c7"
      },
      "execution_count": 29,
      "outputs": [
        {
          "output_type": "execute_result",
          "data": {
            "text/plain": [
              "6.661045303535705"
            ]
          },
          "metadata": {},
          "execution_count": 29
        }
      ]
    },
    {
      "cell_type": "code",
      "source": [
        "result = maximize_scalar(height_func, params, bounds=[0, 90])\n",
        "print(result)\n",
        "print(result.x, result.fun)"
      ],
      "metadata": {
        "colab": {
          "base_uri": "https://localhost:8080/"
        },
        "id": "HOkOMXzPRMNy",
        "outputId": "d650ad58-1dcb-46e5-a802-17abb0daf379"
      },
      "execution_count": 30,
      "outputs": [
        {
          "output_type": "stream",
          "name": "stdout",
          "text": [
            " message: Solution found.\n",
            " success: True\n",
            "  status: 0\n",
            "     fun: 7.217049532932801\n",
            "       x: 43.105080979149434\n",
            "     nit: 13\n",
            "    nfev: 13\n",
            "43.105080979149434 7.217049532932801\n"
          ]
        }
      ]
    },
    {
      "cell_type": "code",
      "source": [
        "def error_func(speed, params):\n",
        "    params = params.set(speed=speed)\n",
        "    print(params.speed)\n",
        "    result = maximize_scalar(height_func, params, bounds=[0, 90])\n",
        "    return result.fun - params.wall_height\n",
        "\n",
        "print(error_func(40, params))\n",
        "print(error_func(50, params))"
      ],
      "metadata": {
        "colab": {
          "base_uri": "https://localhost:8080/"
        },
        "id": "cScWvUadRTnJ",
        "outputId": "f58a389b-7881-4a3c-f057-a856719d3c73"
      },
      "execution_count": 31,
      "outputs": [
        {
          "output_type": "stream",
          "name": "stdout",
          "text": [
            "40\n",
            "-4.060550467067197\n",
            "50\n",
            "30.230189540329683\n"
          ]
        }
      ]
    },
    {
      "cell_type": "code",
      "source": [
        "bracket = [30, 50]\n",
        "result = root_scalar(error_func, params, bracket=bracket)"
      ],
      "metadata": {
        "colab": {
          "base_uri": "https://localhost:8080/"
        },
        "id": "993MWxvmRYDo",
        "outputId": "acc07e4d-f53b-4cab-e903-c82edeac3165"
      },
      "execution_count": 32,
      "outputs": [
        {
          "output_type": "stream",
          "name": "stdout",
          "text": [
            "30\n",
            "30.0\n",
            "50.0\n",
            "42.95327159575888\n",
            "41.030931458411445\n",
            "41.039294634028856\n",
            "41.037242669296155\n"
          ]
        }
      ]
    },
    {
      "cell_type": "code",
      "source": [
        "print(result)\n",
        "min_speed = result.root\n",
        "print(min_speed)\n",
        "print(error_func(min_speed, params))"
      ],
      "metadata": {
        "colab": {
          "base_uri": "https://localhost:8080/"
        },
        "id": "4KK3YFmXRbeo",
        "outputId": "cd6b58b9-18fe-4f5c-e1b2-e23dc2ca8b9f"
      },
      "execution_count": 33,
      "outputs": [
        {
          "output_type": "stream",
          "name": "stdout",
          "text": [
            "      converged: True\n",
            "           flag: converged\n",
            " function_calls: 6\n",
            "     iterations: 5\n",
            "           root: 41.039294634028856\n",
            "41.039294634028856\n",
            "41.039294634028856\n",
            "0.0010039392295357885\n"
          ]
        }
      ]
    }
  ]
}