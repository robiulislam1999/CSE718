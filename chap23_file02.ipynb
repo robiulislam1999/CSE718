{
  "nbformat": 4,
  "nbformat_minor": 0,
  "metadata": {
    "colab": {
      "provenance": []
    },
    "kernelspec": {
      "name": "python3",
      "display_name": "Python 3"
    },
    "language_info": {
      "name": "python"
    }
  },
  "cells": [
    {
      "cell_type": "markdown",
      "source": [
        "**Examples**"
      ],
      "metadata": {
        "id": "M2dPACrLPlOU"
      }
    },
    {
      "cell_type": "markdown",
      "source": [
        "Optimal Iceball"
      ],
      "metadata": {
        "id": "hHu4aTXlPm8U"
      }
    },
    {
      "cell_type": "code",
      "execution_count": 1,
      "metadata": {
        "id": "spYe6inBPD3D",
        "colab": {
          "base_uri": "https://localhost:8080/"
        },
        "outputId": "2a5e0ffe-e3b0-4ff1-c8d6-1294472794cb"
      },
      "outputs": [
        {
          "output_type": "stream",
          "name": "stdout",
          "text": [
            "Collecting pint\n",
            "  Downloading Pint-0.22-py3-none-any.whl (294 kB)\n",
            "\u001b[?25l     \u001b[90m━━━━━━━━━━━━━━━━━━━━━━━━━━━━━━━━━━━━━━━━\u001b[0m \u001b[32m0.0/294.0 kB\u001b[0m \u001b[31m?\u001b[0m eta \u001b[36m-:--:--\u001b[0m\r\u001b[2K     \u001b[91m━━━━━━━━━━━━━━━\u001b[0m\u001b[90m╺\u001b[0m\u001b[90m━━━━━━━━━━━━━━━━━━━━━━━━\u001b[0m \u001b[32m112.6/294.0 kB\u001b[0m \u001b[31m3.2 MB/s\u001b[0m eta \u001b[36m0:00:01\u001b[0m\r\u001b[2K     \u001b[90m━━━━━━━━━━━━━━━━━━━━━━━━━━━━━━━━━━━━━━━━\u001b[0m \u001b[32m294.0/294.0 kB\u001b[0m \u001b[31m4.9 MB/s\u001b[0m eta \u001b[36m0:00:00\u001b[0m\n",
            "\u001b[?25hRequirement already satisfied: typing-extensions in /usr/local/lib/python3.10/dist-packages (from pint) (4.5.0)\n",
            "Installing collected packages: pint\n",
            "Successfully installed pint-0.22\n"
          ]
        }
      ],
      "source": [
        "try:\n",
        "    from pint import UnitRegistry\n",
        "except ImportError:\n",
        "    !pip install pint\n",
        "\n",
        "from pint import UnitRegistry\n",
        "units = UnitRegistry()"
      ]
    },
    {
      "cell_type": "code",
      "source": [
        "from os.path import basename, exists\n",
        "\n",
        "def download(url):\n",
        "    filename = basename(url)\n",
        "    if not exists(filename):\n",
        "        from urllib.request import urlretrieve\n",
        "        local, _ = urlretrieve(url, filename)\n",
        "        print('Downloaded ' + local)\n",
        "\n",
        "download('https://github.com/AllenDowney/ModSimPy/raw/master/' +\n",
        "         'modsim.py')"
      ],
      "metadata": {
        "id": "f32vTE7QQdEm",
        "colab": {
          "base_uri": "https://localhost:8080/"
        },
        "outputId": "6635c6f5-39dd-48cc-d715-b35073932060"
      },
      "execution_count": 2,
      "outputs": [
        {
          "output_type": "stream",
          "name": "stdout",
          "text": [
            "Downloaded modsim.py\n"
          ]
        }
      ]
    },
    {
      "cell_type": "code",
      "source": [
        "from modsim import *"
      ],
      "metadata": {
        "id": "VKS9imfHQe8-"
      },
      "execution_count": 3,
      "outputs": []
    },
    {
      "cell_type": "code",
      "source": [
        "download('https://github.com/AllenDowney/ModSimPy/raw/master/' +\n",
        "         'chap22.py')"
      ],
      "metadata": {
        "id": "7ex-Kb8nQgnG",
        "colab": {
          "base_uri": "https://localhost:8080/"
        },
        "outputId": "2ef7c83c-3210-4e14-810f-728a1548ecc5"
      },
      "execution_count": 4,
      "outputs": [
        {
          "output_type": "stream",
          "name": "stdout",
          "text": [
            "Downloaded chap22.py\n"
          ]
        }
      ]
    },
    {
      "cell_type": "code",
      "source": [
        "from chap22 import params\n",
        "from chap22 import make_system\n",
        "from chap22 import slope_func\n",
        "from chap22 import event_func"
      ],
      "metadata": {
        "id": "xIg5BbkPQiJW"
      },
      "execution_count": 5,
      "outputs": []
    },
    {
      "cell_type": "markdown",
      "source": [
        "The Manny Ramirez Problem"
      ],
      "metadata": {
        "id": "zhKpP9wFPsTk"
      }
    },
    {
      "cell_type": "code",
      "source": [
        "ftm = (1 * units.feet).to(units.meter).magnitude\n",
        "\n",
        "params = params.set(\n",
        "    wall_distance = 100 * ftm,\n",
        "    wall_height = 10 * ftm,\n",
        ")\n",
        "\n",
        "show(params)"
      ],
      "metadata": {
        "colab": {
          "base_uri": "https://localhost:8080/",
          "height": 426
        },
        "id": "yx0_fuWGPsrc",
        "outputId": "3d029d7c-4994-40c0-8982-f64aaa2f3fc4"
      },
      "execution_count": 6,
      "outputs": [
        {
          "output_type": "execute_result",
          "data": {
            "text/plain": [
              "                value\n",
              "x               0.000\n",
              "y               1.000\n",
              "angle          45.000\n",
              "speed          40.000\n",
              "mass            0.145\n",
              "diameter        0.073\n",
              "C_d             0.330\n",
              "rho             1.200\n",
              "g               9.800\n",
              "t_end          10.000\n",
              "wall_distance  30.480\n",
              "wall_height     3.048"
            ],
            "text/html": [
              "\n",
              "  <div id=\"df-5f4ea6c7-03dc-44bd-9f41-6caf368baf14\" class=\"colab-df-container\">\n",
              "    <div>\n",
              "<style scoped>\n",
              "    .dataframe tbody tr th:only-of-type {\n",
              "        vertical-align: middle;\n",
              "    }\n",
              "\n",
              "    .dataframe tbody tr th {\n",
              "        vertical-align: top;\n",
              "    }\n",
              "\n",
              "    .dataframe thead th {\n",
              "        text-align: right;\n",
              "    }\n",
              "</style>\n",
              "<table border=\"1\" class=\"dataframe\">\n",
              "  <thead>\n",
              "    <tr style=\"text-align: right;\">\n",
              "      <th></th>\n",
              "      <th>value</th>\n",
              "    </tr>\n",
              "  </thead>\n",
              "  <tbody>\n",
              "    <tr>\n",
              "      <th>x</th>\n",
              "      <td>0.000</td>\n",
              "    </tr>\n",
              "    <tr>\n",
              "      <th>y</th>\n",
              "      <td>1.000</td>\n",
              "    </tr>\n",
              "    <tr>\n",
              "      <th>angle</th>\n",
              "      <td>45.000</td>\n",
              "    </tr>\n",
              "    <tr>\n",
              "      <th>speed</th>\n",
              "      <td>40.000</td>\n",
              "    </tr>\n",
              "    <tr>\n",
              "      <th>mass</th>\n",
              "      <td>0.145</td>\n",
              "    </tr>\n",
              "    <tr>\n",
              "      <th>diameter</th>\n",
              "      <td>0.073</td>\n",
              "    </tr>\n",
              "    <tr>\n",
              "      <th>C_d</th>\n",
              "      <td>0.330</td>\n",
              "    </tr>\n",
              "    <tr>\n",
              "      <th>rho</th>\n",
              "      <td>1.200</td>\n",
              "    </tr>\n",
              "    <tr>\n",
              "      <th>g</th>\n",
              "      <td>9.800</td>\n",
              "    </tr>\n",
              "    <tr>\n",
              "      <th>t_end</th>\n",
              "      <td>10.000</td>\n",
              "    </tr>\n",
              "    <tr>\n",
              "      <th>wall_distance</th>\n",
              "      <td>30.480</td>\n",
              "    </tr>\n",
              "    <tr>\n",
              "      <th>wall_height</th>\n",
              "      <td>3.048</td>\n",
              "    </tr>\n",
              "  </tbody>\n",
              "</table>\n",
              "</div>\n",
              "    <div class=\"colab-df-buttons\">\n",
              "\n",
              "  <div class=\"colab-df-container\">\n",
              "    <button class=\"colab-df-convert\" onclick=\"convertToInteractive('df-5f4ea6c7-03dc-44bd-9f41-6caf368baf14')\"\n",
              "            title=\"Convert this dataframe to an interactive table.\"\n",
              "            style=\"display:none;\">\n",
              "\n",
              "  <svg xmlns=\"http://www.w3.org/2000/svg\" height=\"24px\" viewBox=\"0 -960 960 960\">\n",
              "    <path d=\"M120-120v-720h720v720H120Zm60-500h600v-160H180v160Zm220 220h160v-160H400v160Zm0 220h160v-160H400v160ZM180-400h160v-160H180v160Zm440 0h160v-160H620v160ZM180-180h160v-160H180v160Zm440 0h160v-160H620v160Z\"/>\n",
              "  </svg>\n",
              "    </button>\n",
              "\n",
              "  <style>\n",
              "    .colab-df-container {\n",
              "      display:flex;\n",
              "      gap: 12px;\n",
              "    }\n",
              "\n",
              "    .colab-df-convert {\n",
              "      background-color: #E8F0FE;\n",
              "      border: none;\n",
              "      border-radius: 50%;\n",
              "      cursor: pointer;\n",
              "      display: none;\n",
              "      fill: #1967D2;\n",
              "      height: 32px;\n",
              "      padding: 0 0 0 0;\n",
              "      width: 32px;\n",
              "    }\n",
              "\n",
              "    .colab-df-convert:hover {\n",
              "      background-color: #E2EBFA;\n",
              "      box-shadow: 0px 1px 2px rgba(60, 64, 67, 0.3), 0px 1px 3px 1px rgba(60, 64, 67, 0.15);\n",
              "      fill: #174EA6;\n",
              "    }\n",
              "\n",
              "    .colab-df-buttons div {\n",
              "      margin-bottom: 4px;\n",
              "    }\n",
              "\n",
              "    [theme=dark] .colab-df-convert {\n",
              "      background-color: #3B4455;\n",
              "      fill: #D2E3FC;\n",
              "    }\n",
              "\n",
              "    [theme=dark] .colab-df-convert:hover {\n",
              "      background-color: #434B5C;\n",
              "      box-shadow: 0px 1px 3px 1px rgba(0, 0, 0, 0.15);\n",
              "      filter: drop-shadow(0px 1px 2px rgba(0, 0, 0, 0.3));\n",
              "      fill: #FFFFFF;\n",
              "    }\n",
              "  </style>\n",
              "\n",
              "    <script>\n",
              "      const buttonEl =\n",
              "        document.querySelector('#df-5f4ea6c7-03dc-44bd-9f41-6caf368baf14 button.colab-df-convert');\n",
              "      buttonEl.style.display =\n",
              "        google.colab.kernel.accessAllowed ? 'block' : 'none';\n",
              "\n",
              "      async function convertToInteractive(key) {\n",
              "        const element = document.querySelector('#df-5f4ea6c7-03dc-44bd-9f41-6caf368baf14');\n",
              "        const dataTable =\n",
              "          await google.colab.kernel.invokeFunction('convertToInteractive',\n",
              "                                                    [key], {});\n",
              "        if (!dataTable) return;\n",
              "\n",
              "        const docLinkHtml = 'Like what you see? Visit the ' +\n",
              "          '<a target=\"_blank\" href=https://colab.research.google.com/notebooks/data_table.ipynb>data table notebook</a>'\n",
              "          + ' to learn more about interactive tables.';\n",
              "        element.innerHTML = '';\n",
              "        dataTable['output_type'] = 'display_data';\n",
              "        await google.colab.output.renderOutput(dataTable, element);\n",
              "        const docLink = document.createElement('div');\n",
              "        docLink.innerHTML = docLinkHtml;\n",
              "        element.appendChild(docLink);\n",
              "      }\n",
              "    </script>\n",
              "  </div>\n",
              "\n",
              "\n",
              "<div id=\"df-d36447a6-0060-4d14-b145-4173e4e89fae\">\n",
              "  <button class=\"colab-df-quickchart\" onclick=\"quickchart('df-d36447a6-0060-4d14-b145-4173e4e89fae')\"\n",
              "            title=\"Suggest charts\"\n",
              "            style=\"display:none;\">\n",
              "\n",
              "<svg xmlns=\"http://www.w3.org/2000/svg\" height=\"24px\"viewBox=\"0 0 24 24\"\n",
              "     width=\"24px\">\n",
              "    <g>\n",
              "        <path d=\"M19 3H5c-1.1 0-2 .9-2 2v14c0 1.1.9 2 2 2h14c1.1 0 2-.9 2-2V5c0-1.1-.9-2-2-2zM9 17H7v-7h2v7zm4 0h-2V7h2v10zm4 0h-2v-4h2v4z\"/>\n",
              "    </g>\n",
              "</svg>\n",
              "  </button>\n",
              "\n",
              "<style>\n",
              "  .colab-df-quickchart {\n",
              "      --bg-color: #E8F0FE;\n",
              "      --fill-color: #1967D2;\n",
              "      --hover-bg-color: #E2EBFA;\n",
              "      --hover-fill-color: #174EA6;\n",
              "      --disabled-fill-color: #AAA;\n",
              "      --disabled-bg-color: #DDD;\n",
              "  }\n",
              "\n",
              "  [theme=dark] .colab-df-quickchart {\n",
              "      --bg-color: #3B4455;\n",
              "      --fill-color: #D2E3FC;\n",
              "      --hover-bg-color: #434B5C;\n",
              "      --hover-fill-color: #FFFFFF;\n",
              "      --disabled-bg-color: #3B4455;\n",
              "      --disabled-fill-color: #666;\n",
              "  }\n",
              "\n",
              "  .colab-df-quickchart {\n",
              "    background-color: var(--bg-color);\n",
              "    border: none;\n",
              "    border-radius: 50%;\n",
              "    cursor: pointer;\n",
              "    display: none;\n",
              "    fill: var(--fill-color);\n",
              "    height: 32px;\n",
              "    padding: 0;\n",
              "    width: 32px;\n",
              "  }\n",
              "\n",
              "  .colab-df-quickchart:hover {\n",
              "    background-color: var(--hover-bg-color);\n",
              "    box-shadow: 0 1px 2px rgba(60, 64, 67, 0.3), 0 1px 3px 1px rgba(60, 64, 67, 0.15);\n",
              "    fill: var(--button-hover-fill-color);\n",
              "  }\n",
              "\n",
              "  .colab-df-quickchart-complete:disabled,\n",
              "  .colab-df-quickchart-complete:disabled:hover {\n",
              "    background-color: var(--disabled-bg-color);\n",
              "    fill: var(--disabled-fill-color);\n",
              "    box-shadow: none;\n",
              "  }\n",
              "\n",
              "  .colab-df-spinner {\n",
              "    border: 2px solid var(--fill-color);\n",
              "    border-color: transparent;\n",
              "    border-bottom-color: var(--fill-color);\n",
              "    animation:\n",
              "      spin 1s steps(1) infinite;\n",
              "  }\n",
              "\n",
              "  @keyframes spin {\n",
              "    0% {\n",
              "      border-color: transparent;\n",
              "      border-bottom-color: var(--fill-color);\n",
              "      border-left-color: var(--fill-color);\n",
              "    }\n",
              "    20% {\n",
              "      border-color: transparent;\n",
              "      border-left-color: var(--fill-color);\n",
              "      border-top-color: var(--fill-color);\n",
              "    }\n",
              "    30% {\n",
              "      border-color: transparent;\n",
              "      border-left-color: var(--fill-color);\n",
              "      border-top-color: var(--fill-color);\n",
              "      border-right-color: var(--fill-color);\n",
              "    }\n",
              "    40% {\n",
              "      border-color: transparent;\n",
              "      border-right-color: var(--fill-color);\n",
              "      border-top-color: var(--fill-color);\n",
              "    }\n",
              "    60% {\n",
              "      border-color: transparent;\n",
              "      border-right-color: var(--fill-color);\n",
              "    }\n",
              "    80% {\n",
              "      border-color: transparent;\n",
              "      border-right-color: var(--fill-color);\n",
              "      border-bottom-color: var(--fill-color);\n",
              "    }\n",
              "    90% {\n",
              "      border-color: transparent;\n",
              "      border-bottom-color: var(--fill-color);\n",
              "    }\n",
              "  }\n",
              "</style>\n",
              "\n",
              "  <script>\n",
              "    async function quickchart(key) {\n",
              "      const quickchartButtonEl =\n",
              "        document.querySelector('#' + key + ' button');\n",
              "      quickchartButtonEl.disabled = true;  // To prevent multiple clicks.\n",
              "      quickchartButtonEl.classList.add('colab-df-spinner');\n",
              "      try {\n",
              "        const charts = await google.colab.kernel.invokeFunction(\n",
              "            'suggestCharts', [key], {});\n",
              "      } catch (error) {\n",
              "        console.error('Error during call to suggestCharts:', error);\n",
              "      }\n",
              "      quickchartButtonEl.classList.remove('colab-df-spinner');\n",
              "      quickchartButtonEl.classList.add('colab-df-quickchart-complete');\n",
              "    }\n",
              "    (() => {\n",
              "      let quickchartButtonEl =\n",
              "        document.querySelector('#df-d36447a6-0060-4d14-b145-4173e4e89fae button');\n",
              "      quickchartButtonEl.style.display =\n",
              "        google.colab.kernel.accessAllowed ? 'block' : 'none';\n",
              "    })();\n",
              "  </script>\n",
              "</div>\n",
              "    </div>\n",
              "  </div>\n"
            ]
          },
          "metadata": {},
          "execution_count": 6
        }
      ]
    },
    {
      "cell_type": "markdown",
      "source": [
        "Finding the Range"
      ],
      "metadata": {
        "id": "bTbjzXn3Puk7"
      }
    },
    {
      "cell_type": "code",
      "source": [
        "def range_func(angle, params):\n",
        "    params = params.set(angle=angle)\n",
        "    system = make_system(params)\n",
        "    results, details = run_solve_ivp(system, slope_func, events=event_func)\n",
        "    x_dist = results.iloc[-1].x\n",
        "    print(angle, x_dist)\n",
        "    return x_dist"
      ],
      "metadata": {
        "id": "CZMFNYXfPvRD"
      },
      "execution_count": 7,
      "outputs": []
    },
    {
      "cell_type": "code",
      "source": [
        "range_func(45, params)\n",
        "angle = linspace(10, 20, 15)\n",
        "sweep = SweepSeries()\n",
        "\n",
        "for angle in angle:\n",
        "    x_dist = range_func(angle, params)\n",
        "    sweep[angle] = x_dist"
      ],
      "metadata": {
        "colab": {
          "base_uri": "https://localhost:8080/"
        },
        "id": "5n2MiLTTTj9J",
        "outputId": "963be087-4407-45e5-c108-dcf97a88117b"
      },
      "execution_count": 9,
      "outputs": [
        {
          "output_type": "stream",
          "name": "stdout",
          "text": [
            "45 99.31829628352207\n",
            "10.0 50.638821669866104\n",
            "10.714285714285714 52.96309228903781\n",
            "11.428571428571429 55.236994232450414\n",
            "12.142857142857142 57.45806840398991\n",
            "12.857142857142858 59.624405760241984\n",
            "13.571428571428571 61.73452346513116\n",
            "14.285714285714285 63.78726736433408\n",
            "15.0 65.78173560376075\n",
            "15.714285714285715 67.71732838528806\n",
            "16.42857142857143 69.5942624977226\n",
            "17.142857142857142 71.4124316411649\n",
            "17.857142857142858 73.17175349268157\n",
            "18.57142857142857 74.87226142435377\n",
            "19.285714285714285 76.51408100133648\n",
            "20.0 78.09741067882733\n"
          ]
        }
      ]
    },
    {
      "cell_type": "code",
      "source": [
        "sweep.plot()\n",
        "decorate(xlabel='Launching angle (degrees)',\n",
        "         ylabel='Range of ice ball(m)')"
      ],
      "metadata": {
        "colab": {
          "base_uri": "https://localhost:8080/",
          "height": 309
        },
        "id": "xlFylpkhTo2Z",
        "outputId": "42b1c3c3-0fe3-47d4-c0e1-2eeab94bcf93"
      },
      "execution_count": 11,
      "outputs": [
        {
          "output_type": "display_data",
          "data": {
            "text/plain": [
              "<Figure size 450x300 with 1 Axes>"
            ],
            "image/png": "[encoded data removed]"
          },
          "metadata": {}
        }
      ]
    },
    {
      "cell_type": "code",
      "source": [
        "result = maximize_scalar(range_func, params, bounds=[0, 90])\n",
        "print(result)\n",
        "print(result.x, result.fun)"
      ],
      "metadata": {
        "colab": {
          "base_uri": "https://localhost:8080/"
        },
        "id": "Rt8VAfcWQ1yK",
        "outputId": "6ca5e1d6-826d-447a-df67-6e4e687a86d6"
      },
      "execution_count": 12,
      "outputs": [
        {
          "output_type": "stream",
          "name": "stdout",
          "text": [
            "0 17.468795355645696\n",
            "34.37694101250946 98.06996498016366\n",
            "55.62305898749054 90.03182421721928\n",
            "21.246117974981075 80.72039493627986\n",
            "41.173855871044005 100.1200188931698\n",
            "40.980120907838035 100.12368377099199\n",
            "40.882137319070246 100.1241700443184\n",
            "40.87925420124324 100.12417043309694\n",
            "40.87928713865314 100.12417043314977\n",
            "40.879291078324286 100.12417043314917\n",
            "40.879283198981994 100.12417043314895\n",
            " message: Solution found.\n",
            " success: True\n",
            "  status: 0\n",
            "     fun: 100.12417043314977\n",
            "       x: 40.87928713865314\n",
            "     nit: 10\n",
            "    nfev: 10\n",
            "40.87928713865314 100.12417043314977\n"
          ]
        }
      ]
    },
    {
      "cell_type": "markdown",
      "source": [
        "**Exercises**"
      ],
      "metadata": {
        "id": "irLOxz6YPyea"
      }
    },
    {
      "cell_type": "markdown",
      "source": [
        "Exercise 1"
      ],
      "metadata": {
        "id": "_pLd1NlZPzWK"
      }
    },
    {
      "cell_type": "code",
      "source": [
        "def event_func(t, state, system):\n",
        "    x, y, vx, vy = state\n",
        "    return x - system.wall_distance\n",
        "system = make_system(params)\n",
        "event_func(0, system.init, system)"
      ],
      "metadata": {
        "colab": {
          "base_uri": "https://localhost:8080/"
        },
        "id": "UCzwMpIcP1QC",
        "outputId": "6a4081eb-90e4-466c-b180-49642fea94a6"
      },
      "execution_count": 13,
      "outputs": [
        {
          "output_type": "execute_result",
          "data": {
            "text/plain": [
              "-30.479999999999997"
            ]
          },
          "metadata": {},
          "execution_count": 13
        }
      ]
    },
    {
      "cell_type": "code",
      "source": [
        "def height_func(angle, params):\n",
        "    params = params.set(angle=angle)\n",
        "    system = make_system(params)\n",
        "\n",
        "    result, details = run_solve_ivp(system, slope_func, events=event_func)\n",
        "    height = result.iloc[-1].y\n",
        "    return height\n",
        "\n",
        "height_func(20, params)"
      ],
      "metadata": {
        "colab": {
          "base_uri": "https://localhost:8080/"
        },
        "id": "MpKRrjwjRHqJ",
        "outputId": "3053478e-a8df-4469-fee1-a625a5af50e2"
      },
      "execution_count": 16,
      "outputs": [
        {
          "output_type": "execute_result",
          "data": {
            "text/plain": [
              "8.442056202175186"
            ]
          },
          "metadata": {},
          "execution_count": 16
        }
      ]
    },
    {
      "cell_type": "code",
      "source": [
        "result = maximize_scalar(height_func, params, bounds=[0, 90])\n",
        "print(result)\n",
        "print(result.x, result.fun)"
      ],
      "metadata": {
        "colab": {
          "base_uri": "https://localhost:8080/"
        },
        "id": "HOkOMXzPRMNy",
        "outputId": "d01abaca-e0f9-4666-fd05-5208877712b4"
      },
      "execution_count": 17,
      "outputs": [
        {
          "output_type": "stream",
          "name": "stdout",
          "text": [
            " message: Solution found.\n",
            " success: True\n",
            "  status: 0\n",
            "     fun: 53.81682358983246\n",
            "       x: 73.41788421405457\n",
            "     nit: 14\n",
            "    nfev: 14\n",
            "73.41788421405457 53.81682358983246\n"
          ]
        }
      ]
    },
    {
      "cell_type": "code",
      "source": [
        "def error_func(speed, params):\n",
        "    params = params.set(speed=speed)\n",
        "    print(params.speed)\n",
        "    result = maximize_scalar(height_func, params, bounds=[0, 90])\n",
        "    return result.fun - params.wall_height\n",
        "\n",
        "print(error_func(20, params))\n",
        "print(error_func(30, params))"
      ],
      "metadata": {
        "colab": {
          "base_uri": "https://localhost:8080/"
        },
        "id": "cScWvUadRTnJ",
        "outputId": "d278d849-ee26-4bb5-bd1b-3797caf806b9"
      },
      "execution_count": 30,
      "outputs": [
        {
          "output_type": "stream",
          "name": "stdout",
          "text": [
            "20\n",
            "2.307989858234151\n",
            "30\n",
            "27.6476239804371\n"
          ]
        }
      ]
    }
  ]
}