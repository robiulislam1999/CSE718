{
  "nbformat": 4,
  "nbformat_minor": 0,
  "metadata": {
    "colab": {
      "provenance": [],
      "include_colab_link": true
    },
    "kernelspec": {
      "name": "python3",
      "display_name": "Python 3"
    },
    "language_info": {
      "name": "python"
    }
  },
  "cells": [
    {
      "cell_type": "markdown",
      "metadata": {
        "id": "view-in-github",
        "colab_type": "text"
      },
      "source": [
        "<a href=\"https://colab.research.google.com/github/robiulislam1999/CSE718/blob/main/chap05_file01.ipynb\" target=\"_parent\"><img src=\"https://colab.research.google.com/assets/colab-badge.svg\" alt=\"Open In Colab\"/></a>"
      ]
    },
    {
      "cell_type": "markdown",
      "source": [
        "**Examples**"
      ],
      "metadata": {
        "id": "zcJXByazPtrh"
      }
    },
    {
      "cell_type": "markdown",
      "source": [
        "World Population"
      ],
      "metadata": {
        "id": "9TuK5wQPPw4u"
      }
    },
    {
      "cell_type": "code",
      "execution_count": 1,
      "metadata": {
        "colab": {
          "base_uri": "https://localhost:8080/"
        },
        "id": "Riwpqb4bPie8",
        "outputId": "40a14a14-7c9f-4590-b312-716157d640b6"
      },
      "outputs": [
        {
          "output_type": "stream",
          "name": "stdout",
          "text": [
            "Collecting pint\n",
            "  Downloading Pint-0.23-py3-none-any.whl (305 kB)\n",
            "\u001b[?25l     \u001b[90m━━━━━━━━━━━━━━━━━━━━━━━━━━━━━━━━━━━━━━━━\u001b[0m \u001b[32m0.0/305.0 kB\u001b[0m \u001b[31m?\u001b[0m eta \u001b[36m-:--:--\u001b[0m\r\u001b[2K     \u001b[91m━━━━━━━━━━━━\u001b[0m\u001b[90m╺\u001b[0m\u001b[90m━━━━━━━━━━━━━━━━━━━━━━━━━━━\u001b[0m \u001b[32m92.2/305.0 kB\u001b[0m \u001b[31m2.6 MB/s\u001b[0m eta \u001b[36m0:00:01\u001b[0m\r\u001b[2K     \u001b[90m━━━━━━━━━━━━━━━━━━━━━━━━━━━━━━━━━━━━━━━━\u001b[0m \u001b[32m305.0/305.0 kB\u001b[0m \u001b[31m5.1 MB/s\u001b[0m eta \u001b[36m0:00:00\u001b[0m\n",
            "\u001b[?25hRequirement already satisfied: typing-extensions in /usr/local/lib/python3.10/dist-packages (from pint) (4.5.0)\n",
            "Installing collected packages: pint\n",
            "Successfully installed pint-0.23\n"
          ]
        }
      ],
      "source": [
        "# install Pint if necessary\n",
        "\n",
        "try:\n",
        "    import pint\n",
        "except ImportError:\n",
        "    !pip install pint"
      ]
    },
    {
      "cell_type": "code",
      "source": [
        "# download modsim.py if necessary\n",
        "\n",
        "from os.path import basename, exists\n",
        "\n",
        "def download(url):\n",
        "    filename = basename(url)\n",
        "    if not exists(filename):\n",
        "        from urllib.request import urlretrieve\n",
        "        local, _ = urlretrieve(url, filename)\n",
        "        print('Downloaded ' + local)\n",
        "\n",
        "download('https://raw.githubusercontent.com/AllenDowney/' +\n",
        "         'ModSimPy/master/modsim.py')"
      ],
      "metadata": {
        "colab": {
          "base_uri": "https://localhost:8080/"
        },
        "id": "muYyOJBAP014",
        "outputId": "a80a75b1-2a1a-4aab-9f0a-249b703d063b"
      },
      "execution_count": 2,
      "outputs": [
        {
          "output_type": "stream",
          "name": "stdout",
          "text": [
            "Downloaded modsim.py\n"
          ]
        }
      ]
    },
    {
      "cell_type": "code",
      "source": [
        "# import functions from modsim\n",
        "\n",
        "from modsim import *"
      ],
      "metadata": {
        "id": "IbHwK4oUP2iv"
      },
      "execution_count": 3,
      "outputs": []
    },
    {
      "cell_type": "markdown",
      "source": [
        "World Population Growth"
      ],
      "metadata": {
        "id": "ajn-G3_OP5U3"
      }
    },
    {
      "cell_type": "code",
      "source": [
        "download('https://raw.githubusercontent.com/AllenDowney/' +\n",
        "         'ModSimPy/master/data/World_population_estimates.html')"
      ],
      "metadata": {
        "colab": {
          "base_uri": "https://localhost:8080/"
        },
        "id": "1chnoCHrP33v",
        "outputId": "5a2880b8-a981-4dbe-ccf3-efbd9853fd44"
      },
      "execution_count": 4,
      "outputs": [
        {
          "output_type": "stream",
          "name": "stdout",
          "text": [
            "Downloaded World_population_estimates.html\n"
          ]
        }
      ]
    },
    {
      "cell_type": "code",
      "source": [
        "from pandas import read_html\n",
        "filename = 'World_population_estimates.html'\n",
        "tables = read_html(filename,\n",
        "                   header=0,\n",
        "                   index_col=0,\n",
        "                   decimal='M')\n",
        "table2 = tables[2]\n",
        "table2.head()"
      ],
      "metadata": {
        "colab": {
          "base_uri": "https://localhost:8080/",
          "height": 362
        },
        "id": "LMEnR_KMQUWF",
        "outputId": "84e8e5d8-0062-4c73-9071-cffc3f1c588a"
      },
      "execution_count": 5,
      "outputs": [
        {
          "output_type": "execute_result",
          "data": {
            "text/plain": [
              "      United States Census Bureau (2017)[28]  \\\n",
              "Year                                           \n",
              "1950                              2557628654   \n",
              "1951                              2594939877   \n",
              "1952                              2636772306   \n",
              "1953                              2682053389   \n",
              "1954                              2730228104   \n",
              "\n",
              "      Population Reference Bureau (1973–2016)[15]  \\\n",
              "Year                                                \n",
              "1950                                 2.516000e+09   \n",
              "1951                                          NaN   \n",
              "1952                                          NaN   \n",
              "1953                                          NaN   \n",
              "1954                                          NaN   \n",
              "\n",
              "      United Nations Department of Economic and Social Affairs (2015)[16]  \\\n",
              "Year                                                                        \n",
              "1950                                       2.525149e+09                     \n",
              "1951                                       2.572851e+09                     \n",
              "1952                                       2.619292e+09                     \n",
              "1953                                       2.665865e+09                     \n",
              "1954                                       2.713172e+09                     \n",
              "\n",
              "      Maddison (2008)[17]  HYDE (2007)[24]  Tanton (1994)[18]  \\\n",
              "Year                                                            \n",
              "1950         2.544000e+09     2.527960e+09       2.400000e+09   \n",
              "1951         2.571663e+09              NaN                NaN   \n",
              "1952         2.617949e+09              NaN                NaN   \n",
              "1953         2.665959e+09              NaN                NaN   \n",
              "1954         2.716927e+09              NaN                NaN   \n",
              "\n",
              "      Biraben (1980)[19]  McEvedy & Jones (1978)[20]  Thomlinson (1975)[21]  \\\n",
              "Year                                                                          \n",
              "1950        2.527000e+09                2.500000e+09           2.400000e+09   \n",
              "1951                 NaN                         NaN                    NaN   \n",
              "1952                 NaN                         NaN                    NaN   \n",
              "1953                 NaN                         NaN                    NaN   \n",
              "1954                 NaN                         NaN                    NaN   \n",
              "\n",
              "     Durand (1974)[22]  Clark (1967)[23]  \n",
              "Year                                      \n",
              "1950               NaN      2.486000e+09  \n",
              "1951               NaN               NaN  \n",
              "1952               NaN               NaN  \n",
              "1953               NaN               NaN  \n",
              "1954               NaN               NaN  "
            ],
            "text/html": [
              "\n",
              "  <div id=\"df-a7f329ca-a097-44db-be35-041d90046f02\" class=\"colab-df-container\">\n",
              "    <div>\n",
              "<style scoped>\n",
              "    .dataframe tbody tr th:only-of-type {\n",
              "        vertical-align: middle;\n",
              "    }\n",
              "\n",
              "    .dataframe tbody tr th {\n",
              "        vertical-align: top;\n",
              "    }\n",
              "\n",
              "    .dataframe thead th {\n",
              "        text-align: right;\n",
              "    }\n",
              "</style>\n",
              "<table border=\"1\" class=\"dataframe\">\n",
              "  <thead>\n",
              "    <tr style=\"text-align: right;\">\n",
              "      <th></th>\n",
              "      <th>United States Census Bureau (2017)[28]</th>\n",
              "      <th>Population Reference Bureau (1973–2016)[15]</th>\n",
              "      <th>United Nations Department of Economic and Social Affairs (2015)[16]</th>\n",
              "      <th>Maddison (2008)[17]</th>\n",
              "      <th>HYDE (2007)[24]</th>\n",
              "      <th>Tanton (1994)[18]</th>\n",
              "      <th>Biraben (1980)[19]</th>\n",
              "      <th>McEvedy &amp; Jones (1978)[20]</th>\n",
              "      <th>Thomlinson (1975)[21]</th>\n",
              "      <th>Durand (1974)[22]</th>\n",
              "      <th>Clark (1967)[23]</th>\n",
              "    </tr>\n",
              "    <tr>\n",
              "      <th>Year</th>\n",
              "      <th></th>\n",
              "      <th></th>\n",
              "      <th></th>\n",
              "      <th></th>\n",
              "      <th></th>\n",
              "      <th></th>\n",
              "      <th></th>\n",
              "      <th></th>\n",
              "      <th></th>\n",
              "      <th></th>\n",
              "      <th></th>\n",
              "    </tr>\n",
              "  </thead>\n",
              "  <tbody>\n",
              "    <tr>\n",
              "      <th>1950</th>\n",
              "      <td>2557628654</td>\n",
              "      <td>2.516000e+09</td>\n",
              "      <td>2.525149e+09</td>\n",
              "      <td>2.544000e+09</td>\n",
              "      <td>2.527960e+09</td>\n",
              "      <td>2.400000e+09</td>\n",
              "      <td>2.527000e+09</td>\n",
              "      <td>2.500000e+09</td>\n",
              "      <td>2.400000e+09</td>\n",
              "      <td>NaN</td>\n",
              "      <td>2.486000e+09</td>\n",
              "    </tr>\n",
              "    <tr>\n",
              "      <th>1951</th>\n",
              "      <td>2594939877</td>\n",
              "      <td>NaN</td>\n",
              "      <td>2.572851e+09</td>\n",
              "      <td>2.571663e+09</td>\n",
              "      <td>NaN</td>\n",
              "      <td>NaN</td>\n",
              "      <td>NaN</td>\n",
              "      <td>NaN</td>\n",
              "      <td>NaN</td>\n",
              "      <td>NaN</td>\n",
              "      <td>NaN</td>\n",
              "    </tr>\n",
              "    <tr>\n",
              "      <th>1952</th>\n",
              "      <td>2636772306</td>\n",
              "      <td>NaN</td>\n",
              "      <td>2.619292e+09</td>\n",
              "      <td>2.617949e+09</td>\n",
              "      <td>NaN</td>\n",
              "      <td>NaN</td>\n",
              "      <td>NaN</td>\n",
              "      <td>NaN</td>\n",
              "      <td>NaN</td>\n",
              "      <td>NaN</td>\n",
              "      <td>NaN</td>\n",
              "    </tr>\n",
              "    <tr>\n",
              "      <th>1953</th>\n",
              "      <td>2682053389</td>\n",
              "      <td>NaN</td>\n",
              "      <td>2.665865e+09</td>\n",
              "      <td>2.665959e+09</td>\n",
              "      <td>NaN</td>\n",
              "      <td>NaN</td>\n",
              "      <td>NaN</td>\n",
              "      <td>NaN</td>\n",
              "      <td>NaN</td>\n",
              "      <td>NaN</td>\n",
              "      <td>NaN</td>\n",
              "    </tr>\n",
              "    <tr>\n",
              "      <th>1954</th>\n",
              "      <td>2730228104</td>\n",
              "      <td>NaN</td>\n",
              "      <td>2.713172e+09</td>\n",
              "      <td>2.716927e+09</td>\n",
              "      <td>NaN</td>\n",
              "      <td>NaN</td>\n",
              "      <td>NaN</td>\n",
              "      <td>NaN</td>\n",
              "      <td>NaN</td>\n",
              "      <td>NaN</td>\n",
              "      <td>NaN</td>\n",
              "    </tr>\n",
              "  </tbody>\n",
              "</table>\n",
              "</div>\n",
              "    <div class=\"colab-df-buttons\">\n",
              "\n",
              "  <div class=\"colab-df-container\">\n",
              "    <button class=\"colab-df-convert\" onclick=\"convertToInteractive('df-a7f329ca-a097-44db-be35-041d90046f02')\"\n",
              "            title=\"Convert this dataframe to an interactive table.\"\n",
              "            style=\"display:none;\">\n",
              "\n",
              "  <svg xmlns=\"http://www.w3.org/2000/svg\" height=\"24px\" viewBox=\"0 -960 960 960\">\n",
              "    <path d=\"M120-120v-720h720v720H120Zm60-500h600v-160H180v160Zm220 220h160v-160H400v160Zm0 220h160v-160H400v160ZM180-400h160v-160H180v160Zm440 0h160v-160H620v160ZM180-180h160v-160H180v160Zm440 0h160v-160H620v160Z\"/>\n",
              "  </svg>\n",
              "    </button>\n",
              "\n",
              "  <style>\n",
              "    .colab-df-container {\n",
              "      display:flex;\n",
              "      gap: 12px;\n",
              "    }\n",
              "\n",
              "    .colab-df-convert {\n",
              "      background-color: #E8F0FE;\n",
              "      border: none;\n",
              "      border-radius: 50%;\n",
              "      cursor: pointer;\n",
              "      display: none;\n",
              "      fill: #1967D2;\n",
              "      height: 32px;\n",
              "      padding: 0 0 0 0;\n",
              "      width: 32px;\n",
              "    }\n",
              "\n",
              "    .colab-df-convert:hover {\n",
              "      background-color: #E2EBFA;\n",
              "      box-shadow: 0px 1px 2px rgba(60, 64, 67, 0.3), 0px 1px 3px 1px rgba(60, 64, 67, 0.15);\n",
              "      fill: #174EA6;\n",
              "    }\n",
              "\n",
              "    .colab-df-buttons div {\n",
              "      margin-bottom: 4px;\n",
              "    }\n",
              "\n",
              "    [theme=dark] .colab-df-convert {\n",
              "      background-color: #3B4455;\n",
              "      fill: #D2E3FC;\n",
              "    }\n",
              "\n",
              "    [theme=dark] .colab-df-convert:hover {\n",
              "      background-color: #434B5C;\n",
              "      box-shadow: 0px 1px 3px 1px rgba(0, 0, 0, 0.15);\n",
              "      filter: drop-shadow(0px 1px 2px rgba(0, 0, 0, 0.3));\n",
              "      fill: #FFFFFF;\n",
              "    }\n",
              "  </style>\n",
              "\n",
              "    <script>\n",
              "      const buttonEl =\n",
              "        document.querySelector('#df-a7f329ca-a097-44db-be35-041d90046f02 button.colab-df-convert');\n",
              "      buttonEl.style.display =\n",
              "        google.colab.kernel.accessAllowed ? 'block' : 'none';\n",
              "\n",
              "      async function convertToInteractive(key) {\n",
              "        const element = document.querySelector('#df-a7f329ca-a097-44db-be35-041d90046f02');\n",
              "        const dataTable =\n",
              "          await google.colab.kernel.invokeFunction('convertToInteractive',\n",
              "                                                    [key], {});\n",
              "        if (!dataTable) return;\n",
              "\n",
              "        const docLinkHtml = 'Like what you see? Visit the ' +\n",
              "          '<a target=\"_blank\" href=https://colab.research.google.com/notebooks/data_table.ipynb>data table notebook</a>'\n",
              "          + ' to learn more about interactive tables.';\n",
              "        element.innerHTML = '';\n",
              "        dataTable['output_type'] = 'display_data';\n",
              "        await google.colab.output.renderOutput(dataTable, element);\n",
              "        const docLink = document.createElement('div');\n",
              "        docLink.innerHTML = docLinkHtml;\n",
              "        element.appendChild(docLink);\n",
              "      }\n",
              "    </script>\n",
              "  </div>\n",
              "\n",
              "\n",
              "<div id=\"df-8778f5de-3b38-445f-852c-94b7475bfcea\">\n",
              "  <button class=\"colab-df-quickchart\" onclick=\"quickchart('df-8778f5de-3b38-445f-852c-94b7475bfcea')\"\n",
              "            title=\"Suggest charts\"\n",
              "            style=\"display:none;\">\n",
              "\n",
              "<svg xmlns=\"http://www.w3.org/2000/svg\" height=\"24px\"viewBox=\"0 0 24 24\"\n",
              "     width=\"24px\">\n",
              "    <g>\n",
              "        <path d=\"M19 3H5c-1.1 0-2 .9-2 2v14c0 1.1.9 2 2 2h14c1.1 0 2-.9 2-2V5c0-1.1-.9-2-2-2zM9 17H7v-7h2v7zm4 0h-2V7h2v10zm4 0h-2v-4h2v4z\"/>\n",
              "    </g>\n",
              "</svg>\n",
              "  </button>\n",
              "\n",
              "<style>\n",
              "  .colab-df-quickchart {\n",
              "      --bg-color: #E8F0FE;\n",
              "      --fill-color: #1967D2;\n",
              "      --hover-bg-color: #E2EBFA;\n",
              "      --hover-fill-color: #174EA6;\n",
              "      --disabled-fill-color: #AAA;\n",
              "      --disabled-bg-color: #DDD;\n",
              "  }\n",
              "\n",
              "  [theme=dark] .colab-df-quickchart {\n",
              "      --bg-color: #3B4455;\n",
              "      --fill-color: #D2E3FC;\n",
              "      --hover-bg-color: #434B5C;\n",
              "      --hover-fill-color: #FFFFFF;\n",
              "      --disabled-bg-color: #3B4455;\n",
              "      --disabled-fill-color: #666;\n",
              "  }\n",
              "\n",
              "  .colab-df-quickchart {\n",
              "    background-color: var(--bg-color);\n",
              "    border: none;\n",
              "    border-radius: 50%;\n",
              "    cursor: pointer;\n",
              "    display: none;\n",
              "    fill: var(--fill-color);\n",
              "    height: 32px;\n",
              "    padding: 0;\n",
              "    width: 32px;\n",
              "  }\n",
              "\n",
              "  .colab-df-quickchart:hover {\n",
              "    background-color: var(--hover-bg-color);\n",
              "    box-shadow: 0 1px 2px rgba(60, 64, 67, 0.3), 0 1px 3px 1px rgba(60, 64, 67, 0.15);\n",
              "    fill: var(--button-hover-fill-color);\n",
              "  }\n",
              "\n",
              "  .colab-df-quickchart-complete:disabled,\n",
              "  .colab-df-quickchart-complete:disabled:hover {\n",
              "    background-color: var(--disabled-bg-color);\n",
              "    fill: var(--disabled-fill-color);\n",
              "    box-shadow: none;\n",
              "  }\n",
              "\n",
              "  .colab-df-spinner {\n",
              "    border: 2px solid var(--fill-color);\n",
              "    border-color: transparent;\n",
              "    border-bottom-color: var(--fill-color);\n",
              "    animation:\n",
              "      spin 1s steps(1) infinite;\n",
              "  }\n",
              "\n",
              "  @keyframes spin {\n",
              "    0% {\n",
              "      border-color: transparent;\n",
              "      border-bottom-color: var(--fill-color);\n",
              "      border-left-color: var(--fill-color);\n",
              "    }\n",
              "    20% {\n",
              "      border-color: transparent;\n",
              "      border-left-color: var(--fill-color);\n",
              "      border-top-color: var(--fill-color);\n",
              "    }\n",
              "    30% {\n",
              "      border-color: transparent;\n",
              "      border-left-color: var(--fill-color);\n",
              "      border-top-color: var(--fill-color);\n",
              "      border-right-color: var(--fill-color);\n",
              "    }\n",
              "    40% {\n",
              "      border-color: transparent;\n",
              "      border-right-color: var(--fill-color);\n",
              "      border-top-color: var(--fill-color);\n",
              "    }\n",
              "    60% {\n",
              "      border-color: transparent;\n",
              "      border-right-color: var(--fill-color);\n",
              "    }\n",
              "    80% {\n",
              "      border-color: transparent;\n",
              "      border-right-color: var(--fill-color);\n",
              "      border-bottom-color: var(--fill-color);\n",
              "    }\n",
              "    90% {\n",
              "      border-color: transparent;\n",
              "      border-bottom-color: var(--fill-color);\n",
              "    }\n",
              "  }\n",
              "</style>\n",
              "\n",
              "  <script>\n",
              "    async function quickchart(key) {\n",
              "      const quickchartButtonEl =\n",
              "        document.querySelector('#' + key + ' button');\n",
              "      quickchartButtonEl.disabled = true;  // To prevent multiple clicks.\n",
              "      quickchartButtonEl.classList.add('colab-df-spinner');\n",
              "      try {\n",
              "        const charts = await google.colab.kernel.invokeFunction(\n",
              "            'suggestCharts', [key], {});\n",
              "      } catch (error) {\n",
              "        console.error('Error during call to suggestCharts:', error);\n",
              "      }\n",
              "      quickchartButtonEl.classList.remove('colab-df-spinner');\n",
              "      quickchartButtonEl.classList.add('colab-df-quickchart-complete');\n",
              "    }\n",
              "    (() => {\n",
              "      let quickchartButtonEl =\n",
              "        document.querySelector('#df-8778f5de-3b38-445f-852c-94b7475bfcea button');\n",
              "      quickchartButtonEl.style.display =\n",
              "        google.colab.kernel.accessAllowed ? 'block' : 'none';\n",
              "    })();\n",
              "  </script>\n",
              "</div>\n",
              "    </div>\n",
              "  </div>\n"
            ]
          },
          "metadata": {},
          "execution_count": 5
        }
      ]
    },
    {
      "cell_type": "code",
      "source": [
        "table2.columns = ['census', 'prb', 'un', 'maddison',\n",
        "                  'hyde', 'tanton', 'biraben', 'mj',\n",
        "                  'thomlinson', 'durand', 'clark']\n",
        "census = table2.census / 1e9\n",
        "census.tail()"
      ],
      "metadata": {
        "colab": {
          "base_uri": "https://localhost:8080/"
        },
        "id": "OhN832ALQcgk",
        "outputId": "3270899d-1ffe-483b-d62c-33ffa2727ef5"
      },
      "execution_count": 6,
      "outputs": [
        {
          "output_type": "execute_result",
          "data": {
            "text/plain": [
              "Year\n",
              "2012    7.013871\n",
              "2013    7.092128\n",
              "2014    7.169968\n",
              "2015    7.247893\n",
              "2016    7.325997\n",
              "Name: census, dtype: float64"
            ]
          },
          "metadata": {},
          "execution_count": 6
        }
      ]
    },
    {
      "cell_type": "code",
      "source": [
        "un = table2.un / 1e9\n",
        "un.tail()"
      ],
      "metadata": {
        "colab": {
          "base_uri": "https://localhost:8080/"
        },
        "id": "ymjQcBPRQgxr",
        "outputId": "4210e0e6-0b14-4047-f0a7-7ddda44bfe06"
      },
      "execution_count": 7,
      "outputs": [
        {
          "output_type": "execute_result",
          "data": {
            "text/plain": [
              "Year\n",
              "2012    7.080072\n",
              "2013    7.162119\n",
              "2014    7.243784\n",
              "2015    7.349472\n",
              "2016         NaN\n",
              "Name: un, dtype: float64"
            ]
          },
          "metadata": {},
          "execution_count": 7
        }
      ]
    },
    {
      "cell_type": "code",
      "source": [
        "def plot_estimates():\n",
        "    census.plot(style=':', label='US Census')\n",
        "    un.plot(style='--', label='UN DESA')\n",
        "    decorate(xlabel='Year',\n",
        "             ylabel='World population (billions)')\n",
        "plot_estimates()\n",
        "decorate(title='World population estimates')"
      ],
      "metadata": {
        "colab": {
          "base_uri": "https://localhost:8080/",
          "height": 309
        },
        "id": "rYY-aLKVQiqz",
        "outputId": "682e7bfa-a639-4300-e284-8dcba8d51015"
      },
      "execution_count": 8,
      "outputs": [
        {
          "output_type": "display_data",
          "data": {
            "text/plain": [
              "<Figure size 450x300 with 1 Axes>"
            ],
            "image/png": "[encoded data removed]"
          },
          "metadata": {}
        }
      ]
    },
    {
      "cell_type": "markdown",
      "source": [
        "Absolute and Relative Errors"
      ],
      "metadata": {
        "id": "NOE0l29TP6jH"
      }
    },
    {
      "cell_type": "code",
      "source": [
        "from numpy import abs\n",
        "abs_error = abs(un - census)\n",
        "abs_error.tail()"
      ],
      "metadata": {
        "colab": {
          "base_uri": "https://localhost:8080/"
        },
        "id": "GV5A2C3NP_T2",
        "outputId": "9dc63438-ab60-472e-fdc7-622d5a9ea5c0"
      },
      "execution_count": 9,
      "outputs": [
        {
          "output_type": "execute_result",
          "data": {
            "text/plain": [
              "Year\n",
              "2012    0.066201\n",
              "2013    0.069991\n",
              "2014    0.073816\n",
              "2015    0.101579\n",
              "2016         NaN\n",
              "dtype: float64"
            ]
          },
          "metadata": {},
          "execution_count": 9
        }
      ]
    },
    {
      "cell_type": "code",
      "source": [
        "from numpy import mean\n",
        "mean(abs_error)\n",
        "from numpy import max\n",
        "max(abs_error)\n",
        "rel_error = 100 * abs_error / census\n",
        "rel_error.tail()"
      ],
      "metadata": {
        "colab": {
          "base_uri": "https://localhost:8080/"
        },
        "id": "DfYMQUBpQrO6",
        "outputId": "0a2be889-7029-4246-f810-59deb657b870"
      },
      "execution_count": 10,
      "outputs": [
        {
          "output_type": "execute_result",
          "data": {
            "text/plain": [
              "Year\n",
              "2012    0.943860\n",
              "2013    0.986888\n",
              "2014    1.029514\n",
              "2015    1.401500\n",
              "2016         NaN\n",
              "dtype: float64"
            ]
          },
          "metadata": {},
          "execution_count": 10
        }
      ]
    },
    {
      "cell_type": "code",
      "source": [
        "mean(rel_error)"
      ],
      "metadata": {
        "colab": {
          "base_uri": "https://localhost:8080/"
        },
        "id": "QGinK_iPQxgp",
        "outputId": "999158c7-d864-4fb8-abc6-5d472f2a3584"
      },
      "execution_count": 11,
      "outputs": [
        {
          "output_type": "execute_result",
          "data": {
            "text/plain": [
              "0.5946585816022846"
            ]
          },
          "metadata": {},
          "execution_count": 11
        }
      ]
    },
    {
      "cell_type": "markdown",
      "source": [
        "Modeling Population Growth"
      ],
      "metadata": {
        "id": "PUtfT-5FP_9m"
      }
    },
    {
      "cell_type": "code",
      "source": [
        "census[1950]\n",
        "total_growth = census[2016] - census[1950]\n",
        "t_0 = census.index[0]\n",
        "t_0"
      ],
      "metadata": {
        "colab": {
          "base_uri": "https://localhost:8080/"
        },
        "id": "4DFDA7IdQD9W",
        "outputId": "d694694f-09f0-4115-88bf-981a7add0f39"
      },
      "execution_count": 12,
      "outputs": [
        {
          "output_type": "execute_result",
          "data": {
            "text/plain": [
              "1950"
            ]
          },
          "metadata": {},
          "execution_count": 12
        }
      ]
    },
    {
      "cell_type": "code",
      "source": [
        "t_end = census.index[-1]\n",
        "t_end"
      ],
      "metadata": {
        "colab": {
          "base_uri": "https://localhost:8080/"
        },
        "id": "iHQA8d92Q4eA",
        "outputId": "8427cb53-9466-4a38-8013-291c43fcfc27"
      },
      "execution_count": 13,
      "outputs": [
        {
          "output_type": "execute_result",
          "data": {
            "text/plain": [
              "2016"
            ]
          },
          "metadata": {},
          "execution_count": 13
        }
      ]
    },
    {
      "cell_type": "code",
      "source": [
        "elapsed_time = t_end - t_0\n",
        "elapsed_time"
      ],
      "metadata": {
        "colab": {
          "base_uri": "https://localhost:8080/"
        },
        "id": "PpemQJuPQ5yo",
        "outputId": "cedfbc7c-eba5-4832-8e0e-01b899e09a58"
      },
      "execution_count": 14,
      "outputs": [
        {
          "output_type": "execute_result",
          "data": {
            "text/plain": [
              "66"
            ]
          },
          "metadata": {},
          "execution_count": 14
        }
      ]
    },
    {
      "cell_type": "code",
      "source": [
        "p_0 = census[t_0]\n",
        "p_end = census[t_end]\n",
        "total_growth = p_end - p_0\n",
        "total_growth"
      ],
      "metadata": {
        "colab": {
          "base_uri": "https://localhost:8080/"
        },
        "id": "eIIO662tQ7ao",
        "outputId": "e9ab4ebc-7969-4b8d-b992-a1d6b10ccd05"
      },
      "execution_count": 15,
      "outputs": [
        {
          "output_type": "execute_result",
          "data": {
            "text/plain": [
              "4.768368055"
            ]
          },
          "metadata": {},
          "execution_count": 15
        }
      ]
    },
    {
      "cell_type": "code",
      "source": [
        "annual_growth = total_growth / elapsed_time\n",
        "annual_growth"
      ],
      "metadata": {
        "colab": {
          "base_uri": "https://localhost:8080/"
        },
        "id": "0P-HBz1wQ80o",
        "outputId": "aa8733ac-af4e-4456-f1ea-67a1a94843cb"
      },
      "execution_count": 16,
      "outputs": [
        {
          "output_type": "execute_result",
          "data": {
            "text/plain": [
              "0.07224800083333333"
            ]
          },
          "metadata": {},
          "execution_count": 16
        }
      ]
    },
    {
      "cell_type": "markdown",
      "source": [
        "Simulating Population Growth"
      ],
      "metadata": {
        "id": "l77GTWxkQEWN"
      }
    },
    {
      "cell_type": "code",
      "source": [
        "results = TimeSeries()\n",
        "results[t_0] = p_0\n",
        "show(results)"
      ],
      "metadata": {
        "colab": {
          "base_uri": "https://localhost:8080/",
          "height": 112
        },
        "id": "CV8OkJkCQIvV",
        "outputId": "07e7be91-1cf7-41d6-889e-4ebd48e6ce9e"
      },
      "execution_count": 17,
      "outputs": [
        {
          "output_type": "execute_result",
          "data": {
            "text/plain": [
              "      Quantity\n",
              "Time          \n",
              "1950  2.557629"
            ],
            "text/html": [
              "\n",
              "  <div id=\"df-3ecbe03c-9bcf-489e-bfc8-d7fead1aaf1c\" class=\"colab-df-container\">\n",
              "    <div>\n",
              "<style scoped>\n",
              "    .dataframe tbody tr th:only-of-type {\n",
              "        vertical-align: middle;\n",
              "    }\n",
              "\n",
              "    .dataframe tbody tr th {\n",
              "        vertical-align: top;\n",
              "    }\n",
              "\n",
              "    .dataframe thead th {\n",
              "        text-align: right;\n",
              "    }\n",
              "</style>\n",
              "<table border=\"1\" class=\"dataframe\">\n",
              "  <thead>\n",
              "    <tr style=\"text-align: right;\">\n",
              "      <th></th>\n",
              "      <th>Quantity</th>\n",
              "    </tr>\n",
              "    <tr>\n",
              "      <th>Time</th>\n",
              "      <th></th>\n",
              "    </tr>\n",
              "  </thead>\n",
              "  <tbody>\n",
              "    <tr>\n",
              "      <th>1950</th>\n",
              "      <td>2.557629</td>\n",
              "    </tr>\n",
              "  </tbody>\n",
              "</table>\n",
              "</div>\n",
              "    <div class=\"colab-df-buttons\">\n",
              "\n",
              "  <div class=\"colab-df-container\">\n",
              "    <button class=\"colab-df-convert\" onclick=\"convertToInteractive('df-3ecbe03c-9bcf-489e-bfc8-d7fead1aaf1c')\"\n",
              "            title=\"Convert this dataframe to an interactive table.\"\n",
              "            style=\"display:none;\">\n",
              "\n",
              "  <svg xmlns=\"http://www.w3.org/2000/svg\" height=\"24px\" viewBox=\"0 -960 960 960\">\n",
              "    <path d=\"M120-120v-720h720v720H120Zm60-500h600v-160H180v160Zm220 220h160v-160H400v160Zm0 220h160v-160H400v160ZM180-400h160v-160H180v160Zm440 0h160v-160H620v160ZM180-180h160v-160H180v160Zm440 0h160v-160H620v160Z\"/>\n",
              "  </svg>\n",
              "    </button>\n",
              "\n",
              "  <style>\n",
              "    .colab-df-container {\n",
              "      display:flex;\n",
              "      gap: 12px;\n",
              "    }\n",
              "\n",
              "    .colab-df-convert {\n",
              "      background-color: #E8F0FE;\n",
              "      border: none;\n",
              "      border-radius: 50%;\n",
              "      cursor: pointer;\n",
              "      display: none;\n",
              "      fill: #1967D2;\n",
              "      height: 32px;\n",
              "      padding: 0 0 0 0;\n",
              "      width: 32px;\n",
              "    }\n",
              "\n",
              "    .colab-df-convert:hover {\n",
              "      background-color: #E2EBFA;\n",
              "      box-shadow: 0px 1px 2px rgba(60, 64, 67, 0.3), 0px 1px 3px 1px rgba(60, 64, 67, 0.15);\n",
              "      fill: #174EA6;\n",
              "    }\n",
              "\n",
              "    .colab-df-buttons div {\n",
              "      margin-bottom: 4px;\n",
              "    }\n",
              "\n",
              "    [theme=dark] .colab-df-convert {\n",
              "      background-color: #3B4455;\n",
              "      fill: #D2E3FC;\n",
              "    }\n",
              "\n",
              "    [theme=dark] .colab-df-convert:hover {\n",
              "      background-color: #434B5C;\n",
              "      box-shadow: 0px 1px 3px 1px rgba(0, 0, 0, 0.15);\n",
              "      filter: drop-shadow(0px 1px 2px rgba(0, 0, 0, 0.3));\n",
              "      fill: #FFFFFF;\n",
              "    }\n",
              "  </style>\n",
              "\n",
              "    <script>\n",
              "      const buttonEl =\n",
              "        document.querySelector('#df-3ecbe03c-9bcf-489e-bfc8-d7fead1aaf1c button.colab-df-convert');\n",
              "      buttonEl.style.display =\n",
              "        google.colab.kernel.accessAllowed ? 'block' : 'none';\n",
              "\n",
              "      async function convertToInteractive(key) {\n",
              "        const element = document.querySelector('#df-3ecbe03c-9bcf-489e-bfc8-d7fead1aaf1c');\n",
              "        const dataTable =\n",
              "          await google.colab.kernel.invokeFunction('convertToInteractive',\n",
              "                                                    [key], {});\n",
              "        if (!dataTable) return;\n",
              "\n",
              "        const docLinkHtml = 'Like what you see? Visit the ' +\n",
              "          '<a target=\"_blank\" href=https://colab.research.google.com/notebooks/data_table.ipynb>data table notebook</a>'\n",
              "          + ' to learn more about interactive tables.';\n",
              "        element.innerHTML = '';\n",
              "        dataTable['output_type'] = 'display_data';\n",
              "        await google.colab.output.renderOutput(dataTable, element);\n",
              "        const docLink = document.createElement('div');\n",
              "        docLink.innerHTML = docLinkHtml;\n",
              "        element.appendChild(docLink);\n",
              "      }\n",
              "    </script>\n",
              "  </div>\n",
              "\n",
              "    </div>\n",
              "  </div>\n"
            ]
          },
          "metadata": {},
          "execution_count": 17
        }
      ]
    },
    {
      "cell_type": "code",
      "source": [
        "for t in range(t_0, t_end):\n",
        "    results[t+1] = results[t] + annual_growth\n",
        "results.plot(color='gray', label='model')\n",
        "plot_estimates()\n",
        "decorate(title='Constant growth model')"
      ],
      "metadata": {
        "colab": {
          "base_uri": "https://localhost:8080/",
          "height": 309
        },
        "id": "SfRpMZ-BRFxX",
        "outputId": "f1a2fe06-42c7-4d36-ba7d-23dd0acd3003"
      },
      "execution_count": 18,
      "outputs": [
        {
          "output_type": "display_data",
          "data": {
            "text/plain": [
              "<Figure size 450x300 with 1 Axes>"
            ],
            "image/png": "[encoded data removed]"
          },
          "metadata": {}
        }
      ]
    },
    {
      "cell_type": "markdown",
      "source": [
        "**Exercises**"
      ],
      "metadata": {
        "id": "1ll2eaeqQJ2e"
      }
    },
    {
      "cell_type": "markdown",
      "source": [
        "Exercise 1"
      ],
      "metadata": {
        "id": "uBQJG_BNQL_9"
      }
    },
    {
      "cell_type": "code",
      "source": [
        "total_growth = census[2016] - census[1970]\n",
        "t_0 = census.index[0]\n",
        "t_end = census.index[-1]\n",
        "elapsed_time = t_end - t_0\n",
        "total_growth = p_end - p_0\n",
        "annual_growth = total_growth / elapsed_time"
      ],
      "metadata": {
        "id": "VR50ilidSmKl"
      },
      "execution_count": 19,
      "outputs": []
    },
    {
      "cell_type": "code",
      "source": [
        "t_0 = census.index[0]\n",
        "t_end = census.index[-1]\n",
        "elapsed_time = t_end - t_0\n",
        "\n",
        "p_0 = census[t_0]\n",
        "p_end = census[t_end]\n",
        "\n",
        "total_growth = p_end - p_0\n",
        "annual_growth = total_growth / elapsed_time\n",
        "\n",
        "results = TimeSeries()\n",
        "results[t_0] = p_0\n",
        "\n",
        "for t in range(t_0, t_end):\n",
        "    results[t+1] = results[t] + annual_growth"
      ],
      "metadata": {
        "id": "ilqNx2yrQLaF"
      },
      "execution_count": 20,
      "outputs": []
    },
    {
      "cell_type": "code",
      "source": [
        "results.plot(color='gray', label='model')\n",
        "plot_estimates()\n",
        "decorate(title='Constant growth model')"
      ],
      "metadata": {
        "colab": {
          "base_uri": "https://localhost:8080/",
          "height": 309
        },
        "id": "Sr32xrOeRNM-",
        "outputId": "ddd7414e-ad4d-4fbd-cb80-2ea2ac25a060"
      },
      "execution_count": 21,
      "outputs": [
        {
          "output_type": "display_data",
          "data": {
            "text/plain": [
              "<Figure size 450x300 with 1 Axes>"
            ],
            "image/png": "[encoded data removed]"
          },
          "metadata": {}
        }
      ]
    },
    {
      "cell_type": "code",
      "source": [],
      "metadata": {
        "id": "JiQRb4i4a-4E"
      },
      "execution_count": 21,
      "outputs": []
    }
  ]
}