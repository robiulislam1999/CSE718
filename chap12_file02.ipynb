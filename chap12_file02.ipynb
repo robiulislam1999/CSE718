{
  "nbformat": 4,
  "nbformat_minor": 0,
  "metadata": {
    "colab": {
      "provenance": []
    },
    "kernelspec": {
      "name": "python3",
      "display_name": "Python 3"
    },
    "language_info": {
      "name": "python"
    }
  },
  "cells": [
    {
      "cell_type": "markdown",
      "source": [
        "**Examples**"
      ],
      "metadata": {
        "id": "y-kBZWrlxbPH"
      }
    },
    {
      "cell_type": "markdown",
      "source": [
        "Modeling Vaccination"
      ],
      "metadata": {
        "id": "gmPynjgfxbHf"
      }
    },
    {
      "cell_type": "code",
      "execution_count": 1,
      "metadata": {
        "colab": {
          "base_uri": "https://localhost:8080/"
        },
        "id": "Hmfi6-uXu82x",
        "outputId": "0f5e1000-6516-4076-f39c-a6e115a6557c"
      },
      "outputs": [
        {
          "output_type": "stream",
          "name": "stdout",
          "text": [
            "Downloaded modsim.py\n"
          ]
        }
      ],
      "source": [
        "from os.path import basename, exists\n",
        "def download(url):\n",
        "    filename = basename(url)\n",
        "    if not exists(filename):\n",
        "        from urllib.request import urlretrieve\n",
        "        local, _ = urlretrieve(url, filename)\n",
        "        print('Downloaded ' + local)\n",
        "download('https://github.com/AllenDowney/ModSimPy/raw/master/' +\n",
        "         'modsim.py')"
      ]
    },
    {
      "cell_type": "code",
      "source": [
        "from modsim import *"
      ],
      "metadata": {
        "id": "LCd-noKJxyUU"
      },
      "execution_count": 2,
      "outputs": []
    },
    {
      "cell_type": "code",
      "source": [
        "download('https://github.com/AllenDowney/ModSimPy/raw/master/chap11.py')"
      ],
      "metadata": {
        "colab": {
          "base_uri": "https://localhost:8080/"
        },
        "id": "Yja876P0x0G0",
        "outputId": "e917222c-567d-4dd6-847d-b8ae65c217a8"
      },
      "execution_count": 3,
      "outputs": [
        {
          "output_type": "stream",
          "name": "stdout",
          "text": [
            "Downloaded chap11.py\n"
          ]
        }
      ]
    },
    {
      "cell_type": "code",
      "source": [
        "from chap11 import make_system\n",
        "from chap11 import update_func\n",
        "from chap11 import run_simulation"
      ],
      "metadata": {
        "id": "85PJ5EKXx2AN"
      },
      "execution_count": 4,
      "outputs": []
    },
    {
      "cell_type": "markdown",
      "source": [
        "Immunization"
      ],
      "metadata": {
        "id": "L23XiQPoxgrt"
      }
    },
    {
      "cell_type": "code",
      "source": [
        "def add_immunization(system, fraction):\n",
        "    system.init.s += fraction\n",
        "    system.init.r -= fraction\n",
        "ct = 8\n",
        "rt = 1\n",
        "b = 1 / ct\n",
        "g = 1 / rt\n",
        "system = make_system(b, g)\n",
        "result = run_simulation(system, update_func)\n",
        "system_2 = make_system(b, g)\n",
        "add_immunization(system_2, 0.1)\n",
        "results = run_simulation(system_2, update_func)\n",
        "results.s.plot(style='.', label='No probs')\n",
        "results.s.plot(label='15 probs')\n",
        "decorate(xlabel='Persons',\n",
        "         ylabel='Population')"
      ],
      "metadata": {
        "colab": {
          "base_uri": "https://localhost:8080/",
          "height": 309
        },
        "id": "2WLC3BiQxhHe",
        "outputId": "f76b815c-4a42-4b8c-fc75-37d97c653f31"
      },
      "execution_count": 8,
      "outputs": [
        {
          "output_type": "display_data",
          "data": {
            "text/plain": [
              "<Figure size 450x300 with 1 Axes>"
            ],
            "image/png": "[encoded data removed]"
          },
          "metadata": {}
        }
      ]
    },
    {
      "cell_type": "markdown",
      "source": [
        "Metrics"
      ],
      "metadata": {
        "id": "SPF64MS3xmNV"
      }
    },
    {
      "cell_type": "code",
      "source": [
        "def calc_total_infected(results, system):\n",
        "    s_0 = results.s[0]\n",
        "    s_end = results.s[system.t_end]\n",
        "    return s_0 - s_end\n",
        "calc_total_infected(results, system)\n",
        "calc_total_infected(results, system_2)"
      ],
      "metadata": {
        "colab": {
          "base_uri": "https://localhost:8080/"
        },
        "id": "J1aazBJmxmp1",
        "outputId": "9fb8c3df-68ed-44fa-8173-2621ee7eaee7"
      },
      "execution_count": 9,
      "outputs": [
        {
          "output_type": "execute_result",
          "data": {
            "text/plain": [
              "0.0017502350137890144"
            ]
          },
          "metadata": {},
          "execution_count": 9
        }
      ]
    },
    {
      "cell_type": "markdown",
      "source": [
        "Sweeping Immunization"
      ],
      "metadata": {
        "id": "QMQEQW5Lxo8t"
      }
    },
    {
      "cell_type": "code",
      "source": [
        "def sweep_immunity(fraction_array):\n",
        "    sweep = SweepSeries()\n",
        "    for fraction in fraction_array:\n",
        "        system = make_system(b, g)\n",
        "        add_immunization(system, fraction)\n",
        "        results = run_simulation(system, update_func)\n",
        "        sweep[fraction] = calc_total_infected(results, system)\n",
        "    return sweep\n",
        "fraction_array = linspace(4, 8, 10)\n",
        "infected_sweep = sweep_immunity(fraction_array)\n",
        "infected_sweep.plot(color='blue')\n",
        "decorate(xlabel='solved',\n",
        "         ylabel='Total issues',\n",
        "         title='solved vs issue')"
      ],
      "metadata": {
        "colab": {
          "base_uri": "https://localhost:8080/",
          "height": 309
        },
        "id": "6IY9j97Rxpc8",
        "outputId": "6a6f280d-7524-42ad-cd41-eaaa7398a7a4"
      },
      "execution_count": 11,
      "outputs": [
        {
          "output_type": "display_data",
          "data": {
            "text/plain": [
              "<Figure size 450x300 with 1 Axes>"
            ],
            "image/png": "[encoded data removed]"
          },
          "metadata": {}
        }
      ]
    },
    {
      "cell_type": "markdown",
      "source": [
        "**Exercises**"
      ],
      "metadata": {
        "id": "Hi9WdtbUxp4k"
      }
    },
    {
      "cell_type": "markdown",
      "source": [
        "Exercise 1"
      ],
      "metadata": {
        "id": "ToDnDrr2xsTk"
      }
    },
    {
      "cell_type": "code",
      "source": [
        "def add_quarantine(system, fraction):\n",
        "    low = 4\n",
        "    high = 8\n",
        "    rt = high - fraction * (high-low)\n",
        "    system.gamma = 2 / rt\n",
        "def sweep_quarantine(fraction_array):\n",
        "    sweep = SweepSeries()\n",
        "    for fraction in fraction_array:\n",
        "        system = make_system(b, g)\n",
        "        add_quarantine(system, fraction)\n",
        "        results = run_simulation(system, update_func)\n",
        "        sweep[fraction] = calc_total_infected(results, system)\n",
        "    return sweep\n",
        "fraction_array = linspace(5, 10, 10)\n",
        "infected_sweep = sweep_quarantine(fraction_array)\n",
        "infected_sweep.plot(color='purple')\n",
        "decorate(xlabel='stopped',\n",
        "         ylabel='total freed',\n",
        "         title='freed vs stopped')"
      ],
      "metadata": {
        "colab": {
          "base_uri": "https://localhost:8080/",
          "height": 552
        },
        "id": "EdOw2taWxuL7",
        "outputId": "aa983fc2-1f2c-432c-fe0b-ff284612d57e"
      },
      "execution_count": 13,
      "outputs": [
        {
          "output_type": "stream",
          "name": "stderr",
          "text": [
            "/content/chap11.py:15: RuntimeWarning: overflow encountered in double_scalars\n",
            "  infected = system.beta * i * s\n",
            "/content/chap11.py:15: RuntimeWarning: overflow encountered in double_scalars\n",
            "  infected = system.beta * i * s\n",
            "/content/chap11.py:15: RuntimeWarning: overflow encountered in double_scalars\n",
            "  infected = system.beta * i * s\n",
            "/content/chap11.py:15: RuntimeWarning: overflow encountered in double_scalars\n",
            "  infected = system.beta * i * s\n",
            "/content/chap11.py:15: RuntimeWarning: overflow encountered in double_scalars\n",
            "  infected = system.beta * i * s\n",
            "/content/chap11.py:15: RuntimeWarning: overflow encountered in double_scalars\n",
            "  infected = system.beta * i * s\n",
            "/content/chap11.py:15: RuntimeWarning: overflow encountered in double_scalars\n",
            "  infected = system.beta * i * s\n"
          ]
        },
        {
          "output_type": "display_data",
          "data": {
            "text/plain": [
              "<Figure size 450x300 with 1 Axes>"
            ],
            "image/png": "[encoded data removed]"
          },
          "metadata": {}
        }
      ]
    }
  ]
}