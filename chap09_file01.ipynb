{
  "nbformat": 4,
  "nbformat_minor": 0,
  "metadata": {
    "colab": {
      "provenance": [],
      "include_colab_link": true
    },
    "kernelspec": {
      "name": "python3",
      "display_name": "Python 3"
    },
    "language_info": {
      "name": "python"
    }
  },
  "cells": [
    {
      "cell_type": "markdown",
      "metadata": {
        "id": "view-in-github",
        "colab_type": "text"
      },
      "source": [
        "<a href=\"https://colab.research.google.com/github/robiulislam1999/CSE718/blob/main/chap09_file01.ipynb\" target=\"_parent\"><img src=\"https://colab.research.google.com/assets/colab-badge.svg\" alt=\"Open In Colab\"/></a>"
      ]
    },
    {
      "cell_type": "markdown",
      "source": [
        "**Examples**"
      ],
      "metadata": {
        "id": "m8DcDuSHLIAD"
      }
    },
    {
      "cell_type": "markdown",
      "source": [
        "Analysis of Population Growth"
      ],
      "metadata": {
        "id": "1wL8V4CoLHuE"
      }
    },
    {
      "cell_type": "code",
      "execution_count": 1,
      "metadata": {
        "colab": {
          "base_uri": "https://localhost:8080/"
        },
        "id": "4RhKBlYrFl59",
        "outputId": "20619a04-1d97-4511-f623-2eeffca5959a"
      },
      "outputs": [
        {
          "output_type": "stream",
          "name": "stdout",
          "text": [
            "Collecting pint\n",
            "  Downloading Pint-0.23-py3-none-any.whl (305 kB)\n",
            "\u001b[2K     \u001b[90m━━━━━━━━━━━━━━━━━━━━━━━━━━━━━━━━━━━━━━━━\u001b[0m \u001b[32m305.0/305.0 kB\u001b[0m \u001b[31m5.6 MB/s\u001b[0m eta \u001b[36m0:00:00\u001b[0m\n",
            "\u001b[?25hRequirement already satisfied: typing-extensions in /usr/local/lib/python3.10/dist-packages (from pint) (4.5.0)\n",
            "Installing collected packages: pint\n",
            "Successfully installed pint-0.23\n"
          ]
        }
      ],
      "source": [
        "# install Pint if necessary\n",
        "\n",
        "try:\n",
        "    import pint\n",
        "except ImportError:\n",
        "    !pip install pint"
      ]
    },
    {
      "cell_type": "code",
      "source": [
        "# download modsim.py if necessary\n",
        "\n",
        "from os.path import basename, exists\n",
        "\n",
        "def download(url):\n",
        "    filename = basename(url)\n",
        "    if not exists(filename):\n",
        "        from urllib.request import urlretrieve\n",
        "        local, _ = urlretrieve(url, filename)\n",
        "        print('Downloaded ' + local)\n",
        "\n",
        "download('https://raw.githubusercontent.com/AllenDowney/' +\n",
        "         'ModSimPy/master/modsim.py')"
      ],
      "metadata": {
        "colab": {
          "base_uri": "https://localhost:8080/"
        },
        "id": "mFRM1_eBLNnC",
        "outputId": "5a96b530-b7a0-493f-a642-6dcc202e2674"
      },
      "execution_count": 2,
      "outputs": [
        {
          "output_type": "stream",
          "name": "stdout",
          "text": [
            "Downloaded modsim.py\n"
          ]
        }
      ]
    },
    {
      "cell_type": "code",
      "source": [
        "# import functions from modsim\n",
        "\n",
        "from modsim import *"
      ],
      "metadata": {
        "id": "YPbt1Sl_L9QP"
      },
      "execution_count": 3,
      "outputs": []
    },
    {
      "cell_type": "markdown",
      "source": [
        "Analysis with SymPy"
      ],
      "metadata": {
        "id": "slBy9oOtL_ql"
      }
    },
    {
      "cell_type": "code",
      "source": [
        "from sympy import symbols\n",
        "t = symbols('t')\n",
        "expr = t + 1\n",
        "expr"
      ],
      "metadata": {
        "colab": {
          "base_uri": "https://localhost:8080/",
          "height": 38
        },
        "id": "_5qvbDMRMALl",
        "outputId": "9e04eb84-f765-44bf-9800-8b9caa2f00ea"
      },
      "execution_count": 4,
      "outputs": [
        {
          "output_type": "execute_result",
          "data": {
            "text/plain": [
              "t + 1"
            ],
            "text/latex": "$\\displaystyle t + 1$"
          },
          "metadata": {},
          "execution_count": 4
        }
      ]
    },
    {
      "cell_type": "code",
      "source": [
        "expr.subs(t, 2)\n",
        "from sympy import Function\n",
        "f = Function('f')\n",
        "f"
      ],
      "metadata": {
        "colab": {
          "base_uri": "https://localhost:8080/"
        },
        "id": "BZGcGNHVMIYU",
        "outputId": "478d768c-3fa1-4185-8fb3-0209b25f5137"
      },
      "execution_count": 5,
      "outputs": [
        {
          "output_type": "execute_result",
          "data": {
            "text/plain": [
              "f"
            ]
          },
          "metadata": {},
          "execution_count": 5
        }
      ]
    },
    {
      "cell_type": "code",
      "source": [
        "f(t)"
      ],
      "metadata": {
        "colab": {
          "base_uri": "https://localhost:8080/",
          "height": 38
        },
        "id": "ONWv5uH0NZZc",
        "outputId": "50fe8598-50a6-4e5b-88c9-6164d91a1b91"
      },
      "execution_count": 6,
      "outputs": [
        {
          "output_type": "execute_result",
          "data": {
            "text/plain": [
              "f(t)"
            ],
            "text/latex": "$\\displaystyle f{\\left(t \\right)}$"
          },
          "metadata": {},
          "execution_count": 6
        }
      ]
    },
    {
      "cell_type": "markdown",
      "source": [
        "Differential Equations In SymPy"
      ],
      "metadata": {
        "id": "-awiDos0Nays"
      }
    },
    {
      "cell_type": "code",
      "source": [
        "from sympy import diff\n",
        "dfdt = diff(f(t), t)\n",
        "dfdt"
      ],
      "metadata": {
        "colab": {
          "base_uri": "https://localhost:8080/",
          "height": 52
        },
        "id": "CBQPUMFZNc6U",
        "outputId": "dd123e06-e6b9-4a1f-d19c-f033b0e66fe3"
      },
      "execution_count": 7,
      "outputs": [
        {
          "output_type": "execute_result",
          "data": {
            "text/plain": [
              "Derivative(f(t), t)"
            ],
            "text/latex": "$\\displaystyle \\frac{d}{d t} f{\\left(t \\right)}$"
          },
          "metadata": {},
          "execution_count": 7
        }
      ]
    },
    {
      "cell_type": "code",
      "source": [
        "from sympy import Eq\n",
        "alpha = symbols('alpha')\n",
        "eq1 = Eq(dfdt, alpha*f(t))\n",
        "eq1"
      ],
      "metadata": {
        "colab": {
          "base_uri": "https://localhost:8080/",
          "height": 52
        },
        "id": "JKnCMDnkNfmr",
        "outputId": "602d9adc-c729-451b-e985-b1113b378fcb"
      },
      "execution_count": 8,
      "outputs": [
        {
          "output_type": "execute_result",
          "data": {
            "text/plain": [
              "Eq(Derivative(f(t), t), alpha*f(t))"
            ],
            "text/latex": "$\\displaystyle \\frac{d}{d t} f{\\left(t \\right)} = \\alpha f{\\left(t \\right)}$"
          },
          "metadata": {},
          "execution_count": 8
        }
      ]
    },
    {
      "cell_type": "code",
      "source": [
        "from sympy import dsolve\n",
        "solution_eq = dsolve(eq1)\n",
        "solution_eq"
      ],
      "metadata": {
        "colab": {
          "base_uri": "https://localhost:8080/",
          "height": 38
        },
        "id": "BPmiGfdgNhKD",
        "outputId": "3a3bf45b-c108-4aa9-a3c6-2f9ddceadde9"
      },
      "execution_count": 9,
      "outputs": [
        {
          "output_type": "execute_result",
          "data": {
            "text/plain": [
              "Eq(f(t), C1*exp(alpha*t))"
            ],
            "text/latex": "$\\displaystyle f{\\left(t \\right)} = C_{1} e^{\\alpha t}$"
          },
          "metadata": {},
          "execution_count": 9
        }
      ]
    },
    {
      "cell_type": "code",
      "source": [
        "C1 = symbols('C1')\n",
        "particular = solution_eq.subs(C1, 1000)\n",
        "particular"
      ],
      "metadata": {
        "colab": {
          "base_uri": "https://localhost:8080/",
          "height": 38
        },
        "id": "SURTM69qNhCK",
        "outputId": "90c20977-43c8-4b43-b6cf-74618fa42d1a"
      },
      "execution_count": 10,
      "outputs": [
        {
          "output_type": "execute_result",
          "data": {
            "text/plain": [
              "Eq(f(t), 1000*exp(alpha*t))"
            ],
            "text/latex": "$\\displaystyle f{\\left(t \\right)} = 1000 e^{\\alpha t}$"
          },
          "metadata": {},
          "execution_count": 10
        }
      ]
    },
    {
      "cell_type": "code",
      "source": [
        "particular.subs(t, 0)"
      ],
      "metadata": {
        "colab": {
          "base_uri": "https://localhost:8080/",
          "height": 38
        },
        "id": "P32hPQPSNq2y",
        "outputId": "2efa4dbd-a38a-4a9e-d649-5f81fb101e96"
      },
      "execution_count": 11,
      "outputs": [
        {
          "output_type": "execute_result",
          "data": {
            "text/plain": [
              "Eq(f(0), 1000)"
            ],
            "text/latex": "$\\displaystyle f{\\left(0 \\right)} = 1000$"
          },
          "metadata": {},
          "execution_count": 11
        }
      ]
    },
    {
      "cell_type": "markdown",
      "source": [
        "Solving the Quadratic Growth Model"
      ],
      "metadata": {
        "id": "XoZKZ9z5Nsa4"
      }
    },
    {
      "cell_type": "code",
      "source": [
        "r, K = symbols('r K')\n",
        "eq2 = Eq(diff(f(t), t), r * f(t) * (1 - f(t)/K))\n",
        "eq2"
      ],
      "metadata": {
        "colab": {
          "base_uri": "https://localhost:8080/",
          "height": 58
        },
        "id": "Oo7hmgRzNu6R",
        "outputId": "9f75a6fd-6716-4915-8c08-ea25ddfb655b"
      },
      "execution_count": 12,
      "outputs": [
        {
          "output_type": "execute_result",
          "data": {
            "text/plain": [
              "Eq(Derivative(f(t), t), r*(1 - f(t)/K)*f(t))"
            ],
            "text/latex": "$\\displaystyle \\frac{d}{d t} f{\\left(t \\right)} = r \\left(1 - \\frac{f{\\left(t \\right)}}{K}\\right) f{\\left(t \\right)}$"
          },
          "metadata": {},
          "execution_count": 12
        }
      ]
    },
    {
      "cell_type": "code",
      "source": [
        "solution_eq = dsolve(eq2)\n",
        "solution_eq"
      ],
      "metadata": {
        "colab": {
          "base_uri": "https://localhost:8080/",
          "height": 56
        },
        "id": "SXD1P4pONycJ",
        "outputId": "5c079797-dd5c-4320-f961-6ebdb3f57557"
      },
      "execution_count": 13,
      "outputs": [
        {
          "output_type": "execute_result",
          "data": {
            "text/plain": [
              "Eq(f(t), K*exp(C1*K + r*t)/(exp(C1*K + r*t) - 1))"
            ],
            "text/latex": "$\\displaystyle f{\\left(t \\right)} = \\frac{K e^{C_{1} K + r t}}{e^{C_{1} K + r t} - 1}$"
          },
          "metadata": {},
          "execution_count": 13
        }
      ]
    },
    {
      "cell_type": "code",
      "source": [
        "general = solution_eq.rhs\n",
        "general"
      ],
      "metadata": {
        "colab": {
          "base_uri": "https://localhost:8080/",
          "height": 56
        },
        "id": "cfan8sjVN0RR",
        "outputId": "b4a40a26-c131-40f7-f11f-484c07a30431"
      },
      "execution_count": 14,
      "outputs": [
        {
          "output_type": "execute_result",
          "data": {
            "text/plain": [
              "K*exp(C1*K + r*t)/(exp(C1*K + r*t) - 1)"
            ],
            "text/latex": "$\\displaystyle \\frac{K e^{C_{1} K + r t}}{e^{C_{1} K + r t} - 1}$"
          },
          "metadata": {},
          "execution_count": 14
        }
      ]
    },
    {
      "cell_type": "code",
      "source": [
        "at_0 = general.subs(t, 0)\n",
        "at_0"
      ],
      "metadata": {
        "colab": {
          "base_uri": "https://localhost:8080/",
          "height": 56
        },
        "id": "03QPFDDEN0nK",
        "outputId": "97fe7d8d-60e9-4f3f-ec60-6a80e28040e5"
      },
      "execution_count": 15,
      "outputs": [
        {
          "output_type": "execute_result",
          "data": {
            "text/plain": [
              "K*exp(C1*K)/(exp(C1*K) - 1)"
            ],
            "text/latex": "$\\displaystyle \\frac{K e^{C_{1} K}}{e^{C_{1} K} - 1}$"
          },
          "metadata": {},
          "execution_count": 15
        }
      ]
    },
    {
      "cell_type": "code",
      "source": [
        "from sympy import solve\n",
        "p_0 = symbols('p_0')\n",
        "solutions = solve(Eq(at_0, p_0), C1)"
      ],
      "metadata": {
        "id": "ja4Ffj2iN8Sg"
      },
      "execution_count": 16,
      "outputs": []
    },
    {
      "cell_type": "code",
      "source": [
        "type(solutions), len(solutions)"
      ],
      "metadata": {
        "colab": {
          "base_uri": "https://localhost:8080/"
        },
        "id": "6nk9yS-kN9aY",
        "outputId": "70f73d19-e24e-40e7-ec61-dc8461576b0a"
      },
      "execution_count": 17,
      "outputs": [
        {
          "output_type": "execute_result",
          "data": {
            "text/plain": [
              "(list, 1)"
            ]
          },
          "metadata": {},
          "execution_count": 17
        }
      ]
    },
    {
      "cell_type": "code",
      "source": [
        "value_of_C1 = solutions[0]\n",
        "value_of_C1"
      ],
      "metadata": {
        "colab": {
          "base_uri": "https://localhost:8080/",
          "height": 66
        },
        "id": "_fNzRIErOAP4",
        "outputId": "19885bbf-daf7-45de-8bcd-c04aff8e2a2f"
      },
      "execution_count": 18,
      "outputs": [
        {
          "output_type": "execute_result",
          "data": {
            "text/plain": [
              "log(-p_0/(K - p_0))/K"
            ],
            "text/latex": "$\\displaystyle \\frac{\\log{\\left(- \\frac{p_{0}}{K - p_{0}} \\right)}}{K}$"
          },
          "metadata": {},
          "execution_count": 18
        }
      ]
    },
    {
      "cell_type": "code",
      "source": [
        "particular = general.subs(C1, value_of_C1)\n",
        "particular"
      ],
      "metadata": {
        "colab": {
          "base_uri": "https://localhost:8080/",
          "height": 71
        },
        "id": "-mrJ1kCXOAKf",
        "outputId": "0122e2c6-fe28-4068-84d2-768e376fe75a"
      },
      "execution_count": 19,
      "outputs": [
        {
          "output_type": "execute_result",
          "data": {
            "text/plain": [
              "-K*p_0*exp(r*t)/((K - p_0)*(-p_0*exp(r*t)/(K - p_0) - 1))"
            ],
            "text/latex": "$\\displaystyle - \\frac{K p_{0} e^{r t}}{\\left(K - p_{0}\\right) \\left(- \\frac{p_{0} e^{r t}}{K - p_{0}} - 1\\right)}$"
          },
          "metadata": {},
          "execution_count": 19
        }
      ]
    },
    {
      "cell_type": "code",
      "source": [
        "simpler = particular.simplify()\n",
        "simpler"
      ],
      "metadata": {
        "colab": {
          "base_uri": "https://localhost:8080/",
          "height": 57
        },
        "id": "HsgR-6xmOACQ",
        "outputId": "6f223eb3-f4d0-4c60-e40d-3192b2874dcc"
      },
      "execution_count": 20,
      "outputs": [
        {
          "output_type": "execute_result",
          "data": {
            "text/plain": [
              "K*p_0*exp(r*t)/(K + p_0*exp(r*t) - p_0)"
            ],
            "text/latex": "$\\displaystyle \\frac{K p_{0} e^{r t}}{K + p_{0} e^{r t} - p_{0}}$"
          },
          "metadata": {},
          "execution_count": 20
        }
      ]
    },
    {
      "cell_type": "code",
      "source": [
        "A = (K - p_0) / p_0\n",
        "A"
      ],
      "metadata": {
        "colab": {
          "base_uri": "https://localhost:8080/",
          "height": 55
        },
        "id": "mELXYadIOEj_",
        "outputId": "1c5e1504-8304-41dc-94e7-0a22eb974808"
      },
      "execution_count": 21,
      "outputs": [
        {
          "output_type": "execute_result",
          "data": {
            "text/plain": [
              "(K - p_0)/p_0"
            ],
            "text/latex": "$\\displaystyle \\frac{K - p_{0}}{p_{0}}$"
          },
          "metadata": {},
          "execution_count": 21
        }
      ]
    },
    {
      "cell_type": "code",
      "source": [
        "from sympy import exp\n",
        "logistic = K / (1 + A * exp(-r*t))\n",
        "logistic"
      ],
      "metadata": {
        "colab": {
          "base_uri": "https://localhost:8080/",
          "height": 63
        },
        "id": "5kLDSd4wOE_H",
        "outputId": "8d87c28a-54d1-47d5-90cd-8d895d2734f3"
      },
      "execution_count": 22,
      "outputs": [
        {
          "output_type": "execute_result",
          "data": {
            "text/plain": [
              "K/(1 + (K - p_0)*exp(-r*t)/p_0)"
            ],
            "text/latex": "$\\displaystyle \\frac{K}{1 + \\frac{\\left(K - p_{0}\\right) e^{- r t}}{p_{0}}}$"
          },
          "metadata": {},
          "execution_count": 22
        }
      ]
    },
    {
      "cell_type": "code",
      "source": [
        "(particular - logistic).simplify()"
      ],
      "metadata": {
        "colab": {
          "base_uri": "https://localhost:8080/",
          "height": 37
        },
        "id": "iZJBBVJIOHDG",
        "outputId": "b4c17afc-8cd9-4d26-8362-89cc6a103829"
      },
      "execution_count": 23,
      "outputs": [
        {
          "output_type": "execute_result",
          "data": {
            "text/plain": [
              "0"
            ],
            "text/latex": "$\\displaystyle 0$"
          },
          "metadata": {},
          "execution_count": 23
        }
      ]
    },
    {
      "cell_type": "code",
      "source": [
        "from sympy.printing.pycode import pycode\n",
        "pycode(simpler)"
      ],
      "metadata": {
        "colab": {
          "base_uri": "https://localhost:8080/",
          "height": 35
        },
        "id": "0l50JJAOOG9v",
        "outputId": "7d854d42-6fb8-4abb-b6c1-83933e0f71df"
      },
      "execution_count": 24,
      "outputs": [
        {
          "output_type": "execute_result",
          "data": {
            "text/plain": [
              "'K*p_0*math.exp(r*t)/(K + p_0*math.exp(r*t) - p_0)'"
            ],
            "application/vnd.google.colaboratory.intrinsic+json": {
              "type": "string"
            }
          },
          "metadata": {},
          "execution_count": 24
        }
      ]
    },
    {
      "cell_type": "markdown",
      "source": [
        "**Exercises**"
      ],
      "metadata": {
        "id": "0J9l_khhOLud"
      }
    },
    {
      "cell_type": "markdown",
      "source": [
        "Exercise 1"
      ],
      "metadata": {
        "id": "M6_NKAhgONhv"
      }
    },
    {
      "cell_type": "code",
      "source": [
        "a, b = symbols('alpha beta')\n",
        "eq = Eq(diff(f(t), t), a*f(t) + b*f(t)**2)\n",
        "print(eq)\n",
        "sol_eq = dsolve(eq)\n",
        "print(sol_eq)\n",
        "gen = sol_eq.rhs\n",
        "print(gen)\n",
        "at_0 = gen.subs(t, 0)\n",
        "sols = solve(Eq(at_0, p_0), C1)\n",
        "val_C1 = solutions[0]\n",
        "print(val_C1)\n",
        "part= general.subs(C1, val_C1)\n",
        "part.simplify()"
      ],
      "metadata": {
        "colab": {
          "base_uri": "https://localhost:8080/",
          "height": 128
        },
        "id": "Fcib-2P-OPTW",
        "outputId": "a301099f-7adc-4319-82a1-0b434a9586e4"
      },
      "execution_count": 25,
      "outputs": [
        {
          "output_type": "stream",
          "name": "stdout",
          "text": [
            "Eq(Derivative(f(t), t), alpha*f(t) + beta*f(t)**2)\n",
            "Eq(f(t), alpha*exp(alpha*(C1 + t))/(beta*(1 - exp(alpha*(C1 + t)))))\n",
            "alpha*exp(alpha*(C1 + t))/(beta*(1 - exp(alpha*(C1 + t))))\n",
            "log(-p_0/(K - p_0))/K\n"
          ]
        },
        {
          "output_type": "execute_result",
          "data": {
            "text/plain": [
              "K*p_0*exp(r*t)/(K + p_0*exp(r*t) - p_0)"
            ],
            "text/latex": "$\\displaystyle \\frac{K p_{0} e^{r t}}{K + p_{0} e^{r t} - p_{0}}$"
          },
          "metadata": {},
          "execution_count": 25
        }
      ]
    },
    {
      "cell_type": "code",
      "source": [],
      "metadata": {
        "id": "FGZY8OjikEtI"
      },
      "execution_count": 25,
      "outputs": []
    }
  ]
}